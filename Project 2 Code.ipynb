{
 "cells": [
  {
   "cell_type": "markdown",
   "id": "54dafa45-b2aa-4b0d-86a5-413e5dbe95fa",
   "metadata": {},
   "source": [
    "# Pepperdine Trading Capital Code"
   ]
  },
  {
   "cell_type": "code",
   "execution_count": 5,
   "id": "71314137-31e4-4dd1-8157-97a47e468b7c",
   "metadata": {},
   "outputs": [],
   "source": [
    "# Imports\n",
    "import os\n",
    "import pandas as pd\n",
    "from pathlib import Path\n",
    "from dotenv import load_dotenv\n",
    "import alpaca_trade_api as tradeapi\n",
    "from pandas.tseries.offsets import DateOffset\n",
    "from finta import TA\n",
    "import numpy as np\n",
    "import hvplot.pandas\n",
    "from sklearn.preprocessing import StandardScaler\n",
    "from sklearn import svm\n",
    "from sklearn.metrics import classification_report\n",
    "import xgboost as xgb\n",
    "from xgboost import XGBClassifier\n",
    "from sklearn.model_selection import GridSearchCV\n",
    "from sklearn.model_selection import StratifiedKFold"
   ]
  },
  {
   "cell_type": "code",
   "execution_count": 6,
   "id": "f877374e-dbe6-4a64-bc12-68548dec97cf",
   "metadata": {},
   "outputs": [
    {
     "name": "stderr",
     "output_type": "stream",
     "text": [
      "Python-dotenv could not parse statement starting at line 1\n"
     ]
    },
    {
     "data": {
      "text/plain": [
       "True"
      ]
     },
     "execution_count": 6,
     "metadata": {},
     "output_type": "execute_result"
    }
   ],
   "source": [
    "# Load .env environment variables\n",
    "env_path = Path(\"./alpaca_keys.env\")\n",
    "load_dotenv(dotenv_path=env_path)"
   ]
  },
  {
   "cell_type": "markdown",
   "id": "d15e3d2e-010b-4eb2-a432-a32121558531",
   "metadata": {},
   "source": [
    "##### Connect to Alpaca API and import data"
   ]
  },
  {
   "cell_type": "code",
   "execution_count": 7,
   "id": "0a0daa86-2ac8-4f26-afc8-8ee530d439ab",
   "metadata": {},
   "outputs": [],
   "source": [
    "# Create API variables\n",
    "API_KEY = os.getenv(\"ALPACA_API_KEY\")\n",
    "API_SECRET = os.getenv(\"ALPACA_SECRET_KEY\")\n",
    "ALPACA_API_BASE_URL = \"https://paper-api.alpaca.markets\""
   ]
  },
  {
   "cell_type": "code",
   "execution_count": 8,
   "id": "f09a244f-8a17-4e5d-8155-96c00e0eea39",
   "metadata": {},
   "outputs": [],
   "source": [
    "# Create a connection to the API \n",
    "alpaca = tradeapi.REST(\n",
    "    API_KEY,\n",
    "    API_SECRET,\n",
    "    ALPACA_API_BASE_URL,\n",
    "    api_version=\"v2\")"
   ]
  },
  {
   "cell_type": "code",
   "execution_count": 9,
   "id": "2e54c3a5-4991-4004-b868-4b5025fba5e6",
   "metadata": {},
   "outputs": [],
   "source": [
    "# Set the Bitcoin ticker\n",
    "btc_ticker = [\"BTCUSD\"]"
   ]
  },
  {
   "cell_type": "code",
   "execution_count": 10,
   "id": "2c13ec2c-0f9f-4df0-b38a-87ec55406f23",
   "metadata": {},
   "outputs": [],
   "source": [
    "# Set the timestamp parameter tz to \"America/New_York\", \n",
    "start_date = pd.Timestamp(\"2015-11-20\", tz=\"America/New_York\").isoformat()\n",
    "end_date = pd.Timestamp(\"2022-02-08\", tz=\"America/New_York\").isoformat()"
   ]
  },
  {
   "cell_type": "code",
   "execution_count": 11,
   "id": "af5e9952-5951-45b9-9dd0-07c48be2b6c7",
   "metadata": {},
   "outputs": [],
   "source": [
    "# Set timeframe to one day (1D) for the Alpaca API\n",
    "timeframe = \"1Day\""
   ]
  },
  {
   "cell_type": "markdown",
   "id": "35257bfb-de4e-49dd-90fa-7da3107f12b4",
   "metadata": {},
   "source": [
    "##### Preprocess Bitcoin Data"
   ]
  },
  {
   "cell_type": "code",
   "execution_count": 12,
   "id": "ceea2bb2-2053-4cad-b2f7-10cc1906fdc5",
   "metadata": {},
   "outputs": [
    {
     "data": {
      "text/html": [
       "<div>\n",
       "<style scoped>\n",
       "    .dataframe tbody tr th:only-of-type {\n",
       "        vertical-align: middle;\n",
       "    }\n",
       "\n",
       "    .dataframe tbody tr th {\n",
       "        vertical-align: top;\n",
       "    }\n",
       "\n",
       "    .dataframe thead th {\n",
       "        text-align: right;\n",
       "    }\n",
       "</style>\n",
       "<table border=\"1\" class=\"dataframe\">\n",
       "  <thead>\n",
       "    <tr style=\"text-align: right;\">\n",
       "      <th></th>\n",
       "      <th>exchange</th>\n",
       "      <th>open</th>\n",
       "      <th>high</th>\n",
       "      <th>low</th>\n",
       "      <th>close</th>\n",
       "      <th>volume</th>\n",
       "      <th>trade_count</th>\n",
       "      <th>vwap</th>\n",
       "      <th>symbol</th>\n",
       "    </tr>\n",
       "    <tr>\n",
       "      <th>timestamp</th>\n",
       "      <th></th>\n",
       "      <th></th>\n",
       "      <th></th>\n",
       "      <th></th>\n",
       "      <th></th>\n",
       "      <th></th>\n",
       "      <th></th>\n",
       "      <th></th>\n",
       "      <th></th>\n",
       "    </tr>\n",
       "  </thead>\n",
       "  <tbody>\n",
       "    <tr>\n",
       "      <th>2015-11-20 06:00:00+00:00</th>\n",
       "      <td>CBSE</td>\n",
       "      <td>322.39</td>\n",
       "      <td>324.99</td>\n",
       "      <td>316.33</td>\n",
       "      <td>324.99</td>\n",
       "      <td>2042.537728</td>\n",
       "      <td>2909</td>\n",
       "      <td>320.372700</td>\n",
       "      <td>BTCUSD</td>\n",
       "    </tr>\n",
       "    <tr>\n",
       "      <th>2015-11-21 06:00:00+00:00</th>\n",
       "      <td>CBSE</td>\n",
       "      <td>324.99</td>\n",
       "      <td>328.00</td>\n",
       "      <td>323.20</td>\n",
       "      <td>327.00</td>\n",
       "      <td>3083.421081</td>\n",
       "      <td>6219</td>\n",
       "      <td>325.926716</td>\n",
       "      <td>BTCUSD</td>\n",
       "    </tr>\n",
       "    <tr>\n",
       "      <th>2015-11-22 06:00:00+00:00</th>\n",
       "      <td>CBSE</td>\n",
       "      <td>323.72</td>\n",
       "      <td>324.17</td>\n",
       "      <td>322.48</td>\n",
       "      <td>322.78</td>\n",
       "      <td>1109.903368</td>\n",
       "      <td>1768</td>\n",
       "      <td>323.190987</td>\n",
       "      <td>BTCUSD</td>\n",
       "    </tr>\n",
       "    <tr>\n",
       "      <th>2015-11-23 06:00:00+00:00</th>\n",
       "      <td>CBSE</td>\n",
       "      <td>323.01</td>\n",
       "      <td>323.01</td>\n",
       "      <td>318.00</td>\n",
       "      <td>321.75</td>\n",
       "      <td>1349.480044</td>\n",
       "      <td>1807</td>\n",
       "      <td>320.906397</td>\n",
       "      <td>BTCUSD</td>\n",
       "    </tr>\n",
       "    <tr>\n",
       "      <th>2015-11-24 06:00:00+00:00</th>\n",
       "      <td>CBSE</td>\n",
       "      <td>320.96</td>\n",
       "      <td>321.23</td>\n",
       "      <td>316.26</td>\n",
       "      <td>318.85</td>\n",
       "      <td>1769.107382</td>\n",
       "      <td>2876</td>\n",
       "      <td>318.811281</td>\n",
       "      <td>BTCUSD</td>\n",
       "    </tr>\n",
       "  </tbody>\n",
       "</table>\n",
       "</div>"
      ],
      "text/plain": [
       "                          exchange    open    high     low   close  \\\n",
       "timestamp                                                            \n",
       "2015-11-20 06:00:00+00:00     CBSE  322.39  324.99  316.33  324.99   \n",
       "2015-11-21 06:00:00+00:00     CBSE  324.99  328.00  323.20  327.00   \n",
       "2015-11-22 06:00:00+00:00     CBSE  323.72  324.17  322.48  322.78   \n",
       "2015-11-23 06:00:00+00:00     CBSE  323.01  323.01  318.00  321.75   \n",
       "2015-11-24 06:00:00+00:00     CBSE  320.96  321.23  316.26  318.85   \n",
       "\n",
       "                                volume  trade_count        vwap  symbol  \n",
       "timestamp                                                                \n",
       "2015-11-20 06:00:00+00:00  2042.537728         2909  320.372700  BTCUSD  \n",
       "2015-11-21 06:00:00+00:00  3083.421081         6219  325.926716  BTCUSD  \n",
       "2015-11-22 06:00:00+00:00  1109.903368         1768  323.190987  BTCUSD  \n",
       "2015-11-23 06:00:00+00:00  1349.480044         1807  320.906397  BTCUSD  \n",
       "2015-11-24 06:00:00+00:00  1769.107382         2876  318.811281  BTCUSD  "
      ]
     },
     "metadata": {},
     "output_type": "display_data"
    },
    {
     "data": {
      "text/html": [
       "<div>\n",
       "<style scoped>\n",
       "    .dataframe tbody tr th:only-of-type {\n",
       "        vertical-align: middle;\n",
       "    }\n",
       "\n",
       "    .dataframe tbody tr th {\n",
       "        vertical-align: top;\n",
       "    }\n",
       "\n",
       "    .dataframe thead th {\n",
       "        text-align: right;\n",
       "    }\n",
       "</style>\n",
       "<table border=\"1\" class=\"dataframe\">\n",
       "  <thead>\n",
       "    <tr style=\"text-align: right;\">\n",
       "      <th></th>\n",
       "      <th>exchange</th>\n",
       "      <th>open</th>\n",
       "      <th>high</th>\n",
       "      <th>low</th>\n",
       "      <th>close</th>\n",
       "      <th>volume</th>\n",
       "      <th>trade_count</th>\n",
       "      <th>vwap</th>\n",
       "      <th>symbol</th>\n",
       "    </tr>\n",
       "    <tr>\n",
       "      <th>timestamp</th>\n",
       "      <th></th>\n",
       "      <th></th>\n",
       "      <th></th>\n",
       "      <th></th>\n",
       "      <th></th>\n",
       "      <th></th>\n",
       "      <th></th>\n",
       "      <th></th>\n",
       "      <th></th>\n",
       "    </tr>\n",
       "  </thead>\n",
       "  <tbody>\n",
       "    <tr>\n",
       "      <th>2022-02-03 06:00:00+00:00</th>\n",
       "      <td>CBSE</td>\n",
       "      <td>37019.85</td>\n",
       "      <td>37716.88</td>\n",
       "      <td>36259.01</td>\n",
       "      <td>37566.75</td>\n",
       "      <td>12950.951771</td>\n",
       "      <td>466412</td>\n",
       "      <td>36815.486865</td>\n",
       "      <td>BTCUSD</td>\n",
       "    </tr>\n",
       "    <tr>\n",
       "      <th>2022-02-04 06:00:00+00:00</th>\n",
       "      <td>CBSE</td>\n",
       "      <td>37568.90</td>\n",
       "      <td>41970.00</td>\n",
       "      <td>37318.00</td>\n",
       "      <td>41557.54</td>\n",
       "      <td>24502.567312</td>\n",
       "      <td>671826</td>\n",
       "      <td>39904.715624</td>\n",
       "      <td>BTCUSD</td>\n",
       "    </tr>\n",
       "    <tr>\n",
       "      <th>2022-02-05 06:00:00+00:00</th>\n",
       "      <td>CBSE</td>\n",
       "      <td>41559.01</td>\n",
       "      <td>41934.38</td>\n",
       "      <td>40955.40</td>\n",
       "      <td>41610.64</td>\n",
       "      <td>8115.040087</td>\n",
       "      <td>363293</td>\n",
       "      <td>41523.705514</td>\n",
       "      <td>BTCUSD</td>\n",
       "    </tr>\n",
       "    <tr>\n",
       "      <th>2022-02-06 06:00:00+00:00</th>\n",
       "      <td>CBSE</td>\n",
       "      <td>41610.65</td>\n",
       "      <td>43036.87</td>\n",
       "      <td>41135.39</td>\n",
       "      <td>42835.99</td>\n",
       "      <td>11326.596609</td>\n",
       "      <td>397149</td>\n",
       "      <td>42135.642534</td>\n",
       "      <td>BTCUSD</td>\n",
       "    </tr>\n",
       "    <tr>\n",
       "      <th>2022-02-07 06:00:00+00:00</th>\n",
       "      <td>CBSE</td>\n",
       "      <td>42835.26</td>\n",
       "      <td>45035.00</td>\n",
       "      <td>42258.61</td>\n",
       "      <td>44916.93</td>\n",
       "      <td>17605.802688</td>\n",
       "      <td>636403</td>\n",
       "      <td>43757.460174</td>\n",
       "      <td>BTCUSD</td>\n",
       "    </tr>\n",
       "  </tbody>\n",
       "</table>\n",
       "</div>"
      ],
      "text/plain": [
       "                          exchange      open      high       low     close  \\\n",
       "timestamp                                                                    \n",
       "2022-02-03 06:00:00+00:00     CBSE  37019.85  37716.88  36259.01  37566.75   \n",
       "2022-02-04 06:00:00+00:00     CBSE  37568.90  41970.00  37318.00  41557.54   \n",
       "2022-02-05 06:00:00+00:00     CBSE  41559.01  41934.38  40955.40  41610.64   \n",
       "2022-02-06 06:00:00+00:00     CBSE  41610.65  43036.87  41135.39  42835.99   \n",
       "2022-02-07 06:00:00+00:00     CBSE  42835.26  45035.00  42258.61  44916.93   \n",
       "\n",
       "                                 volume  trade_count          vwap  symbol  \n",
       "timestamp                                                                   \n",
       "2022-02-03 06:00:00+00:00  12950.951771       466412  36815.486865  BTCUSD  \n",
       "2022-02-04 06:00:00+00:00  24502.567312       671826  39904.715624  BTCUSD  \n",
       "2022-02-05 06:00:00+00:00   8115.040087       363293  41523.705514  BTCUSD  \n",
       "2022-02-06 06:00:00+00:00  11326.596609       397149  42135.642534  BTCUSD  \n",
       "2022-02-07 06:00:00+00:00  17605.802688       636403  43757.460174  BTCUSD  "
      ]
     },
     "metadata": {},
     "output_type": "display_data"
    }
   ],
   "source": [
    "# Use the Alpaca get_crypto_bars function to gather the price information for BITCOIN\n",
    "btc_data_df = alpaca.get_crypto_bars(\n",
    "    btc_ticker,\n",
    "    timeframe,\n",
    "    start = start_date,\n",
    "    end = end_date,\n",
    "    exchanges = 'CBSE'\n",
    ").df\n",
    "\n",
    "# Review the DataFrame\n",
    "display(btc_data_df.head())\n",
    "display(btc_data_df.tail())"
   ]
  },
  {
   "cell_type": "code",
   "execution_count": 13,
   "id": "69a09ea6-5df9-4623-b08d-b2283b1a2ce9",
   "metadata": {},
   "outputs": [
    {
     "data": {
      "text/html": [
       "<div>\n",
       "<style scoped>\n",
       "    .dataframe tbody tr th:only-of-type {\n",
       "        vertical-align: middle;\n",
       "    }\n",
       "\n",
       "    .dataframe tbody tr th {\n",
       "        vertical-align: top;\n",
       "    }\n",
       "\n",
       "    .dataframe thead th {\n",
       "        text-align: right;\n",
       "    }\n",
       "</style>\n",
       "<table border=\"1\" class=\"dataframe\">\n",
       "  <thead>\n",
       "    <tr style=\"text-align: right;\">\n",
       "      <th></th>\n",
       "      <th>open</th>\n",
       "      <th>high</th>\n",
       "      <th>low</th>\n",
       "      <th>close</th>\n",
       "      <th>volume</th>\n",
       "    </tr>\n",
       "  </thead>\n",
       "  <tbody>\n",
       "    <tr>\n",
       "      <th>2015-11-20</th>\n",
       "      <td>322.39</td>\n",
       "      <td>324.99</td>\n",
       "      <td>316.33</td>\n",
       "      <td>324.99</td>\n",
       "      <td>2042.537728</td>\n",
       "    </tr>\n",
       "    <tr>\n",
       "      <th>2015-11-21</th>\n",
       "      <td>324.99</td>\n",
       "      <td>328.00</td>\n",
       "      <td>323.20</td>\n",
       "      <td>327.00</td>\n",
       "      <td>3083.421081</td>\n",
       "    </tr>\n",
       "    <tr>\n",
       "      <th>2015-11-22</th>\n",
       "      <td>323.72</td>\n",
       "      <td>324.17</td>\n",
       "      <td>322.48</td>\n",
       "      <td>322.78</td>\n",
       "      <td>1109.903368</td>\n",
       "    </tr>\n",
       "    <tr>\n",
       "      <th>2015-11-23</th>\n",
       "      <td>323.01</td>\n",
       "      <td>323.01</td>\n",
       "      <td>318.00</td>\n",
       "      <td>321.75</td>\n",
       "      <td>1349.480044</td>\n",
       "    </tr>\n",
       "    <tr>\n",
       "      <th>2015-11-24</th>\n",
       "      <td>320.96</td>\n",
       "      <td>321.23</td>\n",
       "      <td>316.26</td>\n",
       "      <td>318.85</td>\n",
       "      <td>1769.107382</td>\n",
       "    </tr>\n",
       "  </tbody>\n",
       "</table>\n",
       "</div>"
      ],
      "text/plain": [
       "              open    high     low   close       volume\n",
       "2015-11-20  322.39  324.99  316.33  324.99  2042.537728\n",
       "2015-11-21  324.99  328.00  323.20  327.00  3083.421081\n",
       "2015-11-22  323.72  324.17  322.48  322.78  1109.903368\n",
       "2015-11-23  323.01  323.01  318.00  321.75  1349.480044\n",
       "2015-11-24  320.96  321.23  316.26  318.85  1769.107382"
      ]
     },
     "metadata": {},
     "output_type": "display_data"
    }
   ],
   "source": [
    "# Create a new dataframe in OHLCV format\n",
    "btc_prices_df = btc_data_df.drop(columns = ['exchange', 'trade_count', 'vwap', 'symbol'])\n",
    "\n",
    "# Change the index to datetime format\n",
    "btc_prices_df.index =btc_prices_df.index.date\n",
    "\n",
    "# Review the DataFrame\n",
    "display(btc_prices_df.head(5))"
   ]
  },
  {
   "cell_type": "markdown",
   "id": "456aeedd-0aeb-49b2-86c8-525f5d6b994f",
   "metadata": {},
   "source": [
    "### The \"HODL Strategy\" gains"
   ]
  },
  {
   "cell_type": "code",
   "execution_count": 14,
   "id": "7969bf90-55b3-483c-bc41-7174e787cef8",
   "metadata": {},
   "outputs": [],
   "source": [
    "# Define the start and end date for the HODL strategy\n",
    "startdate_hodl =  pd.to_datetime(\"2016-12-24\").date()\n",
    "enddate_hodl = pd.to_datetime(\"2022-02-08\").date()"
   ]
  },
  {
   "cell_type": "code",
   "execution_count": 15,
   "id": "bcc7091f-fc92-48ef-8318-0245c2d73d2c",
   "metadata": {},
   "outputs": [
    {
     "data": {
      "text/html": [
       "<div>\n",
       "<style scoped>\n",
       "    .dataframe tbody tr th:only-of-type {\n",
       "        vertical-align: middle;\n",
       "    }\n",
       "\n",
       "    .dataframe tbody tr th {\n",
       "        vertical-align: top;\n",
       "    }\n",
       "\n",
       "    .dataframe thead th {\n",
       "        text-align: right;\n",
       "    }\n",
       "</style>\n",
       "<table border=\"1\" class=\"dataframe\">\n",
       "  <thead>\n",
       "    <tr style=\"text-align: right;\">\n",
       "      <th></th>\n",
       "      <th>open</th>\n",
       "      <th>high</th>\n",
       "      <th>low</th>\n",
       "      <th>close</th>\n",
       "      <th>volume</th>\n",
       "      <th>Actual Returns</th>\n",
       "    </tr>\n",
       "  </thead>\n",
       "  <tbody>\n",
       "    <tr>\n",
       "      <th>2016-12-25</th>\n",
       "      <td>876.45</td>\n",
       "      <td>897.40</td>\n",
       "      <td>851.11</td>\n",
       "      <td>896.12</td>\n",
       "      <td>3439.397208</td>\n",
       "      <td>0.022431</td>\n",
       "    </tr>\n",
       "    <tr>\n",
       "      <th>2016-12-26</th>\n",
       "      <td>902.08</td>\n",
       "      <td>903.00</td>\n",
       "      <td>895.00</td>\n",
       "      <td>898.95</td>\n",
       "      <td>855.589004</td>\n",
       "      <td>0.003158</td>\n",
       "    </tr>\n",
       "    <tr>\n",
       "      <th>2016-12-27</th>\n",
       "      <td>925.28</td>\n",
       "      <td>948.99</td>\n",
       "      <td>923.95</td>\n",
       "      <td>942.73</td>\n",
       "      <td>2319.854766</td>\n",
       "      <td>0.048701</td>\n",
       "    </tr>\n",
       "    <tr>\n",
       "      <th>2016-12-28</th>\n",
       "      <td>982.25</td>\n",
       "      <td>988.88</td>\n",
       "      <td>970.76</td>\n",
       "      <td>981.91</td>\n",
       "      <td>2850.629363</td>\n",
       "      <td>0.041560</td>\n",
       "    </tr>\n",
       "    <tr>\n",
       "      <th>2016-12-29</th>\n",
       "      <td>970.51</td>\n",
       "      <td>970.51</td>\n",
       "      <td>949.00</td>\n",
       "      <td>950.49</td>\n",
       "      <td>2030.405944</td>\n",
       "      <td>-0.031999</td>\n",
       "    </tr>\n",
       "  </tbody>\n",
       "</table>\n",
       "</div>"
      ],
      "text/plain": [
       "              open    high     low   close       volume  Actual Returns\n",
       "2016-12-25  876.45  897.40  851.11  896.12  3439.397208        0.022431\n",
       "2016-12-26  902.08  903.00  895.00  898.95   855.589004        0.003158\n",
       "2016-12-27  925.28  948.99  923.95  942.73  2319.854766        0.048701\n",
       "2016-12-28  982.25  988.88  970.76  981.91  2850.629363        0.041560\n",
       "2016-12-29  970.51  970.51  949.00  950.49  2030.405944       -0.031999"
      ]
     },
     "execution_count": 15,
     "metadata": {},
     "output_type": "execute_result"
    }
   ],
   "source": [
    "# Create the HODL strategy dataframe \n",
    "btc_prices_hodl = btc_prices_df.loc[startdate_hodl:enddate_hodl].copy()\n",
    "\n",
    "# Add the Actual returns column to indicate daily percentage change in closing price\n",
    "btc_prices_hodl[\"Actual Returns\"] = btc_prices_hodl[\"close\"].pct_change()\n",
    "\n",
    "# Drop null values\n",
    "btc_prices_hodl=btc_prices_hodl.dropna()\n",
    "\n",
    "# Review the DataFrame\n",
    "btc_prices_hodl.head()"
   ]
  },
  {
   "cell_type": "code",
   "execution_count": 16,
   "id": "6191ae10-1739-4a19-a65f-e240ebe0d690",
   "metadata": {},
   "outputs": [
    {
     "data": {
      "text/plain": [
       "51.248123131688736"
      ]
     },
     "execution_count": 16,
     "metadata": {},
     "output_type": "execute_result"
    }
   ],
   "source": [
    "# Calculate the cumulative returns of the HODL Strategy\n",
    "cum_returns_hodl = (1 + btc_prices_hodl[\"Actual Returns\"]).cumprod()\n",
    "\n",
    "# Review the Results\n",
    "cum_returns_hodl[-1]"
   ]
  },
  {
   "cell_type": "code",
   "execution_count": 17,
   "id": "3f7b3f91-c1fd-4f24-96b9-745e5827f04d",
   "metadata": {},
   "outputs": [
    {
     "data": {
      "text/plain": [
       "0.04403474301384851"
      ]
     },
     "execution_count": 17,
     "metadata": {},
     "output_type": "execute_result"
    }
   ],
   "source": [
    "# Use the describe function to calulate the daily standard deviation\n",
    "btc_prices_hodl[\"Actual Returns\"].describe()['std']"
   ]
  },
  {
   "cell_type": "markdown",
   "id": "3cf57d45-5978-4b22-8263-7a66b098cca9",
   "metadata": {},
   "source": [
    "## PTC team standard investment approaches"
   ]
  },
  {
   "cell_type": "markdown",
   "id": "99187cf7-d605-4d0f-b7ac-2819474a4e90",
   "metadata": {},
   "source": [
    "#### 5 Day SMA crossing the 23 day SMA"
   ]
  },
  {
   "cell_type": "code",
   "execution_count": 18,
   "id": "5a7feae3-3d94-4b99-83b6-0657de00da61",
   "metadata": {},
   "outputs": [],
   "source": [
    "# Define the start and end date for the 5 day and 23 day SMA strategy\n",
    "startdate_sma523 =  pd.to_datetime(\"2016-12-03\").date()\n",
    "enddate_sma523 = pd.to_datetime(\"2022-02-08\").date()"
   ]
  },
  {
   "cell_type": "code",
   "execution_count": 19,
   "id": "d4aa2b34-d5e7-4935-acfc-4f77698bf1d0",
   "metadata": {},
   "outputs": [],
   "source": [
    "# Create the 5 day and 23 day SMA strategy dataframe \n",
    "btc_prices_sma523 = btc_prices_df.loc[startdate_sma523:enddate_sma523].copy()"
   ]
  },
  {
   "cell_type": "code",
   "execution_count": 20,
   "id": "36bcbeb5-c853-4082-b3ac-1daf2a3cf52c",
   "metadata": {},
   "outputs": [],
   "source": [
    "# Use finta library to create the 5 day SMA and 23 day SMA columns\n",
    "btc_prices_sma523[\"sma5\"] = TA.SMA(btc_prices_sma523, 5) \n",
    "btc_prices_sma523[\"sma23\"] = TA.SMA(btc_prices_sma523, 23) \n",
    "\n",
    "# Add the Actual Returns column to indicate daily percentage change in closing price\n",
    "btc_prices_sma523[\"Actual Returns\"] = btc_prices_sma523[\"close\"].pct_change()"
   ]
  },
  {
   "cell_type": "code",
   "execution_count": 21,
   "id": "8c4b59e8-b9de-48f7-864e-122c1bd00134",
   "metadata": {},
   "outputs": [
    {
     "data": {
      "text/html": [
       "<div>\n",
       "<style scoped>\n",
       "    .dataframe tbody tr th:only-of-type {\n",
       "        vertical-align: middle;\n",
       "    }\n",
       "\n",
       "    .dataframe tbody tr th {\n",
       "        vertical-align: top;\n",
       "    }\n",
       "\n",
       "    .dataframe thead th {\n",
       "        text-align: right;\n",
       "    }\n",
       "</style>\n",
       "<table border=\"1\" class=\"dataframe\">\n",
       "  <thead>\n",
       "    <tr style=\"text-align: right;\">\n",
       "      <th></th>\n",
       "      <th>sma5</th>\n",
       "      <th>sma23</th>\n",
       "      <th>Actual Returns</th>\n",
       "      <th>sma523_pred</th>\n",
       "    </tr>\n",
       "  </thead>\n",
       "  <tbody>\n",
       "    <tr>\n",
       "      <th>2016-12-25</th>\n",
       "      <td>884.928</td>\n",
       "      <td>799.247391</td>\n",
       "      <td>0.022431</td>\n",
       "      <td>1.0</td>\n",
       "    </tr>\n",
       "    <tr>\n",
       "      <th>2016-12-26</th>\n",
       "      <td>895.534</td>\n",
       "      <td>804.982174</td>\n",
       "      <td>0.003158</td>\n",
       "      <td>1.0</td>\n",
       "    </tr>\n",
       "    <tr>\n",
       "      <th>2016-12-27</th>\n",
       "      <td>905.382</td>\n",
       "      <td>813.150435</td>\n",
       "      <td>0.048701</td>\n",
       "      <td>1.0</td>\n",
       "    </tr>\n",
       "    <tr>\n",
       "      <th>2016-12-28</th>\n",
       "      <td>919.234</td>\n",
       "      <td>822.989565</td>\n",
       "      <td>0.041560</td>\n",
       "      <td>1.0</td>\n",
       "    </tr>\n",
       "    <tr>\n",
       "      <th>2016-12-29</th>\n",
       "      <td>934.040</td>\n",
       "      <td>831.280435</td>\n",
       "      <td>-0.031999</td>\n",
       "      <td>1.0</td>\n",
       "    </tr>\n",
       "  </tbody>\n",
       "</table>\n",
       "</div>"
      ],
      "text/plain": [
       "               sma5       sma23  Actual Returns  sma523_pred\n",
       "2016-12-25  884.928  799.247391        0.022431          1.0\n",
       "2016-12-26  895.534  804.982174        0.003158          1.0\n",
       "2016-12-27  905.382  813.150435        0.048701          1.0\n",
       "2016-12-28  919.234  822.989565        0.041560          1.0\n",
       "2016-12-29  934.040  831.280435       -0.031999          1.0"
      ]
     },
     "metadata": {},
     "output_type": "display_data"
    }
   ],
   "source": [
    "# Create a new dataframe that drops the OHLCV columns\n",
    "btc_signals_sma523 = btc_prices_sma523.drop(columns = ['close','open', 'high', 'low','volume'])\n",
    "\n",
    "# Drop null values\n",
    "btc_signals_sma523= btc_signals_sma523.dropna()\n",
    "\n",
    "# Generate the predictions columns using 0 or 1, where 1 indicates that sma5 is greater than the sma23 and 0 is when the condition is not met\n",
    "btc_signals_sma523[\"sma523_pred\"] = np.where(\n",
    "    btc_signals_sma523[\"sma5\"]> btc_signals_sma523[\"sma23\"], 1.0, 0.0\n",
    ")\n",
    "\n",
    "# Review the DataFrame\n",
    "display(btc_signals_sma523.head())"
   ]
  },
  {
   "cell_type": "code",
   "execution_count": 22,
   "id": "042c939c-62b0-412c-a053-cb5d604d6808",
   "metadata": {},
   "outputs": [
    {
     "data": {
      "text/plain": [
       "256.9830249102026"
      ]
     },
     "execution_count": 22,
     "metadata": {},
     "output_type": "execute_result"
    }
   ],
   "source": [
    "# Calculate the cumulative returns of the HODL Strategy\n",
    "sma523_strategy_returns = (1 + btc_signals_sma523[\"sma523_pred\"] * btc_signals_sma523[\"Actual Returns\"]).cumprod()\n",
    "\n",
    "# Review the Results\n",
    "sma523_strategy_returns[-1]"
   ]
  },
  {
   "cell_type": "code",
   "execution_count": 23,
   "id": "80f4425c-a355-4fc3-8824-3d24203f4516",
   "metadata": {},
   "outputs": [
    {
     "data": {
      "text/plain": [
       "0.04383798888046262"
      ]
     },
     "execution_count": 23,
     "metadata": {},
     "output_type": "execute_result"
    }
   ],
   "source": [
    "# Use the describe function to calulate the daily standard deviation\n",
    "btc_prices_sma523[\"Actual Returns\"].describe()['std']"
   ]
  },
  {
   "cell_type": "code",
   "execution_count": 24,
   "id": "1b8962f6-d6be-4bfa-a911-47d1cc861837",
   "metadata": {},
   "outputs": [],
   "source": [
    "# Create a signal column for ML trading strategy 1\n",
    "btc_signals_sma523['signal'] = (btc_signals_sma523[\"Actual Returns\"] > 0).astype(int).copy()"
   ]
  },
  {
   "cell_type": "markdown",
   "id": "9f4ee41f-4ded-4563-8f23-3132b20612ad",
   "metadata": {},
   "source": [
    "#### 20 Day SMA crossing the 50 Day SMA"
   ]
  },
  {
   "cell_type": "code",
   "execution_count": 25,
   "id": "f9269f04-ab06-4e02-821a-62836f08010e",
   "metadata": {},
   "outputs": [],
   "source": [
    "# Define the start and end date for the 20 day and 50 day SMA strategy\n",
    "startdate_sma2050 =  pd.to_datetime(\"2016-11-06\").date()\n",
    "enddate_sma2050 = pd.to_datetime(\"2022-02-08\").date()"
   ]
  },
  {
   "cell_type": "code",
   "execution_count": 26,
   "id": "b9ac5b44-2374-4607-ab5d-631f1c39f075",
   "metadata": {},
   "outputs": [],
   "source": [
    "# Create the 20 day and 50 day SMA strategy dataframe \n",
    "btc_prices_sma2050 = btc_prices_df.loc[startdate_sma2050:enddate_sma2050].copy()"
   ]
  },
  {
   "cell_type": "code",
   "execution_count": 27,
   "id": "493a011c-008e-4b2b-8bda-4f7e52403775",
   "metadata": {},
   "outputs": [],
   "source": [
    "# Use finta library to create the 20 day SMA and 50 day SMA columns\n",
    "btc_prices_sma2050[\"sma20\"] = TA.SMA(btc_prices_sma2050, 20) \n",
    "btc_prices_sma2050[\"sma50\"] = TA.SMA(btc_prices_sma2050, 50) \n",
    "\n",
    "# Add the Actual Returns column to indicate daily percentage change in closing price\n",
    "btc_prices_sma2050[\"Actual Returns\"] = btc_prices_sma2050[\"close\"].pct_change()"
   ]
  },
  {
   "cell_type": "code",
   "execution_count": 28,
   "id": "1d655cfe-5e4d-4231-bef1-f7411707ec66",
   "metadata": {},
   "outputs": [
    {
     "data": {
      "text/html": [
       "<div>\n",
       "<style scoped>\n",
       "    .dataframe tbody tr th:only-of-type {\n",
       "        vertical-align: middle;\n",
       "    }\n",
       "\n",
       "    .dataframe tbody tr th {\n",
       "        vertical-align: top;\n",
       "    }\n",
       "\n",
       "    .dataframe thead th {\n",
       "        text-align: right;\n",
       "    }\n",
       "</style>\n",
       "<table border=\"1\" class=\"dataframe\">\n",
       "  <thead>\n",
       "    <tr style=\"text-align: right;\">\n",
       "      <th></th>\n",
       "      <th>sma20</th>\n",
       "      <th>sma50</th>\n",
       "      <th>Actual Returns</th>\n",
       "      <th>sma2050_pred</th>\n",
       "    </tr>\n",
       "  </thead>\n",
       "  <tbody>\n",
       "    <tr>\n",
       "      <th>2016-12-25</th>\n",
       "      <td>805.2585</td>\n",
       "      <td>762.2482</td>\n",
       "      <td>0.022431</td>\n",
       "      <td>1.0</td>\n",
       "    </tr>\n",
       "    <tr>\n",
       "      <th>2016-12-26</th>\n",
       "      <td>812.2160</td>\n",
       "      <td>766.0236</td>\n",
       "      <td>0.003158</td>\n",
       "      <td>1.0</td>\n",
       "    </tr>\n",
       "    <tr>\n",
       "      <th>2016-12-27</th>\n",
       "      <td>821.1180</td>\n",
       "      <td>770.7312</td>\n",
       "      <td>0.048701</td>\n",
       "      <td>1.0</td>\n",
       "    </tr>\n",
       "    <tr>\n",
       "      <th>2016-12-28</th>\n",
       "      <td>831.7875</td>\n",
       "      <td>775.4696</td>\n",
       "      <td>0.041560</td>\n",
       "      <td>1.0</td>\n",
       "    </tr>\n",
       "    <tr>\n",
       "      <th>2016-12-29</th>\n",
       "      <td>840.6940</td>\n",
       "      <td>780.1254</td>\n",
       "      <td>-0.031999</td>\n",
       "      <td>1.0</td>\n",
       "    </tr>\n",
       "  </tbody>\n",
       "</table>\n",
       "</div>"
      ],
      "text/plain": [
       "               sma20     sma50  Actual Returns  sma2050_pred\n",
       "2016-12-25  805.2585  762.2482        0.022431           1.0\n",
       "2016-12-26  812.2160  766.0236        0.003158           1.0\n",
       "2016-12-27  821.1180  770.7312        0.048701           1.0\n",
       "2016-12-28  831.7875  775.4696        0.041560           1.0\n",
       "2016-12-29  840.6940  780.1254       -0.031999           1.0"
      ]
     },
     "metadata": {},
     "output_type": "display_data"
    }
   ],
   "source": [
    "# Create a new dataframe that drops the OHLCV columns\n",
    "btc_signals_sma2050 = btc_prices_sma2050.drop(columns = ['close','open', 'high', 'low','volume'])\n",
    "\n",
    "# Drop null values\n",
    "btc_signals_sma2050= btc_signals_sma2050.dropna()\n",
    "\n",
    "# Generate the predictions columns using 0 or 1, where 1 indicates that sma20 is greater than the sma50 and 0 is when the condition is not met\n",
    "btc_signals_sma2050[\"sma2050_pred\"] = np.where(\n",
    "    btc_signals_sma2050[\"sma20\"]> btc_signals_sma2050[\"sma50\"], 1.0, 0.0\n",
    ")\n",
    "\n",
    "# Review the DataFrame\n",
    "display(btc_signals_sma2050.head())"
   ]
  },
  {
   "cell_type": "code",
   "execution_count": 29,
   "id": "59f6ace8-86c2-4eb1-bd79-2a1869b92ede",
   "metadata": {},
   "outputs": [
    {
     "data": {
      "text/plain": [
       "57.33127099443229"
      ]
     },
     "execution_count": 29,
     "metadata": {},
     "output_type": "execute_result"
    }
   ],
   "source": [
    "# Calculate the cumulative returns of the the 20 day and 50 day SMA strategy\n",
    "sma2050_strategy_returns = (1 + btc_signals_sma2050[\"sma2050_pred\"] * btc_signals_sma2050[\"Actual Returns\"]).cumprod()\n",
    "\n",
    "# Review the Results\n",
    "sma2050_strategy_returns[-1]"
   ]
  },
  {
   "cell_type": "code",
   "execution_count": 30,
   "id": "f266bc5d-579a-4175-8bea-8d66639e4c20",
   "metadata": {},
   "outputs": [
    {
     "data": {
      "text/plain": [
       "0.043575387300434365"
      ]
     },
     "execution_count": 30,
     "metadata": {},
     "output_type": "execute_result"
    }
   ],
   "source": [
    "# Use the describe function to calulate the daily standard deviation\n",
    "btc_prices_sma2050[\"Actual Returns\"].describe()['std']"
   ]
  },
  {
   "cell_type": "code",
   "execution_count": 31,
   "id": "bb2e3b0d-6348-4468-a991-805272a5583a",
   "metadata": {},
   "outputs": [],
   "source": [
    "# Create a signal column for ML trading strategy 2\n",
    "btc_signals_sma2050['signal'] = (btc_signals_sma2050[\"Actual Returns\"] > 0).astype(int).copy()"
   ]
  },
  {
   "cell_type": "markdown",
   "id": "0a9e97f9-2c40-4d71-8efe-edce7de80922",
   "metadata": {},
   "source": [
    "#### 200 Day SMA crossing the 400 Day SMA"
   ]
  },
  {
   "cell_type": "code",
   "execution_count": 32,
   "id": "347d1b9c-e665-4501-9668-8bcce8dfa5ea",
   "metadata": {},
   "outputs": [],
   "source": [
    "# Define the start and end date for the 200 day and 400 day SMA strategy\n",
    "startdate_sma200400 =  pd.to_datetime(\"2015-11-22\").date()\n",
    "enddate_sma200400 = pd.to_datetime(\"2022-02-08\").date()"
   ]
  },
  {
   "cell_type": "code",
   "execution_count": 33,
   "id": "c4bdb2bc-cf7b-48de-9f43-1f93e2cd582b",
   "metadata": {},
   "outputs": [],
   "source": [
    "# Create the 200 day and 400 day SMA strategy dataframe \n",
    "btc_prices_sma200400 = btc_prices_df.loc[startdate_sma200400:enddate_sma200400].copy()"
   ]
  },
  {
   "cell_type": "code",
   "execution_count": 34,
   "id": "4ae98fba-30c3-4a35-a9e1-0c2fc6b4aa87",
   "metadata": {},
   "outputs": [],
   "source": [
    "# Use finta library to create the 200 day SMA and 400 day SMA columns\n",
    "btc_prices_sma200400[\"sma200\"] = TA.SMA(btc_prices_sma200400, 200) \n",
    "btc_prices_sma200400[\"sma400\"] = TA.SMA(btc_prices_sma200400, 400) \n",
    "\n",
    "# Add the Actual Returns column to indicate daily percentage change in closing price\n",
    "btc_prices_sma200400[\"Actual Returns\"] = btc_prices_sma200400[\"close\"].pct_change()"
   ]
  },
  {
   "cell_type": "code",
   "execution_count": 35,
   "id": "1acf1631-dc7f-4396-a017-87d9ec7c5331",
   "metadata": {},
   "outputs": [
    {
     "data": {
      "text/html": [
       "<div>\n",
       "<style scoped>\n",
       "    .dataframe tbody tr th:only-of-type {\n",
       "        vertical-align: middle;\n",
       "    }\n",
       "\n",
       "    .dataframe tbody tr th {\n",
       "        vertical-align: top;\n",
       "    }\n",
       "\n",
       "    .dataframe thead th {\n",
       "        text-align: right;\n",
       "    }\n",
       "</style>\n",
       "<table border=\"1\" class=\"dataframe\">\n",
       "  <thead>\n",
       "    <tr style=\"text-align: right;\">\n",
       "      <th></th>\n",
       "      <th>sma200</th>\n",
       "      <th>sma400</th>\n",
       "      <th>Actual Returns</th>\n",
       "      <th>sma200400_pred</th>\n",
       "    </tr>\n",
       "  </thead>\n",
       "  <tbody>\n",
       "    <tr>\n",
       "      <th>2016-12-25</th>\n",
       "      <td>666.24325</td>\n",
       "      <td>547.066650</td>\n",
       "      <td>0.022431</td>\n",
       "      <td>1.0</td>\n",
       "    </tr>\n",
       "    <tr>\n",
       "      <th>2016-12-26</th>\n",
       "      <td>667.85070</td>\n",
       "      <td>548.507075</td>\n",
       "      <td>0.003158</td>\n",
       "      <td>1.0</td>\n",
       "    </tr>\n",
       "    <tr>\n",
       "      <th>2016-12-27</th>\n",
       "      <td>669.63585</td>\n",
       "      <td>550.059525</td>\n",
       "      <td>0.048701</td>\n",
       "      <td>1.0</td>\n",
       "    </tr>\n",
       "    <tr>\n",
       "      <th>2016-12-28</th>\n",
       "      <td>671.36040</td>\n",
       "      <td>551.717175</td>\n",
       "      <td>0.041560</td>\n",
       "      <td>1.0</td>\n",
       "    </tr>\n",
       "    <tr>\n",
       "      <th>2016-12-29</th>\n",
       "      <td>672.72355</td>\n",
       "      <td>553.262675</td>\n",
       "      <td>-0.031999</td>\n",
       "      <td>1.0</td>\n",
       "    </tr>\n",
       "  </tbody>\n",
       "</table>\n",
       "</div>"
      ],
      "text/plain": [
       "               sma200      sma400  Actual Returns  sma200400_pred\n",
       "2016-12-25  666.24325  547.066650        0.022431             1.0\n",
       "2016-12-26  667.85070  548.507075        0.003158             1.0\n",
       "2016-12-27  669.63585  550.059525        0.048701             1.0\n",
       "2016-12-28  671.36040  551.717175        0.041560             1.0\n",
       "2016-12-29  672.72355  553.262675       -0.031999             1.0"
      ]
     },
     "metadata": {},
     "output_type": "display_data"
    }
   ],
   "source": [
    "# Create a new dataframe that drops the OHLCV columns\n",
    "btc_signals_sma200400 = btc_prices_sma200400.drop(columns = ['close','open', 'high', 'low','volume'])\n",
    "\n",
    "# Drop null values\n",
    "btc_signals_sma200400= btc_signals_sma200400.dropna()\n",
    "\n",
    "# Generate the predictions columns using 0 or 1, where 1 indicates that sma200 is greater than the sma400 and 0 is when the condition is not met\n",
    "btc_signals_sma200400[\"sma200400_pred\"] = np.where(\n",
    "    btc_signals_sma200400[\"sma200\"]> btc_signals_sma200400[\"sma400\"], 1.0, 0.0\n",
    ")\n",
    "\n",
    "# Review the DataFrame\n",
    "display(btc_signals_sma200400.head())"
   ]
  },
  {
   "cell_type": "code",
   "execution_count": 36,
   "id": "7b2afdaa-f25b-4342-8bbe-d12e295fa819",
   "metadata": {},
   "outputs": [
    {
     "data": {
      "text/plain": [
       "20.09519645576306"
      ]
     },
     "execution_count": 36,
     "metadata": {},
     "output_type": "execute_result"
    }
   ],
   "source": [
    "# Calculate the cumulative returns of the the 200 day and 400 day SMA strategy\n",
    "sma200400_strategy_returns = (1 + btc_signals_sma200400[\"sma200400_pred\"] * btc_signals_sma200400[\"Actual Returns\"]).cumprod()\n",
    "\n",
    "# Review the Results\n",
    "sma200400_strategy_returns[-1]"
   ]
  },
  {
   "cell_type": "code",
   "execution_count": 37,
   "id": "2e061a2e-5e76-4ab3-993e-630fa0108e8f",
   "metadata": {},
   "outputs": [
    {
     "data": {
      "text/plain": [
       "0.04144709580087043"
      ]
     },
     "execution_count": 37,
     "metadata": {},
     "output_type": "execute_result"
    }
   ],
   "source": [
    "# Use the describe function to calulate the daily standard deviation\n",
    "btc_prices_sma200400[\"Actual Returns\"].describe()['std']"
   ]
  },
  {
   "cell_type": "code",
   "execution_count": 38,
   "id": "a40fcd27-c667-4c7a-9be6-c1cebca2423a",
   "metadata": {},
   "outputs": [],
   "source": [
    "# Create a signal column for ML trading strategy 3\n",
    "btc_signals_sma200400['signal'] = (btc_signals_sma200400[\"Actual Returns\"] > 0).astype(int).copy()"
   ]
  },
  {
   "cell_type": "markdown",
   "id": "c4e91041-d8b0-40cc-b7e1-be4670877f39",
   "metadata": {},
   "source": [
    "#### 8 Day EMA crossing the 34 Day EMA"
   ]
  },
  {
   "cell_type": "code",
   "execution_count": 39,
   "id": "88644f27-dd6e-4875-bcf6-8361bcd51a9f",
   "metadata": {},
   "outputs": [],
   "source": [
    "# Define the start and end date for the 8 day and 34 day EMA strategy\n",
    "startdate_ema834 =  pd.to_datetime(\"2016-12-24\").date()\n",
    "enddate_ema834 = pd.to_datetime(\"2022-02-08\").date()"
   ]
  },
  {
   "cell_type": "code",
   "execution_count": 40,
   "id": "1c72e5a3-2b6c-4aa1-8ca2-9acf3342909c",
   "metadata": {},
   "outputs": [],
   "source": [
    "# Create the 8 day and 34 day EMA strategy dataframe \n",
    "btc_prices_ema834 = btc_prices_df.loc[startdate_ema834:enddate_ema834].copy()"
   ]
  },
  {
   "cell_type": "code",
   "execution_count": 41,
   "id": "b8de5a34-8238-4dff-93cf-1cefb1b5c518",
   "metadata": {},
   "outputs": [],
   "source": [
    "# Use finta library to create the 8 day EMA and 34 day EMA columns\n",
    "btc_prices_ema834[\"ema8\"] = TA.EMA(btc_prices_ema834, 8) \n",
    "btc_prices_ema834[\"ema34\"] = TA.EMA(btc_prices_ema834, 34) \n",
    "\n",
    "# Add the Actual Returns column to indicate daily percentage change in closing price\n",
    "btc_prices_ema834[\"Actual Returns\"] = btc_prices_ema834[\"close\"].pct_change()"
   ]
  },
  {
   "cell_type": "code",
   "execution_count": 42,
   "id": "f85118fd-7516-4259-b761-f9413763ee84",
   "metadata": {},
   "outputs": [
    {
     "data": {
      "text/html": [
       "<div>\n",
       "<style scoped>\n",
       "    .dataframe tbody tr th:only-of-type {\n",
       "        vertical-align: middle;\n",
       "    }\n",
       "\n",
       "    .dataframe tbody tr th {\n",
       "        vertical-align: top;\n",
       "    }\n",
       "\n",
       "    .dataframe thead th {\n",
       "        text-align: right;\n",
       "    }\n",
       "</style>\n",
       "<table border=\"1\" class=\"dataframe\">\n",
       "  <thead>\n",
       "    <tr style=\"text-align: right;\">\n",
       "      <th></th>\n",
       "      <th>ema8</th>\n",
       "      <th>ema34</th>\n",
       "      <th>Actual Returns</th>\n",
       "      <th>ema_pred</th>\n",
       "    </tr>\n",
       "  </thead>\n",
       "  <tbody>\n",
       "    <tr>\n",
       "      <th>2016-12-25</th>\n",
       "      <td>887.518750</td>\n",
       "      <td>886.579118</td>\n",
       "      <td>0.022431</td>\n",
       "      <td>1.0</td>\n",
       "    </tr>\n",
       "    <tr>\n",
       "      <th>2016-12-26</th>\n",
       "      <td>892.316321</td>\n",
       "      <td>890.947619</td>\n",
       "      <td>0.003158</td>\n",
       "      <td>1.0</td>\n",
       "    </tr>\n",
       "    <tr>\n",
       "      <th>2016-12-27</th>\n",
       "      <td>909.985346</td>\n",
       "      <td>905.057192</td>\n",
       "      <td>0.048701</td>\n",
       "      <td>1.0</td>\n",
       "    </tr>\n",
       "    <tr>\n",
       "      <th>2016-12-28</th>\n",
       "      <td>932.327927</td>\n",
       "      <td>922.287596</td>\n",
       "      <td>0.041560</td>\n",
       "      <td>1.0</td>\n",
       "    </tr>\n",
       "    <tr>\n",
       "      <th>2016-12-29</th>\n",
       "      <td>937.511460</td>\n",
       "      <td>927.705480</td>\n",
       "      <td>-0.031999</td>\n",
       "      <td>1.0</td>\n",
       "    </tr>\n",
       "  </tbody>\n",
       "</table>\n",
       "</div>"
      ],
      "text/plain": [
       "                  ema8       ema34  Actual Returns  ema_pred\n",
       "2016-12-25  887.518750  886.579118        0.022431       1.0\n",
       "2016-12-26  892.316321  890.947619        0.003158       1.0\n",
       "2016-12-27  909.985346  905.057192        0.048701       1.0\n",
       "2016-12-28  932.327927  922.287596        0.041560       1.0\n",
       "2016-12-29  937.511460  927.705480       -0.031999       1.0"
      ]
     },
     "metadata": {},
     "output_type": "display_data"
    }
   ],
   "source": [
    "# Create a new dataframe that drops the OHLCV columns\n",
    "btc_signals_ema834 = btc_prices_ema834.drop(columns = ['close','open', 'high', 'low','volume'])\n",
    "\n",
    "# Drop null values\n",
    "btc_signals_ema834= btc_signals_ema834.dropna()\n",
    "\n",
    "# Generate the predictions columns using 0 or 1, where 1 indicates that sma20 is greater than the sma50 and 0 is when the condition is not met\n",
    "btc_signals_ema834[\"ema_pred\"] = np.where(\n",
    "    btc_signals_ema834[\"ema8\"]> btc_signals_ema834[\"ema34\"], 1.0, 0.0\n",
    ")\n",
    "\n",
    "# Review the DataFrame\n",
    "display(btc_signals_ema834.head())"
   ]
  },
  {
   "cell_type": "code",
   "execution_count": 43,
   "id": "6dd4b046-e96f-4d07-a295-54c9be89d6e1",
   "metadata": {},
   "outputs": [
    {
     "data": {
      "text/plain": [
       "311.37937401598526"
      ]
     },
     "execution_count": 43,
     "metadata": {},
     "output_type": "execute_result"
    }
   ],
   "source": [
    "# Calculate the cumulative returns of the 8 day and 34 day EMA strategy\n",
    "ema834_strategy_returns = (1 + btc_signals_ema834[\"ema_pred\"] * btc_signals_ema834[\"Actual Returns\"]).cumprod()\n",
    "\n",
    "# Review the Results\n",
    "ema834_strategy_returns[-1]"
   ]
  },
  {
   "cell_type": "code",
   "execution_count": 44,
   "id": "7879d162-c6e3-4eb0-b52f-a95d1294d0d8",
   "metadata": {},
   "outputs": [
    {
     "data": {
      "text/plain": [
       "0.04403474301384851"
      ]
     },
     "execution_count": 44,
     "metadata": {},
     "output_type": "execute_result"
    }
   ],
   "source": [
    "# Use the describe function to calulate the daily standard deviation\n",
    "btc_prices_ema834[\"Actual Returns\"].describe()['std']"
   ]
  },
  {
   "cell_type": "code",
   "execution_count": 45,
   "id": "ea16cea8-9b6b-45f6-ab52-e8a7a90306c1",
   "metadata": {},
   "outputs": [],
   "source": [
    "# Create a signal column for ML trading strategy 4\n",
    "btc_signals_ema834['signal'] = (btc_signals_ema834[\"Actual Returns\"] > 0).astype(int).copy()"
   ]
  },
  {
   "cell_type": "markdown",
   "id": "1622dfa6-0c37-4ae3-bb86-ab10d3ce0f25",
   "metadata": {},
   "source": [
    "# PTC ML Trading Strategies"
   ]
  },
  {
   "cell_type": "markdown",
   "id": "a850644b-8ec1-4a85-9917-d6853f591d70",
   "metadata": {},
   "source": [
    "#### Create Training and Testing Period (Train with 75% of data and use remaining 25% as test data)"
   ]
  },
  {
   "cell_type": "code",
   "execution_count": 46,
   "id": "d3139f39-8ae3-4bc0-b435-904db9d325a0",
   "metadata": {},
   "outputs": [],
   "source": [
    "# Define the start and end date of the training periods \n",
    "training_startdate = pd.to_datetime(\"2016-12-24\").date()\n",
    "training_enddate = pd.to_datetime( \"2020-09-08\").date()\n",
    "\n",
    "testing_startdate = pd.to_datetime(\"2020-09-09\").date()\n",
    "testing_enddate = pd.to_datetime( \"2022-02-08\").date()\n"
   ]
  },
  {
   "cell_type": "markdown",
   "id": "0bad0914-e153-4562-a50a-0bf0c2a6b7c1",
   "metadata": {},
   "source": [
    "## ML Trading Strategy 1"
   ]
  },
  {
   "cell_type": "code",
   "execution_count": 47,
   "id": "fd89a390-4140-416c-a083-34e73c9e0d2f",
   "metadata": {},
   "outputs": [],
   "source": [
    "# Create the features dataframe \n",
    "btc_model1_features = btc_signals_sma523.drop(columns = ['signal','sma523_pred'])"
   ]
  },
  {
   "cell_type": "code",
   "execution_count": 48,
   "id": "43f1036c-c2fb-4b4e-8c59-8850da17b101",
   "metadata": {},
   "outputs": [
    {
     "data": {
      "text/html": [
       "<div>\n",
       "<style scoped>\n",
       "    .dataframe tbody tr th:only-of-type {\n",
       "        vertical-align: middle;\n",
       "    }\n",
       "\n",
       "    .dataframe tbody tr th {\n",
       "        vertical-align: top;\n",
       "    }\n",
       "\n",
       "    .dataframe thead th {\n",
       "        text-align: right;\n",
       "    }\n",
       "</style>\n",
       "<table border=\"1\" class=\"dataframe\">\n",
       "  <thead>\n",
       "    <tr style=\"text-align: right;\">\n",
       "      <th></th>\n",
       "      <th>sma5</th>\n",
       "      <th>sma23</th>\n",
       "      <th>Actual Returns</th>\n",
       "      <th>y</th>\n",
       "    </tr>\n",
       "  </thead>\n",
       "  <tbody>\n",
       "    <tr>\n",
       "      <th>2016-12-25</th>\n",
       "      <td>884.928</td>\n",
       "      <td>799.247391</td>\n",
       "      <td>0.022431</td>\n",
       "      <td>1.0</td>\n",
       "    </tr>\n",
       "    <tr>\n",
       "      <th>2016-12-26</th>\n",
       "      <td>895.534</td>\n",
       "      <td>804.982174</td>\n",
       "      <td>0.003158</td>\n",
       "      <td>1.0</td>\n",
       "    </tr>\n",
       "    <tr>\n",
       "      <th>2016-12-27</th>\n",
       "      <td>905.382</td>\n",
       "      <td>813.150435</td>\n",
       "      <td>0.048701</td>\n",
       "      <td>1.0</td>\n",
       "    </tr>\n",
       "    <tr>\n",
       "      <th>2016-12-28</th>\n",
       "      <td>919.234</td>\n",
       "      <td>822.989565</td>\n",
       "      <td>0.041560</td>\n",
       "      <td>0.0</td>\n",
       "    </tr>\n",
       "    <tr>\n",
       "      <th>2016-12-29</th>\n",
       "      <td>934.040</td>\n",
       "      <td>831.280435</td>\n",
       "      <td>-0.031999</td>\n",
       "      <td>1.0</td>\n",
       "    </tr>\n",
       "  </tbody>\n",
       "</table>\n",
       "</div>"
      ],
      "text/plain": [
       "               sma5       sma23  Actual Returns    y\n",
       "2016-12-25  884.928  799.247391        0.022431  1.0\n",
       "2016-12-26  895.534  804.982174        0.003158  1.0\n",
       "2016-12-27  905.382  813.150435        0.048701  1.0\n",
       "2016-12-28  919.234  822.989565        0.041560  0.0\n",
       "2016-12-29  934.040  831.280435       -0.031999  1.0"
      ]
     },
     "execution_count": 48,
     "metadata": {},
     "output_type": "execute_result"
    }
   ],
   "source": [
    "# Add a columnn for the target variable\n",
    "btc_model1_features['y'] = btc_signals_sma523['signal'].shift(-1)\n",
    "\n",
    "# Drop null values\n",
    "btc_model1_features = btc_model1_features.dropna()\n",
    "\n",
    "# Review the DataFrame\n",
    "btc_model1_features.head()"
   ]
  },
  {
   "cell_type": "code",
   "execution_count": 49,
   "id": "928c73fe-513b-4726-861b-faea5cd637b7",
   "metadata": {},
   "outputs": [],
   "source": [
    "# Create the target set by slicing the y column\n",
    "y = btc_model1_features['y']\n",
    "\n",
    "# Assign a copy of the bitcoin model features DataFrame called X1\n",
    "X1 = btc_model1_features.drop(columns = ['y', \"Actual Returns\"])"
   ]
  },
  {
   "cell_type": "code",
   "execution_count": 50,
   "id": "b192d95a-cddd-4a13-9ea7-57bbac7b026b",
   "metadata": {},
   "outputs": [
    {
     "data": {
      "text/html": [
       "<div>\n",
       "<style scoped>\n",
       "    .dataframe tbody tr th:only-of-type {\n",
       "        vertical-align: middle;\n",
       "    }\n",
       "\n",
       "    .dataframe tbody tr th {\n",
       "        vertical-align: top;\n",
       "    }\n",
       "\n",
       "    .dataframe thead th {\n",
       "        text-align: right;\n",
       "    }\n",
       "</style>\n",
       "<table border=\"1\" class=\"dataframe\">\n",
       "  <thead>\n",
       "    <tr style=\"text-align: right;\">\n",
       "      <th></th>\n",
       "      <th>sma5</th>\n",
       "      <th>sma23</th>\n",
       "    </tr>\n",
       "  </thead>\n",
       "  <tbody>\n",
       "    <tr>\n",
       "      <th>2016-12-25</th>\n",
       "      <td>884.928</td>\n",
       "      <td>799.247391</td>\n",
       "    </tr>\n",
       "    <tr>\n",
       "      <th>2016-12-26</th>\n",
       "      <td>895.534</td>\n",
       "      <td>804.982174</td>\n",
       "    </tr>\n",
       "    <tr>\n",
       "      <th>2016-12-27</th>\n",
       "      <td>905.382</td>\n",
       "      <td>813.150435</td>\n",
       "    </tr>\n",
       "    <tr>\n",
       "      <th>2016-12-28</th>\n",
       "      <td>919.234</td>\n",
       "      <td>822.989565</td>\n",
       "    </tr>\n",
       "    <tr>\n",
       "      <th>2016-12-29</th>\n",
       "      <td>934.040</td>\n",
       "      <td>831.280435</td>\n",
       "    </tr>\n",
       "  </tbody>\n",
       "</table>\n",
       "</div>"
      ],
      "text/plain": [
       "               sma5       sma23\n",
       "2016-12-25  884.928  799.247391\n",
       "2016-12-26  895.534  804.982174\n",
       "2016-12-27  905.382  813.150435\n",
       "2016-12-28  919.234  822.989565\n",
       "2016-12-29  934.040  831.280435"
      ]
     },
     "metadata": {},
     "output_type": "display_data"
    },
    {
     "data": {
      "text/html": [
       "<div>\n",
       "<style scoped>\n",
       "    .dataframe tbody tr th:only-of-type {\n",
       "        vertical-align: middle;\n",
       "    }\n",
       "\n",
       "    .dataframe tbody tr th {\n",
       "        vertical-align: top;\n",
       "    }\n",
       "\n",
       "    .dataframe thead th {\n",
       "        text-align: right;\n",
       "    }\n",
       "</style>\n",
       "<table border=\"1\" class=\"dataframe\">\n",
       "  <thead>\n",
       "    <tr style=\"text-align: right;\">\n",
       "      <th></th>\n",
       "      <th>sma5</th>\n",
       "      <th>sma23</th>\n",
       "    </tr>\n",
       "  </thead>\n",
       "  <tbody>\n",
       "    <tr>\n",
       "      <th>2022-02-02</th>\n",
       "      <td>37820.182</td>\n",
       "      <td>39254.563043</td>\n",
       "    </tr>\n",
       "    <tr>\n",
       "      <th>2022-02-03</th>\n",
       "      <td>37703.846</td>\n",
       "      <td>39030.328261</td>\n",
       "    </tr>\n",
       "    <tr>\n",
       "      <th>2022-02-04</th>\n",
       "      <td>38610.064</td>\n",
       "      <td>38937.684783</td>\n",
       "    </tr>\n",
       "    <tr>\n",
       "      <th>2022-02-05</th>\n",
       "      <td>39236.788</td>\n",
       "      <td>38881.216087</td>\n",
       "    </tr>\n",
       "    <tr>\n",
       "      <th>2022-02-06</th>\n",
       "      <td>40118.152</td>\n",
       "      <td>38873.933478</td>\n",
       "    </tr>\n",
       "  </tbody>\n",
       "</table>\n",
       "</div>"
      ],
      "text/plain": [
       "                 sma5         sma23\n",
       "2022-02-02  37820.182  39254.563043\n",
       "2022-02-03  37703.846  39030.328261\n",
       "2022-02-04  38610.064  38937.684783\n",
       "2022-02-05  39236.788  38881.216087\n",
       "2022-02-06  40118.152  38873.933478"
      ]
     },
     "metadata": {},
     "output_type": "display_data"
    }
   ],
   "source": [
    "# Generate the X1_train and y_train DataFrames\n",
    "X1_train = X1.loc[training_startdate:training_enddate]\n",
    "y_train = y.loc[training_startdate:training_enddate]\n",
    "\n",
    "# Generate the X1_test and y_test DataFrames\n",
    "X1_test = X1.loc[testing_startdate:testing_enddate]\n",
    "y_test = y.loc[testing_startdate:testing_enddate]\n",
    "\n",
    "# Review the X1_test and train DataFrame\n",
    "display(X1_train.head(5))\n",
    "display(X1_test.tail(5))"
   ]
  },
  {
   "cell_type": "code",
   "execution_count": 51,
   "id": "669f9fc5-d867-4014-8c41-f5980e891964",
   "metadata": {},
   "outputs": [],
   "source": [
    "# Standardize the Data\n",
    "\n",
    "# Create a StandardScaler instance\n",
    "scaler1 = StandardScaler()\n",
    "\n",
    "# Apply the scaler model to fit the X1_train data\n",
    "X1_scaler = scaler1.fit(X1_train)\n",
    "\n",
    "# Transform the X1_train and X1_test DataFrames using the X1_scaler\n",
    "X1_train_scaled = X1_scaler.transform(X1_train)\n",
    "X1_test_scaled = X1_scaler.transform(X1_test)"
   ]
  },
  {
   "cell_type": "code",
   "execution_count": 52,
   "id": "fa83639b-6a90-433e-8c81-f549bbf60007",
   "metadata": {},
   "outputs": [
    {
     "data": {
      "text/plain": [
       "array([1., 1., 1., 1., 1., 1., 1., 1., 1., 1.])"
      ]
     },
     "execution_count": 52,
     "metadata": {},
     "output_type": "execute_result"
    }
   ],
   "source": [
    "# From SVM, instantiate SVC classifier model instance\n",
    "svm_model1 = svm.SVC()\n",
    " \n",
    "# Fit the model to the data using the training data\n",
    "svm_model1 = svm_model1.fit(X1_train_scaled, y_train)\n",
    " \n",
    "# Use the testing data to make the model predictions\n",
    "svm_pred1 = svm_model1.predict(X1_test_scaled)\n",
    "\n",
    "# Review the model's predicted values\n",
    "svm_pred1[:10]\n"
   ]
  },
  {
   "cell_type": "code",
   "execution_count": 53,
   "id": "10477ccc-f2b9-4fdb-820f-f36669c3ad91",
   "metadata": {},
   "outputs": [
    {
     "name": "stdout",
     "output_type": "stream",
     "text": [
      "              precision    recall  f1-score   support\n",
      "\n",
      "         0.0       0.38      0.06      0.11       238\n",
      "         1.0       0.53      0.91      0.67       278\n",
      "\n",
      "    accuracy                           0.52       516\n",
      "   macro avg       0.46      0.49      0.39       516\n",
      "weighted avg       0.46      0.52      0.41       516\n",
      "\n"
     ]
    }
   ],
   "source": [
    "# Use a classification report to evaluate the model using the predictions and testing data\n",
    "SVM1_testing_report = classification_report(y_test, svm_pred1)\n",
    "\n",
    "# Print the classification report\n",
    "print(SVM1_testing_report)\n"
   ]
  },
  {
   "cell_type": "code",
   "execution_count": 54,
   "id": "6206b113-37b0-4c6f-a798-451f58d26ea7",
   "metadata": {},
   "outputs": [
    {
     "data": {
      "text/html": [
       "<div>\n",
       "<style scoped>\n",
       "    .dataframe tbody tr th:only-of-type {\n",
       "        vertical-align: middle;\n",
       "    }\n",
       "\n",
       "    .dataframe tbody tr th {\n",
       "        vertical-align: top;\n",
       "    }\n",
       "\n",
       "    .dataframe thead th {\n",
       "        text-align: right;\n",
       "    }\n",
       "</style>\n",
       "<table border=\"1\" class=\"dataframe\">\n",
       "  <thead>\n",
       "    <tr style=\"text-align: right;\">\n",
       "      <th></th>\n",
       "      <th>Predicted</th>\n",
       "      <th>y_test</th>\n",
       "      <th>Actual Returns</th>\n",
       "      <th>Strategy Returns</th>\n",
       "    </tr>\n",
       "  </thead>\n",
       "  <tbody>\n",
       "    <tr>\n",
       "      <th>2020-09-09</th>\n",
       "      <td>1.0</td>\n",
       "      <td>NaN</td>\n",
       "      <td>0.009764</td>\n",
       "      <td>0.009764</td>\n",
       "    </tr>\n",
       "    <tr>\n",
       "      <th>2020-09-10</th>\n",
       "      <td>1.0</td>\n",
       "      <td>1.0</td>\n",
       "      <td>0.011606</td>\n",
       "      <td>0.011606</td>\n",
       "    </tr>\n",
       "    <tr>\n",
       "      <th>2020-09-11</th>\n",
       "      <td>1.0</td>\n",
       "      <td>1.0</td>\n",
       "      <td>0.001985</td>\n",
       "      <td>0.001985</td>\n",
       "    </tr>\n",
       "    <tr>\n",
       "      <th>2020-09-12</th>\n",
       "      <td>1.0</td>\n",
       "      <td>1.0</td>\n",
       "      <td>0.007986</td>\n",
       "      <td>0.007986</td>\n",
       "    </tr>\n",
       "    <tr>\n",
       "      <th>2020-09-13</th>\n",
       "      <td>1.0</td>\n",
       "      <td>0.0</td>\n",
       "      <td>-0.009307</td>\n",
       "      <td>-0.009307</td>\n",
       "    </tr>\n",
       "  </tbody>\n",
       "</table>\n",
       "</div>"
      ],
      "text/plain": [
       "            Predicted  y_test  Actual Returns  Strategy Returns\n",
       "2020-09-09        1.0     NaN        0.009764          0.009764\n",
       "2020-09-10        1.0     1.0        0.011606          0.011606\n",
       "2020-09-11        1.0     1.0        0.001985          0.001985\n",
       "2020-09-12        1.0     1.0        0.007986          0.007986\n",
       "2020-09-13        1.0     0.0       -0.009307         -0.009307"
      ]
     },
     "metadata": {},
     "output_type": "display_data"
    },
    {
     "data": {
      "text/html": [
       "<div>\n",
       "<style scoped>\n",
       "    .dataframe tbody tr th:only-of-type {\n",
       "        vertical-align: middle;\n",
       "    }\n",
       "\n",
       "    .dataframe tbody tr th {\n",
       "        vertical-align: top;\n",
       "    }\n",
       "\n",
       "    .dataframe thead th {\n",
       "        text-align: right;\n",
       "    }\n",
       "</style>\n",
       "<table border=\"1\" class=\"dataframe\">\n",
       "  <thead>\n",
       "    <tr style=\"text-align: right;\">\n",
       "      <th></th>\n",
       "      <th>Predicted</th>\n",
       "      <th>y_test</th>\n",
       "      <th>Actual Returns</th>\n",
       "      <th>Strategy Returns</th>\n",
       "    </tr>\n",
       "  </thead>\n",
       "  <tbody>\n",
       "    <tr>\n",
       "      <th>2022-02-02</th>\n",
       "      <td>1.0</td>\n",
       "      <td>0.0</td>\n",
       "      <td>-0.036673</td>\n",
       "      <td>-0.036673</td>\n",
       "    </tr>\n",
       "    <tr>\n",
       "      <th>2022-02-03</th>\n",
       "      <td>1.0</td>\n",
       "      <td>1.0</td>\n",
       "      <td>0.014773</td>\n",
       "      <td>0.014773</td>\n",
       "    </tr>\n",
       "    <tr>\n",
       "      <th>2022-02-04</th>\n",
       "      <td>1.0</td>\n",
       "      <td>1.0</td>\n",
       "      <td>0.106232</td>\n",
       "      <td>0.106232</td>\n",
       "    </tr>\n",
       "    <tr>\n",
       "      <th>2022-02-05</th>\n",
       "      <td>1.0</td>\n",
       "      <td>1.0</td>\n",
       "      <td>0.001278</td>\n",
       "      <td>0.001278</td>\n",
       "    </tr>\n",
       "    <tr>\n",
       "      <th>2022-02-06</th>\n",
       "      <td>1.0</td>\n",
       "      <td>1.0</td>\n",
       "      <td>0.029448</td>\n",
       "      <td>0.029448</td>\n",
       "    </tr>\n",
       "  </tbody>\n",
       "</table>\n",
       "</div>"
      ],
      "text/plain": [
       "            Predicted  y_test  Actual Returns  Strategy Returns\n",
       "2022-02-02        1.0     0.0       -0.036673         -0.036673\n",
       "2022-02-03        1.0     1.0        0.014773          0.014773\n",
       "2022-02-04        1.0     1.0        0.106232          0.106232\n",
       "2022-02-05        1.0     1.0        0.001278          0.001278\n",
       "2022-02-06        1.0     1.0        0.029448          0.029448"
      ]
     },
     "metadata": {},
     "output_type": "display_data"
    }
   ],
   "source": [
    "# Create a predictions DataFrame\n",
    "btc1_predictions_df = pd.DataFrame(index=X1_test.index)\n",
    "\n",
    "# Add the SVM model predictions to the DataFrame\n",
    "btc1_predictions_df['Predicted'] = svm_pred1\n",
    "\n",
    "# Add the label test data to the bitcoin predictions df\n",
    "btc1_predictions_df['y_test'] = y_test\n",
    "\n",
    "# Add the actual returns to the DataFrame\n",
    "btc1_predictions_df['Actual Returns'] =  btc_signals_sma523[\"Actual Returns\"]\n",
    "\n",
    "# Shift the labeled test data back to its original date\n",
    "btc1_predictions_df['y_test'] = btc1_predictions_df['y_test'].shift(1).dropna()\n",
    "\n",
    "# Add the strategy returns to the DataFrame\n",
    "btc1_predictions_df['Strategy Returns'] = btc1_predictions_df['Predicted'] * btc1_predictions_df['Actual Returns']\n",
    "\n",
    "# Review the DataFrame\n",
    "display(btc1_predictions_df.head(5))\n",
    "display(btc1_predictions_df.tail(5))"
   ]
  },
  {
   "cell_type": "code",
   "execution_count": 55,
   "id": "1a96c8a4-7d4b-42e2-9dfb-031cf7ac5808",
   "metadata": {},
   "outputs": [
    {
     "data": {
      "text/plain": [
       "<AxesSubplot:title={'center':'actual returns vs. ML Trading Strategy 1'}>"
      ]
     },
     "execution_count": 55,
     "metadata": {},
     "output_type": "execute_result"
    },
    {
     "data": {
      "image/png": "[encoded data removed]",
      "text/plain": [
       "<Figure size 720x360 with 1 Axes>"
      ]
     },
     "metadata": {
      "needs_background": "light"
     },
     "output_type": "display_data"
    }
   ],
   "source": [
    "# Plot the actual returns versus the strategy returns\n",
    "(1 + btc1_predictions_df[[\"Actual Returns\", \"Strategy Returns\"]]).cumprod().plot(\n",
    "    title = 'actual returns vs. ML Trading Strategy 1',\n",
    "    rot = 90,\n",
    "    figsize = (10,5)\n",
    ")"
   ]
  },
  {
   "cell_type": "code",
   "execution_count": 56,
   "id": "938b63ab-8ee0-4938-b86b-c7bccae1095f",
   "metadata": {},
   "outputs": [
    {
     "data": {
      "text/plain": [
       "2.8697428541907533"
      ]
     },
     "execution_count": 56,
     "metadata": {},
     "output_type": "execute_result"
    }
   ],
   "source": [
    "# Calculate the cumulative returns of the ML Trading Strategy 1\n",
    "mlstrat1_returns = (1 + btc1_predictions_df[\"Strategy Returns\"]).cumprod()\n",
    "\n",
    "# Review the Results\n",
    "mlstrat1_returns[-1]"
   ]
  },
  {
   "cell_type": "code",
   "execution_count": 57,
   "id": "07dd8c8b-3837-4763-9d27-3c6aebe6c6d7",
   "metadata": {},
   "outputs": [
    {
     "data": {
      "text/plain": [
       "0.03901741625138366"
      ]
     },
     "execution_count": 57,
     "metadata": {},
     "output_type": "execute_result"
    }
   ],
   "source": [
    "# Use the describe function to calulate the daily standard deviation\n",
    "btc1_predictions_df[\"Strategy Returns\"].describe()['std']"
   ]
  },
  {
   "cell_type": "markdown",
   "id": "ce647d9a-7f2f-4186-9c4a-28a57f51977d",
   "metadata": {},
   "source": [
    "## ML Trading Strategy 2"
   ]
  },
  {
   "cell_type": "code",
   "execution_count": 58,
   "id": "7f449963-6cf1-45b2-b53a-a8698d279d42",
   "metadata": {},
   "outputs": [],
   "source": [
    "# Create the features dataframe \n",
    "btc_model2_features = btc_signals_sma2050.drop(columns = ['signal','sma2050_pred'])"
   ]
  },
  {
   "cell_type": "code",
   "execution_count": 59,
   "id": "51d96ab9-3b17-4a2b-a97d-d2347334e813",
   "metadata": {},
   "outputs": [
    {
     "data": {
      "text/html": [
       "<div>\n",
       "<style scoped>\n",
       "    .dataframe tbody tr th:only-of-type {\n",
       "        vertical-align: middle;\n",
       "    }\n",
       "\n",
       "    .dataframe tbody tr th {\n",
       "        vertical-align: top;\n",
       "    }\n",
       "\n",
       "    .dataframe thead th {\n",
       "        text-align: right;\n",
       "    }\n",
       "</style>\n",
       "<table border=\"1\" class=\"dataframe\">\n",
       "  <thead>\n",
       "    <tr style=\"text-align: right;\">\n",
       "      <th></th>\n",
       "      <th>sma20</th>\n",
       "      <th>sma50</th>\n",
       "      <th>Actual Returns</th>\n",
       "      <th>y</th>\n",
       "    </tr>\n",
       "  </thead>\n",
       "  <tbody>\n",
       "    <tr>\n",
       "      <th>2016-12-25</th>\n",
       "      <td>805.2585</td>\n",
       "      <td>762.2482</td>\n",
       "      <td>0.022431</td>\n",
       "      <td>1.0</td>\n",
       "    </tr>\n",
       "    <tr>\n",
       "      <th>2016-12-26</th>\n",
       "      <td>812.2160</td>\n",
       "      <td>766.0236</td>\n",
       "      <td>0.003158</td>\n",
       "      <td>1.0</td>\n",
       "    </tr>\n",
       "    <tr>\n",
       "      <th>2016-12-27</th>\n",
       "      <td>821.1180</td>\n",
       "      <td>770.7312</td>\n",
       "      <td>0.048701</td>\n",
       "      <td>1.0</td>\n",
       "    </tr>\n",
       "    <tr>\n",
       "      <th>2016-12-28</th>\n",
       "      <td>831.7875</td>\n",
       "      <td>775.4696</td>\n",
       "      <td>0.041560</td>\n",
       "      <td>0.0</td>\n",
       "    </tr>\n",
       "    <tr>\n",
       "      <th>2016-12-29</th>\n",
       "      <td>840.6940</td>\n",
       "      <td>780.1254</td>\n",
       "      <td>-0.031999</td>\n",
       "      <td>1.0</td>\n",
       "    </tr>\n",
       "  </tbody>\n",
       "</table>\n",
       "</div>"
      ],
      "text/plain": [
       "               sma20     sma50  Actual Returns    y\n",
       "2016-12-25  805.2585  762.2482        0.022431  1.0\n",
       "2016-12-26  812.2160  766.0236        0.003158  1.0\n",
       "2016-12-27  821.1180  770.7312        0.048701  1.0\n",
       "2016-12-28  831.7875  775.4696        0.041560  0.0\n",
       "2016-12-29  840.6940  780.1254       -0.031999  1.0"
      ]
     },
     "execution_count": 59,
     "metadata": {},
     "output_type": "execute_result"
    }
   ],
   "source": [
    "#Add Columnn for the target variable\n",
    "btc_model2_features['y'] = btc_signals_sma2050['signal'].shift(-1)\n",
    "\n",
    "# Drop null values\n",
    "btc_model2_features = btc_model2_features.dropna()\n",
    "\n",
    "# Review the DataFrame\n",
    "btc_model2_features.head()"
   ]
  },
  {
   "cell_type": "code",
   "execution_count": 60,
   "id": "649c3ce0-0bee-483f-8460-3f5a23fc66f3",
   "metadata": {},
   "outputs": [],
   "source": [
    "# Create the target set by slicing the y column\n",
    "y = btc_model2_features['y']\n",
    "\n",
    "# Assign a copy of the bitcoin model features DataFrame called X2\n",
    "X2 = btc_model2_features.drop(columns = ['y', \"Actual Returns\"])"
   ]
  },
  {
   "cell_type": "code",
   "execution_count": 61,
   "id": "4b4247f4-d1e1-4ba6-a55b-636878c64fc7",
   "metadata": {},
   "outputs": [
    {
     "data": {
      "text/html": [
       "<div>\n",
       "<style scoped>\n",
       "    .dataframe tbody tr th:only-of-type {\n",
       "        vertical-align: middle;\n",
       "    }\n",
       "\n",
       "    .dataframe tbody tr th {\n",
       "        vertical-align: top;\n",
       "    }\n",
       "\n",
       "    .dataframe thead th {\n",
       "        text-align: right;\n",
       "    }\n",
       "</style>\n",
       "<table border=\"1\" class=\"dataframe\">\n",
       "  <thead>\n",
       "    <tr style=\"text-align: right;\">\n",
       "      <th></th>\n",
       "      <th>sma20</th>\n",
       "      <th>sma50</th>\n",
       "    </tr>\n",
       "  </thead>\n",
       "  <tbody>\n",
       "    <tr>\n",
       "      <th>2016-12-25</th>\n",
       "      <td>805.2585</td>\n",
       "      <td>762.2482</td>\n",
       "    </tr>\n",
       "    <tr>\n",
       "      <th>2016-12-26</th>\n",
       "      <td>812.2160</td>\n",
       "      <td>766.0236</td>\n",
       "    </tr>\n",
       "    <tr>\n",
       "      <th>2016-12-27</th>\n",
       "      <td>821.1180</td>\n",
       "      <td>770.7312</td>\n",
       "    </tr>\n",
       "    <tr>\n",
       "      <th>2016-12-28</th>\n",
       "      <td>831.7875</td>\n",
       "      <td>775.4696</td>\n",
       "    </tr>\n",
       "    <tr>\n",
       "      <th>2016-12-29</th>\n",
       "      <td>840.6940</td>\n",
       "      <td>780.1254</td>\n",
       "    </tr>\n",
       "  </tbody>\n",
       "</table>\n",
       "</div>"
      ],
      "text/plain": [
       "               sma20     sma50\n",
       "2016-12-25  805.2585  762.2482\n",
       "2016-12-26  812.2160  766.0236\n",
       "2016-12-27  821.1180  770.7312\n",
       "2016-12-28  831.7875  775.4696\n",
       "2016-12-29  840.6940  780.1254"
      ]
     },
     "metadata": {},
     "output_type": "display_data"
    },
    {
     "data": {
      "text/html": [
       "<div>\n",
       "<style scoped>\n",
       "    .dataframe tbody tr th:only-of-type {\n",
       "        vertical-align: middle;\n",
       "    }\n",
       "\n",
       "    .dataframe tbody tr th {\n",
       "        vertical-align: top;\n",
       "    }\n",
       "\n",
       "    .dataframe thead th {\n",
       "        text-align: right;\n",
       "    }\n",
       "</style>\n",
       "<table border=\"1\" class=\"dataframe\">\n",
       "  <thead>\n",
       "    <tr style=\"text-align: right;\">\n",
       "      <th></th>\n",
       "      <th>sma20</th>\n",
       "      <th>sma50</th>\n",
       "    </tr>\n",
       "  </thead>\n",
       "  <tbody>\n",
       "    <tr>\n",
       "      <th>2022-02-02</th>\n",
       "      <td>38676.652</td>\n",
       "      <td>43326.2020</td>\n",
       "    </tr>\n",
       "    <tr>\n",
       "      <th>2022-02-03</th>\n",
       "      <td>38404.815</td>\n",
       "      <td>43107.0402</td>\n",
       "    </tr>\n",
       "    <tr>\n",
       "      <th>2022-02-04</th>\n",
       "      <td>38332.989</td>\n",
       "      <td>42983.7352</td>\n",
       "    </tr>\n",
       "    <tr>\n",
       "      <th>2022-02-05</th>\n",
       "      <td>38280.020</td>\n",
       "      <td>42883.5732</td>\n",
       "    </tr>\n",
       "    <tr>\n",
       "      <th>2022-02-06</th>\n",
       "      <td>38315.532</td>\n",
       "      <td>42787.7942</td>\n",
       "    </tr>\n",
       "  </tbody>\n",
       "</table>\n",
       "</div>"
      ],
      "text/plain": [
       "                sma20       sma50\n",
       "2022-02-02  38676.652  43326.2020\n",
       "2022-02-03  38404.815  43107.0402\n",
       "2022-02-04  38332.989  42983.7352\n",
       "2022-02-05  38280.020  42883.5732\n",
       "2022-02-06  38315.532  42787.7942"
      ]
     },
     "metadata": {},
     "output_type": "display_data"
    }
   ],
   "source": [
    "# Generate the X2_train and y_train DataFrames\n",
    "X2_train = X2.loc[training_startdate:training_enddate]\n",
    "y_train = y.loc[training_startdate:training_enddate]\n",
    "\n",
    "# Generate the X2_test and y_test DataFrames\n",
    "X2_test = X2.loc[testing_startdate:testing_enddate]\n",
    "y_test = y.loc[testing_startdate:testing_enddate]\n",
    "\n",
    "# Review the X2_test and train DataFrame\n",
    "display(X2_train.head(5))\n",
    "display(X2_test.tail(5))"
   ]
  },
  {
   "cell_type": "code",
   "execution_count": 62,
   "id": "be3cdaf1-0b63-4b1a-affb-8d63e0271449",
   "metadata": {},
   "outputs": [],
   "source": [
    "# Scale the features DataFrames\n",
    "\n",
    "# Create a StandardScaler instance\n",
    "scaler2 = StandardScaler()\n",
    "\n",
    "# Apply the scaler model to fit the X2_train data\n",
    "X2_scaler = scaler2.fit(X2_train)\n",
    "\n",
    "# Transform the X2_train and X2_test DataFrames using the X_scaler\n",
    "X2_train_scaled = X2_scaler.transform(X2_train)\n",
    "X2_test_scaled = X2_scaler.transform(X2_test)"
   ]
  },
  {
   "cell_type": "code",
   "execution_count": 63,
   "id": "b7fb27b8-7e5e-4ec9-84b0-0a226b1b9abf",
   "metadata": {},
   "outputs": [
    {
     "data": {
      "text/plain": [
       "array([1., 1., 1., 1., 1., 1., 1., 1., 1., 1.])"
      ]
     },
     "execution_count": 63,
     "metadata": {},
     "output_type": "execute_result"
    }
   ],
   "source": [
    "# From SVM, instantiate SVC classifier model instance\n",
    "svm_model2 = svm.SVC()\n",
    " \n",
    "# Fit the model to the data using the training data\n",
    "svm_model2 = svm_model2.fit(X2_train_scaled, y_train)\n",
    " \n",
    "# Use the testing data to make the model predictions\n",
    "svm_pred2 = svm_model2.predict(X2_test_scaled)\n",
    "\n",
    "# Review the model's predicted values\n",
    "svm_pred2[:10]"
   ]
  },
  {
   "cell_type": "code",
   "execution_count": 64,
   "id": "08fdfe1f-92b7-46f7-a245-72bd06fe634a",
   "metadata": {},
   "outputs": [
    {
     "name": "stdout",
     "output_type": "stream",
     "text": [
      "              precision    recall  f1-score   support\n",
      "\n",
      "         0.0       0.39      0.05      0.10       238\n",
      "         1.0       0.53      0.93      0.68       278\n",
      "\n",
      "    accuracy                           0.53       516\n",
      "   macro avg       0.46      0.49      0.39       516\n",
      "weighted avg       0.47      0.53      0.41       516\n",
      "\n"
     ]
    }
   ],
   "source": [
    "# Use a classification report to evaluate the model using the predictions and testing data\n",
    "SVM2_testing_report = classification_report(y_test, svm_pred2)\n",
    "\n",
    "# Print the classification report\n",
    "print(SVM2_testing_report)\n"
   ]
  },
  {
   "cell_type": "code",
   "execution_count": 65,
   "id": "d994893a-1e0d-4ca7-ae9c-5de98c2aa702",
   "metadata": {},
   "outputs": [
    {
     "data": {
      "text/html": [
       "<div>\n",
       "<style scoped>\n",
       "    .dataframe tbody tr th:only-of-type {\n",
       "        vertical-align: middle;\n",
       "    }\n",
       "\n",
       "    .dataframe tbody tr th {\n",
       "        vertical-align: top;\n",
       "    }\n",
       "\n",
       "    .dataframe thead th {\n",
       "        text-align: right;\n",
       "    }\n",
       "</style>\n",
       "<table border=\"1\" class=\"dataframe\">\n",
       "  <thead>\n",
       "    <tr style=\"text-align: right;\">\n",
       "      <th></th>\n",
       "      <th>Predicted</th>\n",
       "      <th>y_test</th>\n",
       "      <th>Actual Returns</th>\n",
       "      <th>Strategy Returns</th>\n",
       "    </tr>\n",
       "  </thead>\n",
       "  <tbody>\n",
       "    <tr>\n",
       "      <th>2020-09-09</th>\n",
       "      <td>1.0</td>\n",
       "      <td>NaN</td>\n",
       "      <td>0.009764</td>\n",
       "      <td>0.009764</td>\n",
       "    </tr>\n",
       "    <tr>\n",
       "      <th>2020-09-10</th>\n",
       "      <td>1.0</td>\n",
       "      <td>1.0</td>\n",
       "      <td>0.011606</td>\n",
       "      <td>0.011606</td>\n",
       "    </tr>\n",
       "    <tr>\n",
       "      <th>2020-09-11</th>\n",
       "      <td>1.0</td>\n",
       "      <td>1.0</td>\n",
       "      <td>0.001985</td>\n",
       "      <td>0.001985</td>\n",
       "    </tr>\n",
       "    <tr>\n",
       "      <th>2020-09-12</th>\n",
       "      <td>1.0</td>\n",
       "      <td>1.0</td>\n",
       "      <td>0.007986</td>\n",
       "      <td>0.007986</td>\n",
       "    </tr>\n",
       "    <tr>\n",
       "      <th>2020-09-13</th>\n",
       "      <td>1.0</td>\n",
       "      <td>0.0</td>\n",
       "      <td>-0.009307</td>\n",
       "      <td>-0.009307</td>\n",
       "    </tr>\n",
       "  </tbody>\n",
       "</table>\n",
       "</div>"
      ],
      "text/plain": [
       "            Predicted  y_test  Actual Returns  Strategy Returns\n",
       "2020-09-09        1.0     NaN        0.009764          0.009764\n",
       "2020-09-10        1.0     1.0        0.011606          0.011606\n",
       "2020-09-11        1.0     1.0        0.001985          0.001985\n",
       "2020-09-12        1.0     1.0        0.007986          0.007986\n",
       "2020-09-13        1.0     0.0       -0.009307         -0.009307"
      ]
     },
     "metadata": {},
     "output_type": "display_data"
    },
    {
     "data": {
      "text/html": [
       "<div>\n",
       "<style scoped>\n",
       "    .dataframe tbody tr th:only-of-type {\n",
       "        vertical-align: middle;\n",
       "    }\n",
       "\n",
       "    .dataframe tbody tr th {\n",
       "        vertical-align: top;\n",
       "    }\n",
       "\n",
       "    .dataframe thead th {\n",
       "        text-align: right;\n",
       "    }\n",
       "</style>\n",
       "<table border=\"1\" class=\"dataframe\">\n",
       "  <thead>\n",
       "    <tr style=\"text-align: right;\">\n",
       "      <th></th>\n",
       "      <th>Predicted</th>\n",
       "      <th>y_test</th>\n",
       "      <th>Actual Returns</th>\n",
       "      <th>Strategy Returns</th>\n",
       "    </tr>\n",
       "  </thead>\n",
       "  <tbody>\n",
       "    <tr>\n",
       "      <th>2022-02-02</th>\n",
       "      <td>1.0</td>\n",
       "      <td>0.0</td>\n",
       "      <td>-0.036673</td>\n",
       "      <td>-0.036673</td>\n",
       "    </tr>\n",
       "    <tr>\n",
       "      <th>2022-02-03</th>\n",
       "      <td>1.0</td>\n",
       "      <td>1.0</td>\n",
       "      <td>0.014773</td>\n",
       "      <td>0.014773</td>\n",
       "    </tr>\n",
       "    <tr>\n",
       "      <th>2022-02-04</th>\n",
       "      <td>1.0</td>\n",
       "      <td>1.0</td>\n",
       "      <td>0.106232</td>\n",
       "      <td>0.106232</td>\n",
       "    </tr>\n",
       "    <tr>\n",
       "      <th>2022-02-05</th>\n",
       "      <td>1.0</td>\n",
       "      <td>1.0</td>\n",
       "      <td>0.001278</td>\n",
       "      <td>0.001278</td>\n",
       "    </tr>\n",
       "    <tr>\n",
       "      <th>2022-02-06</th>\n",
       "      <td>1.0</td>\n",
       "      <td>1.0</td>\n",
       "      <td>0.029448</td>\n",
       "      <td>0.029448</td>\n",
       "    </tr>\n",
       "  </tbody>\n",
       "</table>\n",
       "</div>"
      ],
      "text/plain": [
       "            Predicted  y_test  Actual Returns  Strategy Returns\n",
       "2022-02-02        1.0     0.0       -0.036673         -0.036673\n",
       "2022-02-03        1.0     1.0        0.014773          0.014773\n",
       "2022-02-04        1.0     1.0        0.106232          0.106232\n",
       "2022-02-05        1.0     1.0        0.001278          0.001278\n",
       "2022-02-06        1.0     1.0        0.029448          0.029448"
      ]
     },
     "metadata": {},
     "output_type": "display_data"
    }
   ],
   "source": [
    "# Create a predictions DataFrame\n",
    "btc2_predictions_df = pd.DataFrame(index=X2_test.index)\n",
    "\n",
    "# Add the SVM model predictions to the DataFrame\n",
    "btc2_predictions_df['Predicted'] = svm_pred2\n",
    "\n",
    "# Add the label test data to the bitcoin predictions df\n",
    "btc2_predictions_df['y_test'] = y_test\n",
    "\n",
    "# Add the actual returns to the DataFrame\n",
    "btc2_predictions_df['Actual Returns'] =  btc_signals_sma2050[\"Actual Returns\"]\n",
    "\n",
    "# Shift the labeled test data back to its original date\n",
    "btc2_predictions_df['y_test'] = btc2_predictions_df['y_test'].shift(1).dropna()\n",
    "\n",
    "# Add the strategy returns to the DataFrame\n",
    "btc2_predictions_df['Strategy Returns'] = btc2_predictions_df['Predicted'] * btc2_predictions_df['Actual Returns']\n",
    "\n",
    "# Review the DataFrame\n",
    "display(btc2_predictions_df.head(5))\n",
    "display(btc2_predictions_df.tail(5))"
   ]
  },
  {
   "cell_type": "code",
   "execution_count": 66,
   "id": "0ab263ea-89c5-4ff0-bcd5-c58f3b6fd5e3",
   "metadata": {},
   "outputs": [
    {
     "data": {
      "text/plain": [
       "<AxesSubplot:title={'center':'Actual returns vs. ML Trading Strategy 2'}>"
      ]
     },
     "execution_count": 66,
     "metadata": {},
     "output_type": "execute_result"
    },
    {
     "data": {
      "image/png": "[encoded data removed]",
      "text/plain": [
       "<Figure size 720x360 with 1 Axes>"
      ]
     },
     "metadata": {
      "needs_background": "light"
     },
     "output_type": "display_data"
    }
   ],
   "source": [
    "# Plot the actual returns versus the strategy returns\n",
    "(1 + btc2_predictions_df[[\"Actual Returns\", \"Strategy Returns\"]]).cumprod().plot(\n",
    "    title = 'Actual returns vs. ML Trading Strategy 2',\n",
    "    rot = 90,\n",
    "    figsize = (10,5)\n",
    ")"
   ]
  },
  {
   "cell_type": "code",
   "execution_count": 67,
   "id": "c8d4a552-bf5e-4764-9c5c-9f91c56265d3",
   "metadata": {},
   "outputs": [
    {
     "data": {
      "text/plain": [
       "3.4411597722691694"
      ]
     },
     "execution_count": 67,
     "metadata": {},
     "output_type": "execute_result"
    }
   ],
   "source": [
    "# Calculate the cumulative returns of the ML Trading Strategy 2\n",
    "mlstrat2_returns = (1 + btc2_predictions_df[\"Strategy Returns\"]).cumprod()\n",
    "\n",
    "# Review the Results\n",
    "mlstrat2_returns[-1]"
   ]
  },
  {
   "cell_type": "code",
   "execution_count": 68,
   "id": "3a683d7e-6da0-4850-980a-48daa77b9ce6",
   "metadata": {},
   "outputs": [
    {
     "data": {
      "text/plain": [
       "0.039574800416207485"
      ]
     },
     "execution_count": 68,
     "metadata": {},
     "output_type": "execute_result"
    }
   ],
   "source": [
    "# Use the describe function to calulate the daily standard deviation\n",
    "btc2_predictions_df[\"Strategy Returns\"].describe()['std']"
   ]
  },
  {
   "cell_type": "markdown",
   "id": "7ed56805-7f72-45a3-a03e-2bd3b91b7e4c",
   "metadata": {},
   "source": [
    "## ML Trading Strategy 3"
   ]
  },
  {
   "cell_type": "code",
   "execution_count": 69,
   "id": "9eac13bf-084d-470b-a518-c451b04eb8ee",
   "metadata": {},
   "outputs": [],
   "source": [
    "# Create the features dataframe \n",
    "btc_model3_features = btc_signals_sma200400.drop(columns = ['signal','sma200400_pred'])"
   ]
  },
  {
   "cell_type": "code",
   "execution_count": 70,
   "id": "f6872e93-f659-4f21-85fc-89dc31499b68",
   "metadata": {},
   "outputs": [
    {
     "data": {
      "text/html": [
       "<div>\n",
       "<style scoped>\n",
       "    .dataframe tbody tr th:only-of-type {\n",
       "        vertical-align: middle;\n",
       "    }\n",
       "\n",
       "    .dataframe tbody tr th {\n",
       "        vertical-align: top;\n",
       "    }\n",
       "\n",
       "    .dataframe thead th {\n",
       "        text-align: right;\n",
       "    }\n",
       "</style>\n",
       "<table border=\"1\" class=\"dataframe\">\n",
       "  <thead>\n",
       "    <tr style=\"text-align: right;\">\n",
       "      <th></th>\n",
       "      <th>sma200</th>\n",
       "      <th>sma400</th>\n",
       "      <th>Actual Returns</th>\n",
       "      <th>y</th>\n",
       "    </tr>\n",
       "  </thead>\n",
       "  <tbody>\n",
       "    <tr>\n",
       "      <th>2016-12-25</th>\n",
       "      <td>666.24325</td>\n",
       "      <td>547.066650</td>\n",
       "      <td>0.022431</td>\n",
       "      <td>1.0</td>\n",
       "    </tr>\n",
       "    <tr>\n",
       "      <th>2016-12-26</th>\n",
       "      <td>667.85070</td>\n",
       "      <td>548.507075</td>\n",
       "      <td>0.003158</td>\n",
       "      <td>1.0</td>\n",
       "    </tr>\n",
       "    <tr>\n",
       "      <th>2016-12-27</th>\n",
       "      <td>669.63585</td>\n",
       "      <td>550.059525</td>\n",
       "      <td>0.048701</td>\n",
       "      <td>1.0</td>\n",
       "    </tr>\n",
       "    <tr>\n",
       "      <th>2016-12-28</th>\n",
       "      <td>671.36040</td>\n",
       "      <td>551.717175</td>\n",
       "      <td>0.041560</td>\n",
       "      <td>0.0</td>\n",
       "    </tr>\n",
       "    <tr>\n",
       "      <th>2016-12-29</th>\n",
       "      <td>672.72355</td>\n",
       "      <td>553.262675</td>\n",
       "      <td>-0.031999</td>\n",
       "      <td>1.0</td>\n",
       "    </tr>\n",
       "  </tbody>\n",
       "</table>\n",
       "</div>"
      ],
      "text/plain": [
       "               sma200      sma400  Actual Returns    y\n",
       "2016-12-25  666.24325  547.066650        0.022431  1.0\n",
       "2016-12-26  667.85070  548.507075        0.003158  1.0\n",
       "2016-12-27  669.63585  550.059525        0.048701  1.0\n",
       "2016-12-28  671.36040  551.717175        0.041560  0.0\n",
       "2016-12-29  672.72355  553.262675       -0.031999  1.0"
      ]
     },
     "execution_count": 70,
     "metadata": {},
     "output_type": "execute_result"
    }
   ],
   "source": [
    "#Add Columnn for the target variable\n",
    "btc_model3_features['y'] = btc_signals_sma200400['signal'].shift(-1)\n",
    "\n",
    "# Drop null values\n",
    "btc_model3_features = btc_model3_features.dropna()\n",
    "\n",
    "# Review the DataFrame\n",
    "btc_model3_features.head()"
   ]
  },
  {
   "cell_type": "code",
   "execution_count": 71,
   "id": "59b50a1a-aa36-497a-837f-947c9854a20d",
   "metadata": {},
   "outputs": [],
   "source": [
    "# Create the target set by slicing the y column\n",
    "y = btc_model3_features['y']\n",
    "\n",
    "# Assign a copy of the bitcoin model features DataFrame called X3\n",
    "X3 = btc_model3_features.drop(columns = ['y', \"Actual Returns\"])"
   ]
  },
  {
   "cell_type": "code",
   "execution_count": 72,
   "id": "fc619cfa-5523-4481-a307-27944037ccdc",
   "metadata": {},
   "outputs": [
    {
     "data": {
      "text/html": [
       "<div>\n",
       "<style scoped>\n",
       "    .dataframe tbody tr th:only-of-type {\n",
       "        vertical-align: middle;\n",
       "    }\n",
       "\n",
       "    .dataframe tbody tr th {\n",
       "        vertical-align: top;\n",
       "    }\n",
       "\n",
       "    .dataframe thead th {\n",
       "        text-align: right;\n",
       "    }\n",
       "</style>\n",
       "<table border=\"1\" class=\"dataframe\">\n",
       "  <thead>\n",
       "    <tr style=\"text-align: right;\">\n",
       "      <th></th>\n",
       "      <th>sma200</th>\n",
       "      <th>sma400</th>\n",
       "    </tr>\n",
       "  </thead>\n",
       "  <tbody>\n",
       "    <tr>\n",
       "      <th>2016-12-25</th>\n",
       "      <td>666.24325</td>\n",
       "      <td>547.066650</td>\n",
       "    </tr>\n",
       "    <tr>\n",
       "      <th>2016-12-26</th>\n",
       "      <td>667.85070</td>\n",
       "      <td>548.507075</td>\n",
       "    </tr>\n",
       "    <tr>\n",
       "      <th>2016-12-27</th>\n",
       "      <td>669.63585</td>\n",
       "      <td>550.059525</td>\n",
       "    </tr>\n",
       "    <tr>\n",
       "      <th>2016-12-28</th>\n",
       "      <td>671.36040</td>\n",
       "      <td>551.717175</td>\n",
       "    </tr>\n",
       "    <tr>\n",
       "      <th>2016-12-29</th>\n",
       "      <td>672.72355</td>\n",
       "      <td>553.262675</td>\n",
       "    </tr>\n",
       "  </tbody>\n",
       "</table>\n",
       "</div>"
      ],
      "text/plain": [
       "               sma200      sma400\n",
       "2016-12-25  666.24325  547.066650\n",
       "2016-12-26  667.85070  548.507075\n",
       "2016-12-27  669.63585  550.059525\n",
       "2016-12-28  671.36040  551.717175\n",
       "2016-12-29  672.72355  553.262675"
      ]
     },
     "metadata": {},
     "output_type": "display_data"
    },
    {
     "data": {
      "text/html": [
       "<div>\n",
       "<style scoped>\n",
       "    .dataframe tbody tr th:only-of-type {\n",
       "        vertical-align: middle;\n",
       "    }\n",
       "\n",
       "    .dataframe tbody tr th {\n",
       "        vertical-align: top;\n",
       "    }\n",
       "\n",
       "    .dataframe thead th {\n",
       "        text-align: right;\n",
       "    }\n",
       "</style>\n",
       "<table border=\"1\" class=\"dataframe\">\n",
       "  <thead>\n",
       "    <tr style=\"text-align: right;\">\n",
       "      <th></th>\n",
       "      <th>sma200</th>\n",
       "      <th>sma400</th>\n",
       "    </tr>\n",
       "  </thead>\n",
       "  <tbody>\n",
       "    <tr>\n",
       "      <th>2022-02-02</th>\n",
       "      <td>48927.15005</td>\n",
       "      <td>46706.045375</td>\n",
       "    </tr>\n",
       "    <tr>\n",
       "      <th>2022-02-03</th>\n",
       "      <td>48956.24665</td>\n",
       "      <td>46727.492250</td>\n",
       "    </tr>\n",
       "    <tr>\n",
       "      <th>2022-02-04</th>\n",
       "      <td>49015.72280</td>\n",
       "      <td>46758.284125</td>\n",
       "    </tr>\n",
       "    <tr>\n",
       "      <th>2022-02-05</th>\n",
       "      <td>49074.79520</td>\n",
       "      <td>46788.103150</td>\n",
       "    </tr>\n",
       "    <tr>\n",
       "      <th>2022-02-06</th>\n",
       "      <td>49128.29920</td>\n",
       "      <td>46810.744425</td>\n",
       "    </tr>\n",
       "  </tbody>\n",
       "</table>\n",
       "</div>"
      ],
      "text/plain": [
       "                 sma200        sma400\n",
       "2022-02-02  48927.15005  46706.045375\n",
       "2022-02-03  48956.24665  46727.492250\n",
       "2022-02-04  49015.72280  46758.284125\n",
       "2022-02-05  49074.79520  46788.103150\n",
       "2022-02-06  49128.29920  46810.744425"
      ]
     },
     "metadata": {},
     "output_type": "display_data"
    }
   ],
   "source": [
    "# Generate the X3_train and y_train DataFrames\n",
    "X3_train = X3.loc[training_startdate:training_enddate]\n",
    "y_train = y.loc[training_startdate:training_enddate]\n",
    "\n",
    "# Generate the X3_test and y_test DataFrames\n",
    "X3_test = X3.loc[testing_startdate:testing_enddate]\n",
    "y_test = y.loc[testing_startdate:testing_enddate]\n",
    "\n",
    "# Review the X3_train and test DataFrame\n",
    "display(X3_train.head(5))\n",
    "display(X3_test.tail(5))"
   ]
  },
  {
   "cell_type": "code",
   "execution_count": 73,
   "id": "501fa08b-088c-4d86-9e85-64fb7e5fb60d",
   "metadata": {},
   "outputs": [],
   "source": [
    "# Standardize the Data\n",
    "\n",
    "# Create a StandardScaler instance\n",
    "scaler3 = StandardScaler()\n",
    "\n",
    "# Apply the scaler model to fit the X3_train data\n",
    "X3_scaler = scaler3.fit(X3_train)\n",
    "\n",
    "# Transform the X3_train and X3_test DataFrames using the X3_scaler\n",
    "X3_train_scaled = X3_scaler.transform(X3_train)\n",
    "X3_test_scaled = X3_scaler.transform(X3_test)"
   ]
  },
  {
   "cell_type": "code",
   "execution_count": 74,
   "id": "69ea1677-c4d8-4ebf-aac0-43303e746b78",
   "metadata": {},
   "outputs": [
    {
     "data": {
      "text/plain": [
       "array([1., 1., 1., 1., 1., 1., 1., 1., 1., 1.])"
      ]
     },
     "execution_count": 74,
     "metadata": {},
     "output_type": "execute_result"
    }
   ],
   "source": [
    "# From SVM, instantiate SVC classifier model instance\n",
    "svm_model3 = svm.SVC()\n",
    " \n",
    "# Fit the model to the data using the training data\n",
    "svm_model3 = svm_model3.fit(X3_train_scaled, y_train)\n",
    " \n",
    "# Use the testing data to make the model predictions\n",
    "svm_pred3 = svm_model3.predict(X3_test_scaled)\n",
    "\n",
    "# Review the model's predicted values\n",
    "svm_pred3[:10]"
   ]
  },
  {
   "cell_type": "code",
   "execution_count": 75,
   "id": "c534068a-307d-4e61-9978-7973be80ac95",
   "metadata": {},
   "outputs": [
    {
     "name": "stdout",
     "output_type": "stream",
     "text": [
      "              precision    recall  f1-score   support\n",
      "\n",
      "         0.0       0.00      0.00      0.00       238\n",
      "         1.0       0.54      1.00      0.70       278\n",
      "\n",
      "    accuracy                           0.54       516\n",
      "   macro avg       0.27      0.50      0.35       516\n",
      "weighted avg       0.29      0.54      0.38       516\n",
      "\n"
     ]
    },
    {
     "name": "stderr",
     "output_type": "stream",
     "text": [
      "C:\\Users\\thaye\\anaconda3\\envs\\dev\\lib\\site-packages\\sklearn\\metrics\\_classification.py:1318: UndefinedMetricWarning: Precision and F-score are ill-defined and being set to 0.0 in labels with no predicted samples. Use `zero_division` parameter to control this behavior.\n",
      "  _warn_prf(average, modifier, msg_start, len(result))\n",
      "C:\\Users\\thaye\\anaconda3\\envs\\dev\\lib\\site-packages\\sklearn\\metrics\\_classification.py:1318: UndefinedMetricWarning: Precision and F-score are ill-defined and being set to 0.0 in labels with no predicted samples. Use `zero_division` parameter to control this behavior.\n",
      "  _warn_prf(average, modifier, msg_start, len(result))\n",
      "C:\\Users\\thaye\\anaconda3\\envs\\dev\\lib\\site-packages\\sklearn\\metrics\\_classification.py:1318: UndefinedMetricWarning: Precision and F-score are ill-defined and being set to 0.0 in labels with no predicted samples. Use `zero_division` parameter to control this behavior.\n",
      "  _warn_prf(average, modifier, msg_start, len(result))\n"
     ]
    }
   ],
   "source": [
    "# Use a classification report to evaluate the model using the predictions and testing data\n",
    "SVM3_testing_report = classification_report(y_test, svm_pred3)\n",
    "\n",
    "# Print the classification report\n",
    "print(SVM3_testing_report)"
   ]
  },
  {
   "cell_type": "code",
   "execution_count": 76,
   "id": "97cd59ce-2fca-4fa7-b6e1-c44248dc0ca7",
   "metadata": {},
   "outputs": [
    {
     "data": {
      "text/html": [
       "<div>\n",
       "<style scoped>\n",
       "    .dataframe tbody tr th:only-of-type {\n",
       "        vertical-align: middle;\n",
       "    }\n",
       "\n",
       "    .dataframe tbody tr th {\n",
       "        vertical-align: top;\n",
       "    }\n",
       "\n",
       "    .dataframe thead th {\n",
       "        text-align: right;\n",
       "    }\n",
       "</style>\n",
       "<table border=\"1\" class=\"dataframe\">\n",
       "  <thead>\n",
       "    <tr style=\"text-align: right;\">\n",
       "      <th></th>\n",
       "      <th>Predicted</th>\n",
       "      <th>y_test</th>\n",
       "      <th>Actual Returns</th>\n",
       "      <th>Strategy Returns</th>\n",
       "    </tr>\n",
       "  </thead>\n",
       "  <tbody>\n",
       "    <tr>\n",
       "      <th>2020-09-09</th>\n",
       "      <td>1.0</td>\n",
       "      <td>NaN</td>\n",
       "      <td>0.009764</td>\n",
       "      <td>0.009764</td>\n",
       "    </tr>\n",
       "    <tr>\n",
       "      <th>2020-09-10</th>\n",
       "      <td>1.0</td>\n",
       "      <td>1.0</td>\n",
       "      <td>0.011606</td>\n",
       "      <td>0.011606</td>\n",
       "    </tr>\n",
       "    <tr>\n",
       "      <th>2020-09-11</th>\n",
       "      <td>1.0</td>\n",
       "      <td>1.0</td>\n",
       "      <td>0.001985</td>\n",
       "      <td>0.001985</td>\n",
       "    </tr>\n",
       "    <tr>\n",
       "      <th>2020-09-12</th>\n",
       "      <td>1.0</td>\n",
       "      <td>1.0</td>\n",
       "      <td>0.007986</td>\n",
       "      <td>0.007986</td>\n",
       "    </tr>\n",
       "    <tr>\n",
       "      <th>2020-09-13</th>\n",
       "      <td>1.0</td>\n",
       "      <td>0.0</td>\n",
       "      <td>-0.009307</td>\n",
       "      <td>-0.009307</td>\n",
       "    </tr>\n",
       "  </tbody>\n",
       "</table>\n",
       "</div>"
      ],
      "text/plain": [
       "            Predicted  y_test  Actual Returns  Strategy Returns\n",
       "2020-09-09        1.0     NaN        0.009764          0.009764\n",
       "2020-09-10        1.0     1.0        0.011606          0.011606\n",
       "2020-09-11        1.0     1.0        0.001985          0.001985\n",
       "2020-09-12        1.0     1.0        0.007986          0.007986\n",
       "2020-09-13        1.0     0.0       -0.009307         -0.009307"
      ]
     },
     "metadata": {},
     "output_type": "display_data"
    },
    {
     "data": {
      "text/html": [
       "<div>\n",
       "<style scoped>\n",
       "    .dataframe tbody tr th:only-of-type {\n",
       "        vertical-align: middle;\n",
       "    }\n",
       "\n",
       "    .dataframe tbody tr th {\n",
       "        vertical-align: top;\n",
       "    }\n",
       "\n",
       "    .dataframe thead th {\n",
       "        text-align: right;\n",
       "    }\n",
       "</style>\n",
       "<table border=\"1\" class=\"dataframe\">\n",
       "  <thead>\n",
       "    <tr style=\"text-align: right;\">\n",
       "      <th></th>\n",
       "      <th>Predicted</th>\n",
       "      <th>y_test</th>\n",
       "      <th>Actual Returns</th>\n",
       "      <th>Strategy Returns</th>\n",
       "    </tr>\n",
       "  </thead>\n",
       "  <tbody>\n",
       "    <tr>\n",
       "      <th>2022-02-02</th>\n",
       "      <td>1.0</td>\n",
       "      <td>0.0</td>\n",
       "      <td>-0.036673</td>\n",
       "      <td>-0.036673</td>\n",
       "    </tr>\n",
       "    <tr>\n",
       "      <th>2022-02-03</th>\n",
       "      <td>1.0</td>\n",
       "      <td>1.0</td>\n",
       "      <td>0.014773</td>\n",
       "      <td>0.014773</td>\n",
       "    </tr>\n",
       "    <tr>\n",
       "      <th>2022-02-04</th>\n",
       "      <td>1.0</td>\n",
       "      <td>1.0</td>\n",
       "      <td>0.106232</td>\n",
       "      <td>0.106232</td>\n",
       "    </tr>\n",
       "    <tr>\n",
       "      <th>2022-02-05</th>\n",
       "      <td>1.0</td>\n",
       "      <td>1.0</td>\n",
       "      <td>0.001278</td>\n",
       "      <td>0.001278</td>\n",
       "    </tr>\n",
       "    <tr>\n",
       "      <th>2022-02-06</th>\n",
       "      <td>1.0</td>\n",
       "      <td>1.0</td>\n",
       "      <td>0.029448</td>\n",
       "      <td>0.029448</td>\n",
       "    </tr>\n",
       "  </tbody>\n",
       "</table>\n",
       "</div>"
      ],
      "text/plain": [
       "            Predicted  y_test  Actual Returns  Strategy Returns\n",
       "2022-02-02        1.0     0.0       -0.036673         -0.036673\n",
       "2022-02-03        1.0     1.0        0.014773          0.014773\n",
       "2022-02-04        1.0     1.0        0.106232          0.106232\n",
       "2022-02-05        1.0     1.0        0.001278          0.001278\n",
       "2022-02-06        1.0     1.0        0.029448          0.029448"
      ]
     },
     "metadata": {},
     "output_type": "display_data"
    }
   ],
   "source": [
    "# Create a predictions DataFrame\n",
    "btc3_predictions_df = pd.DataFrame(index=X3_test.index)\n",
    "\n",
    "# Add the SVM model predictions to the DataFrame\n",
    "btc3_predictions_df['Predicted'] = svm_pred3\n",
    "\n",
    "# Add the label test data to the bitcoin predictions df\n",
    "btc3_predictions_df['y_test'] = y_test\n",
    "\n",
    "# Add the actual returns to the DataFrame\n",
    "btc3_predictions_df['Actual Returns'] =  btc_signals_sma200400[\"Actual Returns\"]\n",
    "\n",
    "# Shift the labeled test data back to its original date\n",
    "btc3_predictions_df['y_test'] = btc3_predictions_df['y_test'].shift(1).dropna()\n",
    "\n",
    "# Add the strategy returns to the DataFrame\n",
    "btc3_predictions_df['Strategy Returns'] = btc3_predictions_df['Predicted'] * btc3_predictions_df['Actual Returns']\n",
    "\n",
    "# Review the DataFrame\n",
    "display(btc3_predictions_df.head(5))\n",
    "display(btc3_predictions_df.tail(5))"
   ]
  },
  {
   "cell_type": "code",
   "execution_count": 77,
   "id": "60a60f16-bc4f-411d-a095-8be66ab48c0f",
   "metadata": {},
   "outputs": [
    {
     "data": {
      "text/plain": [
       "<AxesSubplot:title={'center':'actual returns vs. ML Trading Strategy 3'}>"
      ]
     },
     "execution_count": 77,
     "metadata": {},
     "output_type": "execute_result"
    },
    {
     "data": {
      "image/png": "[encoded data removed]",
      "text/plain": [
       "<Figure size 720x360 with 1 Axes>"
      ]
     },
     "metadata": {
      "needs_background": "light"
     },
     "output_type": "display_data"
    }
   ],
   "source": [
    "# Plot the actual returns versus the strategy returns\n",
    "(1 + btc3_predictions_df[[\"Actual Returns\", \"Strategy Returns\"]]).cumprod().plot(\n",
    "    title = 'actual returns vs. ML Trading Strategy 3',\n",
    "    rot = 90,\n",
    "    figsize = (10,5)\n",
    ")"
   ]
  },
  {
   "cell_type": "code",
   "execution_count": 78,
   "id": "53b2bdc1-0bbb-4bc0-bbda-9bb30d9f60f6",
   "metadata": {},
   "outputs": [
    {
     "data": {
      "text/plain": [
       "4.230426765978409"
      ]
     },
     "execution_count": 78,
     "metadata": {},
     "output_type": "execute_result"
    }
   ],
   "source": [
    "# Calculate the cumulative returns of the ML Trading Strategy 3\n",
    "mlstrat3_returns = (1 + btc3_predictions_df[\"Strategy Returns\"]).cumprod()\n",
    "\n",
    "# Review the Results\n",
    "mlstrat3_returns[-1]"
   ]
  },
  {
   "cell_type": "code",
   "execution_count": 79,
   "id": "9dc810dd-ceb3-43fa-a283-3de9ef25ffa5",
   "metadata": {},
   "outputs": [
    {
     "data": {
      "text/plain": [
       "0.040315624533539415"
      ]
     },
     "execution_count": 79,
     "metadata": {},
     "output_type": "execute_result"
    }
   ],
   "source": [
    "# Use the describe function to calulate the daily standard deviation\n",
    "btc3_predictions_df[\"Strategy Returns\"].describe()['std']"
   ]
  },
  {
   "cell_type": "markdown",
   "id": "2a12e3b1-4254-47b7-b43b-abc4fb65f9f9",
   "metadata": {},
   "source": [
    "## ML Trading Strategy 4"
   ]
  },
  {
   "cell_type": "code",
   "execution_count": 80,
   "id": "77efe7ff-9f0d-4380-a49d-bd3805799f97",
   "metadata": {},
   "outputs": [],
   "source": [
    "# Create the features dataframe \n",
    "btc_model4_features = btc_prices_df.copy()"
   ]
  },
  {
   "cell_type": "code",
   "execution_count": 81,
   "id": "934abf70-cf63-4858-b75d-20482b2213fc",
   "metadata": {},
   "outputs": [],
   "source": [
    "#simple moving average\n",
    "btc_model4_features['sma2'] = TA.SMA(btc_model4_features, 2)\n",
    "btc_model4_features['sma5'] = TA.SMA(btc_model4_features, 5)\n",
    "btc_model4_features['sma10'] = TA.SMA(btc_model4_features, 10)\n",
    "btc_model4_features['sma25'] = TA.SMA(btc_model4_features, 25)\n",
    "btc_model4_features['sma50'] = TA.SMA(btc_model4_features, 50)\n",
    "btc_model4_features['sma100'] = TA.SMA(btc_model4_features, 100)\n",
    "btc_model4_features['sma200'] = TA.SMA(btc_model4_features, 200)\n",
    "\n",
    "# Smoothed Moving Average\n",
    "btc_model4_features[\"ssma\"] = TA.SSMA(btc_model4_features)\n",
    "\n",
    "# Exponential Moving Average\n",
    "btc_model4_features[\"ema5\"] = TA.EMA(btc_model4_features, 5)\n",
    "btc_model4_features[\"ema10\"] = TA.EMA(btc_model4_features, 10)\n",
    "btc_model4_features[\"ema25\"] = TA.EMA(btc_model4_features, 25)\n",
    "btc_model4_features[\"ema50\"] = TA.EMA(btc_model4_features, 50)\n",
    "btc_model4_features[\"ema100\"] = TA.EMA(btc_model4_features, 100) \n",
    "btc_model4_features[\"ema200\"] = TA.EMA(btc_model4_features, 200) \n",
    "\n",
    "# Double Exponential Moving Average\n",
    "btc_model4_features[\"dema\"] = TA.DEMA(btc_model4_features) \n",
    "\n",
    "# Simple Moving Median\n",
    "btc_model4_features['SMM'] = TA.SMM(btc_model4_features) \n",
    "\n",
    "# Market Momentum\n",
    "btc_model4_features[\"MOM\"] = TA.MOM(btc_model4_features)\n",
    "\n",
    "# Stop-and-Reverse \n",
    "btc_model4_features[\"SAR\"] = TA.SAR(btc_model4_features)\n",
    "\n",
    "# Chaikin Oscillator\n",
    "btc_model4_features[\"CHAIKIN\"] = TA.CHAIKIN(btc_model4_features)\n",
    "\n",
    "# Moving Standard deviation\n",
    "btc_model4_features[\"MSD\"] = TA.MSD(btc_model4_features)\n",
    "\n",
    "# Schaff Trend Cycle \n",
    "btc_model4_features[\"STC\"] = TA.STC(btc_model4_features)\n",
    "\n",
    "# Relative Strength index\n",
    "btc_model4_features[\"RSI\"] = TA.RSI(btc_model4_features) "
   ]
  },
  {
   "cell_type": "code",
   "execution_count": 82,
   "id": "24a6caad-6606-4749-a5d6-3f4836578492",
   "metadata": {},
   "outputs": [
    {
     "data": {
      "text/html": [
       "<div>\n",
       "<style scoped>\n",
       "    .dataframe tbody tr th:only-of-type {\n",
       "        vertical-align: middle;\n",
       "    }\n",
       "\n",
       "    .dataframe tbody tr th {\n",
       "        vertical-align: top;\n",
       "    }\n",
       "\n",
       "    .dataframe thead th {\n",
       "        text-align: right;\n",
       "    }\n",
       "</style>\n",
       "<table border=\"1\" class=\"dataframe\">\n",
       "  <thead>\n",
       "    <tr style=\"text-align: right;\">\n",
       "      <th></th>\n",
       "      <th>open</th>\n",
       "      <th>high</th>\n",
       "      <th>low</th>\n",
       "      <th>close</th>\n",
       "      <th>volume</th>\n",
       "      <th>sma2</th>\n",
       "      <th>sma5</th>\n",
       "      <th>sma10</th>\n",
       "      <th>sma25</th>\n",
       "      <th>sma50</th>\n",
       "      <th>...</th>\n",
       "      <th>ema200</th>\n",
       "      <th>dema</th>\n",
       "      <th>SMM</th>\n",
       "      <th>MOM</th>\n",
       "      <th>SAR</th>\n",
       "      <th>CHAIKIN</th>\n",
       "      <th>MSD</th>\n",
       "      <th>STC</th>\n",
       "      <th>RSI</th>\n",
       "      <th>y</th>\n",
       "    </tr>\n",
       "  </thead>\n",
       "  <tbody>\n",
       "    <tr>\n",
       "      <th>2016-12-25</th>\n",
       "      <td>876.45</td>\n",
       "      <td>897.40</td>\n",
       "      <td>851.11</td>\n",
       "      <td>896.12</td>\n",
       "      <td>3439.397208</td>\n",
       "      <td>886.290</td>\n",
       "      <td>884.928</td>\n",
       "      <td>838.472</td>\n",
       "      <td>795.9880</td>\n",
       "      <td>762.2482</td>\n",
       "      <td>...</td>\n",
       "      <td>665.162732</td>\n",
       "      <td>893.299791</td>\n",
       "      <td>845.92</td>\n",
       "      <td>119.96</td>\n",
       "      <td>851.11000</td>\n",
       "      <td>3064.812204</td>\n",
       "      <td>49.692600</td>\n",
       "      <td>100.0</td>\n",
       "      <td>75.611712</td>\n",
       "      <td>1.0</td>\n",
       "    </tr>\n",
       "    <tr>\n",
       "      <th>2016-12-26</th>\n",
       "      <td>902.08</td>\n",
       "      <td>903.00</td>\n",
       "      <td>895.00</td>\n",
       "      <td>898.95</td>\n",
       "      <td>855.589004</td>\n",
       "      <td>897.535</td>\n",
       "      <td>895.534</td>\n",
       "      <td>850.269</td>\n",
       "      <td>801.7860</td>\n",
       "      <td>766.0236</td>\n",
       "      <td>...</td>\n",
       "      <td>667.531068</td>\n",
       "      <td>901.453553</td>\n",
       "      <td>876.46</td>\n",
       "      <td>117.97</td>\n",
       "      <td>851.11000</td>\n",
       "      <td>3126.909538</td>\n",
       "      <td>52.630594</td>\n",
       "      <td>100.0</td>\n",
       "      <td>75.987663</td>\n",
       "      <td>1.0</td>\n",
       "    </tr>\n",
       "    <tr>\n",
       "      <th>2016-12-27</th>\n",
       "      <td>925.28</td>\n",
       "      <td>948.99</td>\n",
       "      <td>923.95</td>\n",
       "      <td>942.73</td>\n",
       "      <td>2319.854766</td>\n",
       "      <td>920.840</td>\n",
       "      <td>905.382</td>\n",
       "      <td>865.471</td>\n",
       "      <td>808.9748</td>\n",
       "      <td>770.7312</td>\n",
       "      <td>...</td>\n",
       "      <td>670.318414</td>\n",
       "      <td>922.332619</td>\n",
       "      <td>893.49</td>\n",
       "      <td>152.02</td>\n",
       "      <td>864.52600</td>\n",
       "      <td>3237.116292</td>\n",
       "      <td>58.739147</td>\n",
       "      <td>100.0</td>\n",
       "      <td>80.894327</td>\n",
       "      <td>1.0</td>\n",
       "    </tr>\n",
       "    <tr>\n",
       "      <th>2016-12-28</th>\n",
       "      <td>982.25</td>\n",
       "      <td>988.88</td>\n",
       "      <td>970.76</td>\n",
       "      <td>981.91</td>\n",
       "      <td>2850.629363</td>\n",
       "      <td>962.320</td>\n",
       "      <td>919.234</td>\n",
       "      <td>884.590</td>\n",
       "      <td>817.5692</td>\n",
       "      <td>775.4696</td>\n",
       "      <td>...</td>\n",
       "      <td>673.473801</td>\n",
       "      <td>950.615916</td>\n",
       "      <td>896.12</td>\n",
       "      <td>191.19</td>\n",
       "      <td>881.41880</td>\n",
       "      <td>3197.152511</td>\n",
       "      <td>67.303854</td>\n",
       "      <td>100.0</td>\n",
       "      <td>84.037850</td>\n",
       "      <td>0.0</td>\n",
       "    </tr>\n",
       "    <tr>\n",
       "      <th>2016-12-29</th>\n",
       "      <td>970.51</td>\n",
       "      <td>970.51</td>\n",
       "      <td>949.00</td>\n",
       "      <td>950.49</td>\n",
       "      <td>2030.405944</td>\n",
       "      <td>966.200</td>\n",
       "      <td>934.040</td>\n",
       "      <td>900.737</td>\n",
       "      <td>825.3944</td>\n",
       "      <td>780.1254</td>\n",
       "      <td>...</td>\n",
       "      <td>676.278558</td>\n",
       "      <td>958.657790</td>\n",
       "      <td>898.95</td>\n",
       "      <td>161.47</td>\n",
       "      <td>902.91104</td>\n",
       "      <td>2333.617486</td>\n",
       "      <td>70.782527</td>\n",
       "      <td>100.0</td>\n",
       "      <td>73.582148</td>\n",
       "      <td>1.0</td>\n",
       "    </tr>\n",
       "  </tbody>\n",
       "</table>\n",
       "<p>5 rows × 28 columns</p>\n",
       "</div>"
      ],
      "text/plain": [
       "              open    high     low   close       volume     sma2     sma5  \\\n",
       "2016-12-25  876.45  897.40  851.11  896.12  3439.397208  886.290  884.928   \n",
       "2016-12-26  902.08  903.00  895.00  898.95   855.589004  897.535  895.534   \n",
       "2016-12-27  925.28  948.99  923.95  942.73  2319.854766  920.840  905.382   \n",
       "2016-12-28  982.25  988.88  970.76  981.91  2850.629363  962.320  919.234   \n",
       "2016-12-29  970.51  970.51  949.00  950.49  2030.405944  966.200  934.040   \n",
       "\n",
       "              sma10     sma25     sma50  ...      ema200        dema     SMM  \\\n",
       "2016-12-25  838.472  795.9880  762.2482  ...  665.162732  893.299791  845.92   \n",
       "2016-12-26  850.269  801.7860  766.0236  ...  667.531068  901.453553  876.46   \n",
       "2016-12-27  865.471  808.9748  770.7312  ...  670.318414  922.332619  893.49   \n",
       "2016-12-28  884.590  817.5692  775.4696  ...  673.473801  950.615916  896.12   \n",
       "2016-12-29  900.737  825.3944  780.1254  ...  676.278558  958.657790  898.95   \n",
       "\n",
       "               MOM        SAR      CHAIKIN        MSD    STC        RSI    y  \n",
       "2016-12-25  119.96  851.11000  3064.812204  49.692600  100.0  75.611712  1.0  \n",
       "2016-12-26  117.97  851.11000  3126.909538  52.630594  100.0  75.987663  1.0  \n",
       "2016-12-27  152.02  864.52600  3237.116292  58.739147  100.0  80.894327  1.0  \n",
       "2016-12-28  191.19  881.41880  3197.152511  67.303854  100.0  84.037850  0.0  \n",
       "2016-12-29  161.47  902.91104  2333.617486  70.782527  100.0  73.582148  1.0  \n",
       "\n",
       "[5 rows x 28 columns]"
      ]
     },
     "execution_count": 82,
     "metadata": {},
     "output_type": "execute_result"
    }
   ],
   "source": [
    "#Add Columnn for the target variable\n",
    "btc_model4_features['y'] = btc_signals_ema834['signal'].shift(-1)\n",
    "\n",
    "# Drop null values\n",
    "btc_model4_features = btc_model4_features.dropna()\n",
    "\n",
    "# Review the DataFrame\n",
    "btc_model4_features.head()"
   ]
  },
  {
   "cell_type": "code",
   "execution_count": 83,
   "id": "5f3d5930-ac9f-4be0-ad88-609ec7146bcd",
   "metadata": {},
   "outputs": [],
   "source": [
    "# Create the target set by slicing the y column\n",
    "y = btc_model4_features['y']\n",
    "\n",
    "# Assign a copy of the bitcoin model features DataFrame called X4\n",
    "X4 = btc_model4_features.drop(columns = ['open', 'high', 'low','close','volume', 'y'])"
   ]
  },
  {
   "cell_type": "code",
   "execution_count": 84,
   "id": "734786b6-3103-460e-9ead-2b3d0e6b5740",
   "metadata": {},
   "outputs": [
    {
     "data": {
      "text/html": [
       "<div>\n",
       "<style scoped>\n",
       "    .dataframe tbody tr th:only-of-type {\n",
       "        vertical-align: middle;\n",
       "    }\n",
       "\n",
       "    .dataframe tbody tr th {\n",
       "        vertical-align: top;\n",
       "    }\n",
       "\n",
       "    .dataframe thead th {\n",
       "        text-align: right;\n",
       "    }\n",
       "</style>\n",
       "<table border=\"1\" class=\"dataframe\">\n",
       "  <thead>\n",
       "    <tr style=\"text-align: right;\">\n",
       "      <th></th>\n",
       "      <th>sma2</th>\n",
       "      <th>sma5</th>\n",
       "      <th>sma10</th>\n",
       "      <th>sma25</th>\n",
       "      <th>sma50</th>\n",
       "      <th>sma100</th>\n",
       "      <th>sma200</th>\n",
       "      <th>ssma</th>\n",
       "      <th>ema5</th>\n",
       "      <th>ema10</th>\n",
       "      <th>...</th>\n",
       "      <th>ema100</th>\n",
       "      <th>ema200</th>\n",
       "      <th>dema</th>\n",
       "      <th>SMM</th>\n",
       "      <th>MOM</th>\n",
       "      <th>SAR</th>\n",
       "      <th>CHAIKIN</th>\n",
       "      <th>MSD</th>\n",
       "      <th>STC</th>\n",
       "      <th>RSI</th>\n",
       "    </tr>\n",
       "  </thead>\n",
       "  <tbody>\n",
       "    <tr>\n",
       "      <th>2016-12-25</th>\n",
       "      <td>886.290</td>\n",
       "      <td>884.928</td>\n",
       "      <td>838.472</td>\n",
       "      <td>795.9880</td>\n",
       "      <td>762.2482</td>\n",
       "      <td>701.1920</td>\n",
       "      <td>666.24325</td>\n",
       "      <td>826.045067</td>\n",
       "      <td>877.157231</td>\n",
       "      <td>850.453738</td>\n",
       "      <td>...</td>\n",
       "      <td>721.347322</td>\n",
       "      <td>665.162732</td>\n",
       "      <td>893.299791</td>\n",
       "      <td>845.92</td>\n",
       "      <td>119.96</td>\n",
       "      <td>851.11000</td>\n",
       "      <td>3064.812204</td>\n",
       "      <td>49.692600</td>\n",
       "      <td>100.0</td>\n",
       "      <td>75.611712</td>\n",
       "    </tr>\n",
       "    <tr>\n",
       "      <th>2016-12-26</th>\n",
       "      <td>897.535</td>\n",
       "      <td>895.534</td>\n",
       "      <td>850.269</td>\n",
       "      <td>801.7860</td>\n",
       "      <td>766.0236</td>\n",
       "      <td>704.1043</td>\n",
       "      <td>667.85070</td>\n",
       "      <td>834.145615</td>\n",
       "      <td>884.421487</td>\n",
       "      <td>859.271240</td>\n",
       "      <td>...</td>\n",
       "      <td>724.865318</td>\n",
       "      <td>667.531068</td>\n",
       "      <td>901.453553</td>\n",
       "      <td>876.46</td>\n",
       "      <td>117.97</td>\n",
       "      <td>851.11000</td>\n",
       "      <td>3126.909538</td>\n",
       "      <td>52.630594</td>\n",
       "      <td>100.0</td>\n",
       "      <td>75.987663</td>\n",
       "    </tr>\n",
       "    <tr>\n",
       "      <th>2016-12-27</th>\n",
       "      <td>920.840</td>\n",
       "      <td>905.382</td>\n",
       "      <td>865.471</td>\n",
       "      <td>808.9748</td>\n",
       "      <td>770.7312</td>\n",
       "      <td>707.4176</td>\n",
       "      <td>669.63585</td>\n",
       "      <td>846.210546</td>\n",
       "      <td>903.857658</td>\n",
       "      <td>874.445560</td>\n",
       "      <td>...</td>\n",
       "      <td>729.180806</td>\n",
       "      <td>670.318414</td>\n",
       "      <td>922.332619</td>\n",
       "      <td>893.49</td>\n",
       "      <td>152.02</td>\n",
       "      <td>864.52600</td>\n",
       "      <td>3237.116292</td>\n",
       "      <td>58.739147</td>\n",
       "      <td>100.0</td>\n",
       "      <td>80.894327</td>\n",
       "    </tr>\n",
       "    <tr>\n",
       "      <th>2016-12-28</th>\n",
       "      <td>962.320</td>\n",
       "      <td>919.234</td>\n",
       "      <td>884.590</td>\n",
       "      <td>817.5692</td>\n",
       "      <td>775.4696</td>\n",
       "      <td>711.1438</td>\n",
       "      <td>671.36040</td>\n",
       "      <td>861.288263</td>\n",
       "      <td>929.875106</td>\n",
       "      <td>893.984549</td>\n",
       "      <td>...</td>\n",
       "      <td>734.186864</td>\n",
       "      <td>673.473801</td>\n",
       "      <td>950.615916</td>\n",
       "      <td>896.12</td>\n",
       "      <td>191.19</td>\n",
       "      <td>881.41880</td>\n",
       "      <td>3197.152511</td>\n",
       "      <td>67.303854</td>\n",
       "      <td>100.0</td>\n",
       "      <td>84.037850</td>\n",
       "    </tr>\n",
       "    <tr>\n",
       "      <th>2016-12-29</th>\n",
       "      <td>966.200</td>\n",
       "      <td>934.040</td>\n",
       "      <td>900.737</td>\n",
       "      <td>825.3944</td>\n",
       "      <td>780.1254</td>\n",
       "      <td>714.6601</td>\n",
       "      <td>672.72355</td>\n",
       "      <td>871.199568</td>\n",
       "      <td>936.746737</td>\n",
       "      <td>904.258268</td>\n",
       "      <td>...</td>\n",
       "      <td>738.471369</td>\n",
       "      <td>676.278558</td>\n",
       "      <td>958.657790</td>\n",
       "      <td>898.95</td>\n",
       "      <td>161.47</td>\n",
       "      <td>902.91104</td>\n",
       "      <td>2333.617486</td>\n",
       "      <td>70.782527</td>\n",
       "      <td>100.0</td>\n",
       "      <td>73.582148</td>\n",
       "    </tr>\n",
       "  </tbody>\n",
       "</table>\n",
       "<p>5 rows × 22 columns</p>\n",
       "</div>"
      ],
      "text/plain": [
       "               sma2     sma5    sma10     sma25     sma50    sma100  \\\n",
       "2016-12-25  886.290  884.928  838.472  795.9880  762.2482  701.1920   \n",
       "2016-12-26  897.535  895.534  850.269  801.7860  766.0236  704.1043   \n",
       "2016-12-27  920.840  905.382  865.471  808.9748  770.7312  707.4176   \n",
       "2016-12-28  962.320  919.234  884.590  817.5692  775.4696  711.1438   \n",
       "2016-12-29  966.200  934.040  900.737  825.3944  780.1254  714.6601   \n",
       "\n",
       "               sma200        ssma        ema5       ema10  ...      ema100  \\\n",
       "2016-12-25  666.24325  826.045067  877.157231  850.453738  ...  721.347322   \n",
       "2016-12-26  667.85070  834.145615  884.421487  859.271240  ...  724.865318   \n",
       "2016-12-27  669.63585  846.210546  903.857658  874.445560  ...  729.180806   \n",
       "2016-12-28  671.36040  861.288263  929.875106  893.984549  ...  734.186864   \n",
       "2016-12-29  672.72355  871.199568  936.746737  904.258268  ...  738.471369   \n",
       "\n",
       "                ema200        dema     SMM     MOM        SAR      CHAIKIN  \\\n",
       "2016-12-25  665.162732  893.299791  845.92  119.96  851.11000  3064.812204   \n",
       "2016-12-26  667.531068  901.453553  876.46  117.97  851.11000  3126.909538   \n",
       "2016-12-27  670.318414  922.332619  893.49  152.02  864.52600  3237.116292   \n",
       "2016-12-28  673.473801  950.615916  896.12  191.19  881.41880  3197.152511   \n",
       "2016-12-29  676.278558  958.657790  898.95  161.47  902.91104  2333.617486   \n",
       "\n",
       "                  MSD    STC        RSI  \n",
       "2016-12-25  49.692600  100.0  75.611712  \n",
       "2016-12-26  52.630594  100.0  75.987663  \n",
       "2016-12-27  58.739147  100.0  80.894327  \n",
       "2016-12-28  67.303854  100.0  84.037850  \n",
       "2016-12-29  70.782527  100.0  73.582148  \n",
       "\n",
       "[5 rows x 22 columns]"
      ]
     },
     "metadata": {},
     "output_type": "display_data"
    },
    {
     "data": {
      "text/html": [
       "<div>\n",
       "<style scoped>\n",
       "    .dataframe tbody tr th:only-of-type {\n",
       "        vertical-align: middle;\n",
       "    }\n",
       "\n",
       "    .dataframe tbody tr th {\n",
       "        vertical-align: top;\n",
       "    }\n",
       "\n",
       "    .dataframe thead th {\n",
       "        text-align: right;\n",
       "    }\n",
       "</style>\n",
       "<table border=\"1\" class=\"dataframe\">\n",
       "  <thead>\n",
       "    <tr style=\"text-align: right;\">\n",
       "      <th></th>\n",
       "      <th>sma2</th>\n",
       "      <th>sma5</th>\n",
       "      <th>sma10</th>\n",
       "      <th>sma25</th>\n",
       "      <th>sma50</th>\n",
       "      <th>sma100</th>\n",
       "      <th>sma200</th>\n",
       "      <th>ssma</th>\n",
       "      <th>ema5</th>\n",
       "      <th>ema10</th>\n",
       "      <th>...</th>\n",
       "      <th>ema100</th>\n",
       "      <th>ema200</th>\n",
       "      <th>dema</th>\n",
       "      <th>SMM</th>\n",
       "      <th>MOM</th>\n",
       "      <th>SAR</th>\n",
       "      <th>CHAIKIN</th>\n",
       "      <th>MSD</th>\n",
       "      <th>STC</th>\n",
       "      <th>RSI</th>\n",
       "    </tr>\n",
       "  </thead>\n",
       "  <tbody>\n",
       "    <tr>\n",
       "      <th>2022-02-02</th>\n",
       "      <td>37724.505</td>\n",
       "      <td>37820.182</td>\n",
       "      <td>37370.786</td>\n",
       "      <td>39480.2360</td>\n",
       "      <td>43326.2020</td>\n",
       "      <td>50469.1157</td>\n",
       "      <td>48927.15005</td>\n",
       "      <td>38478.653616</td>\n",
       "      <td>37640.041787</td>\n",
       "      <td>37768.847030</td>\n",
       "      <td>...</td>\n",
       "      <td>46354.868325</td>\n",
       "      <td>47086.018349</td>\n",
       "      <td>37309.653233</td>\n",
       "      <td>37633.85</td>\n",
       "      <td>1824.17</td>\n",
       "      <td>39300.0000</td>\n",
       "      <td>1630.976829</td>\n",
       "      <td>2805.316028</td>\n",
       "      <td>60.034799</td>\n",
       "      <td>38.483559</td>\n",
       "    </tr>\n",
       "    <tr>\n",
       "      <th>2022-02-03</th>\n",
       "      <td>37293.295</td>\n",
       "      <td>37703.846</td>\n",
       "      <td>37521.217</td>\n",
       "      <td>39301.6936</td>\n",
       "      <td>43107.0402</td>\n",
       "      <td>50233.0929</td>\n",
       "      <td>48956.24665</td>\n",
       "      <td>38377.330992</td>\n",
       "      <td>37615.611191</td>\n",
       "      <td>37732.102115</td>\n",
       "      <td>...</td>\n",
       "      <td>46180.846180</td>\n",
       "      <td>46991.299261</td>\n",
       "      <td>37338.035335</td>\n",
       "      <td>37566.75</td>\n",
       "      <td>1504.31</td>\n",
       "      <td>38917.9998</td>\n",
       "      <td>3284.656634</td>\n",
       "      <td>2659.943750</td>\n",
       "      <td>82.632672</td>\n",
       "      <td>41.125662</td>\n",
       "    </tr>\n",
       "    <tr>\n",
       "      <th>2022-02-04</th>\n",
       "      <td>39562.145</td>\n",
       "      <td>38610.064</td>\n",
       "      <td>37913.586</td>\n",
       "      <td>39279.1696</td>\n",
       "      <td>42983.7352</td>\n",
       "      <td>50060.4050</td>\n",
       "      <td>49015.72280</td>\n",
       "      <td>38730.687548</td>\n",
       "      <td>38929.587461</td>\n",
       "      <td>38427.636276</td>\n",
       "      <td>...</td>\n",
       "      <td>46089.295563</td>\n",
       "      <td>46937.232005</td>\n",
       "      <td>38802.032867</td>\n",
       "      <td>37680.33</td>\n",
       "      <td>3923.69</td>\n",
       "      <td>32933.3300</td>\n",
       "      <td>10076.347578</td>\n",
       "      <td>2557.651257</td>\n",
       "      <td>95.620213</td>\n",
       "      <td>55.982120</td>\n",
       "    </tr>\n",
       "    <tr>\n",
       "      <th>2022-02-05</th>\n",
       "      <td>41584.090</td>\n",
       "      <td>39236.788</td>\n",
       "      <td>38474.856</td>\n",
       "      <td>39234.6292</td>\n",
       "      <td>42883.5732</td>\n",
       "      <td>49861.2500</td>\n",
       "      <td>49074.79520</td>\n",
       "      <td>39050.682265</td>\n",
       "      <td>39823.271641</td>\n",
       "      <td>39006.364226</td>\n",
       "      <td>...</td>\n",
       "      <td>46000.609314</td>\n",
       "      <td>46884.231089</td>\n",
       "      <td>39868.327573</td>\n",
       "      <td>38148.43</td>\n",
       "      <td>5612.70</td>\n",
       "      <td>32933.3300</td>\n",
       "      <td>12813.065730</td>\n",
       "      <td>2453.283438</td>\n",
       "      <td>100.000000</td>\n",
       "      <td>56.140709</td>\n",
       "    </tr>\n",
       "    <tr>\n",
       "      <th>2022-02-06</th>\n",
       "      <td>42223.315</td>\n",
       "      <td>40118.152</td>\n",
       "      <td>39035.216</td>\n",
       "      <td>39200.5352</td>\n",
       "      <td>42787.7942</td>\n",
       "      <td>49674.8483</td>\n",
       "      <td>49128.29920</td>\n",
       "      <td>39471.272014</td>\n",
       "      <td>40827.511094</td>\n",
       "      <td>39702.659821</td>\n",
       "      <td>...</td>\n",
       "      <td>45937.943585</td>\n",
       "      <td>46843.950083</td>\n",
       "      <td>41061.574681</td>\n",
       "      <td>38429.17</td>\n",
       "      <td>5603.60</td>\n",
       "      <td>33294.7968</td>\n",
       "      <td>15610.260578</td>\n",
       "      <td>2467.651234</td>\n",
       "      <td>100.000000</td>\n",
       "      <td>59.744942</td>\n",
       "    </tr>\n",
       "  </tbody>\n",
       "</table>\n",
       "<p>5 rows × 22 columns</p>\n",
       "</div>"
      ],
      "text/plain": [
       "                 sma2       sma5      sma10       sma25       sma50  \\\n",
       "2022-02-02  37724.505  37820.182  37370.786  39480.2360  43326.2020   \n",
       "2022-02-03  37293.295  37703.846  37521.217  39301.6936  43107.0402   \n",
       "2022-02-04  39562.145  38610.064  37913.586  39279.1696  42983.7352   \n",
       "2022-02-05  41584.090  39236.788  38474.856  39234.6292  42883.5732   \n",
       "2022-02-06  42223.315  40118.152  39035.216  39200.5352  42787.7942   \n",
       "\n",
       "                sma100       sma200          ssma          ema5         ema10  \\\n",
       "2022-02-02  50469.1157  48927.15005  38478.653616  37640.041787  37768.847030   \n",
       "2022-02-03  50233.0929  48956.24665  38377.330992  37615.611191  37732.102115   \n",
       "2022-02-04  50060.4050  49015.72280  38730.687548  38929.587461  38427.636276   \n",
       "2022-02-05  49861.2500  49074.79520  39050.682265  39823.271641  39006.364226   \n",
       "2022-02-06  49674.8483  49128.29920  39471.272014  40827.511094  39702.659821   \n",
       "\n",
       "            ...        ema100        ema200          dema       SMM      MOM  \\\n",
       "2022-02-02  ...  46354.868325  47086.018349  37309.653233  37633.85  1824.17   \n",
       "2022-02-03  ...  46180.846180  46991.299261  37338.035335  37566.75  1504.31   \n",
       "2022-02-04  ...  46089.295563  46937.232005  38802.032867  37680.33  3923.69   \n",
       "2022-02-05  ...  46000.609314  46884.231089  39868.327573  38148.43  5612.70   \n",
       "2022-02-06  ...  45937.943585  46843.950083  41061.574681  38429.17  5603.60   \n",
       "\n",
       "                   SAR       CHAIKIN          MSD         STC        RSI  \n",
       "2022-02-02  39300.0000   1630.976829  2805.316028   60.034799  38.483559  \n",
       "2022-02-03  38917.9998   3284.656634  2659.943750   82.632672  41.125662  \n",
       "2022-02-04  32933.3300  10076.347578  2557.651257   95.620213  55.982120  \n",
       "2022-02-05  32933.3300  12813.065730  2453.283438  100.000000  56.140709  \n",
       "2022-02-06  33294.7968  15610.260578  2467.651234  100.000000  59.744942  \n",
       "\n",
       "[5 rows x 22 columns]"
      ]
     },
     "metadata": {},
     "output_type": "display_data"
    }
   ],
   "source": [
    "# Generate the X4_train and y_train DataFrames\n",
    "X4_train = X4.loc[training_startdate:training_enddate]\n",
    "y_train = y.loc[training_startdate:training_enddate]\n",
    "\n",
    "# Generate the X4_test and y_test DataFrames\n",
    "X4_test = X4.loc[testing_startdate:testing_enddate]\n",
    "y_test = y.loc[testing_startdate:testing_enddate]\n",
    "\n",
    "# Review the X4_train and test DataFrame\n",
    "display(X4_train.head(5))\n",
    "display(X4_test.tail(5))"
   ]
  },
  {
   "cell_type": "code",
   "execution_count": 85,
   "id": "a3a1a50f-bfc9-453e-a1ce-7720ac8d3f3b",
   "metadata": {},
   "outputs": [],
   "source": [
    "# Standardize the data\n",
    "\n",
    "# Create a StandardScaler instance\n",
    "scaler4 = StandardScaler()\n",
    "\n",
    "# Apply the scaler model to fit the X-train data\n",
    "X4_scaler = scaler4.fit(X4_train)\n",
    "\n",
    "# Transform the X_train and X_test DataFrames using the X_scaler\n",
    "X4_train_scaled = X4_scaler.transform(X4_train)\n",
    "X4_test_scaled = X4_scaler.transform(X4_test)"
   ]
  },
  {
   "cell_type": "code",
   "execution_count": 86,
   "id": "08d39a44-19ff-4a27-a3c6-c69acf900ccd",
   "metadata": {},
   "outputs": [
    {
     "name": "stdout",
     "output_type": "stream",
     "text": [
      "Fitting 20 folds for each of 12 candidates, totalling 240 fits\n"
     ]
    },
    {
     "data": {
      "text/plain": [
       "array([1., 1., 1., 1., 1., 1., 1., 0., 0., 0.])"
      ]
     },
     "execution_count": 86,
     "metadata": {},
     "output_type": "execute_result"
    }
   ],
   "source": [
    "# From XGB, instantiate the XGB classifier model instance\n",
    "XGB_model = XGBClassifier()\n",
    "\n",
    "# number of estimators\n",
    "n_estimators = [50, 300, 50]\n",
    "\n",
    "max_depth = [2, 4, 6, 8]\n",
    "\n",
    "XGB_grid = dict(max_depth=max_depth, n_estimators=n_estimators)\n",
    "\n",
    "#numbers of splits\n",
    "kfold = StratifiedKFold(n_splits=20)\n",
    "\n",
    "XGB_grid_search = GridSearchCV(XGB_model, XGB_grid, n_jobs=-1, cv=kfold, verbose=1)\n",
    "\n",
    "# Fit the model to the data using the training data\n",
    "XGB_model_fit = XGB_grid_search.fit(X4_train_scaled, y_train)\n",
    "\n",
    "# Use the testing data to make the model predictions\n",
    "XGB_pred = XGB_model_fit.predict(X4_test_scaled)\n",
    "\n",
    "# Review the model's predicted values\n",
    "XGB_pred[:10]"
   ]
  },
  {
   "cell_type": "code",
   "execution_count": 87,
   "id": "00a5aff1-4ffc-4dcc-aebd-5deb3fa1bf25",
   "metadata": {},
   "outputs": [
    {
     "name": "stdout",
     "output_type": "stream",
     "text": [
      "              precision    recall  f1-score   support\n",
      "\n",
      "         0.0       0.48      0.96      0.64       238\n",
      "         1.0       0.74      0.09      0.16       278\n",
      "\n",
      "    accuracy                           0.49       516\n",
      "   macro avg       0.61      0.53      0.40       516\n",
      "weighted avg       0.62      0.49      0.38       516\n",
      "\n"
     ]
    }
   ],
   "source": [
    "# Use a classification report to evaluate the model using the predictions and testing data\n",
    "XGB_testing_report = classification_report(y_test, XGB_pred)\n",
    "\n",
    "# Print the classification report\n",
    "print(XGB_testing_report)"
   ]
  },
  {
   "cell_type": "code",
   "execution_count": 88,
   "id": "efc17f82-d6a9-409d-881c-e33a51992408",
   "metadata": {},
   "outputs": [
    {
     "data": {
      "text/html": [
       "<div>\n",
       "<style scoped>\n",
       "    .dataframe tbody tr th:only-of-type {\n",
       "        vertical-align: middle;\n",
       "    }\n",
       "\n",
       "    .dataframe tbody tr th {\n",
       "        vertical-align: top;\n",
       "    }\n",
       "\n",
       "    .dataframe thead th {\n",
       "        text-align: right;\n",
       "    }\n",
       "</style>\n",
       "<table border=\"1\" class=\"dataframe\">\n",
       "  <thead>\n",
       "    <tr style=\"text-align: right;\">\n",
       "      <th></th>\n",
       "      <th>Predicted</th>\n",
       "      <th>y_test</th>\n",
       "      <th>Actual Returns</th>\n",
       "      <th>Strategy Returns</th>\n",
       "    </tr>\n",
       "  </thead>\n",
       "  <tbody>\n",
       "    <tr>\n",
       "      <th>2020-09-09</th>\n",
       "      <td>1.0</td>\n",
       "      <td>NaN</td>\n",
       "      <td>0.009764</td>\n",
       "      <td>0.009764</td>\n",
       "    </tr>\n",
       "    <tr>\n",
       "      <th>2020-09-10</th>\n",
       "      <td>1.0</td>\n",
       "      <td>1.0</td>\n",
       "      <td>0.011606</td>\n",
       "      <td>0.011606</td>\n",
       "    </tr>\n",
       "    <tr>\n",
       "      <th>2020-09-11</th>\n",
       "      <td>1.0</td>\n",
       "      <td>1.0</td>\n",
       "      <td>0.001985</td>\n",
       "      <td>0.001985</td>\n",
       "    </tr>\n",
       "    <tr>\n",
       "      <th>2020-09-12</th>\n",
       "      <td>1.0</td>\n",
       "      <td>1.0</td>\n",
       "      <td>0.007986</td>\n",
       "      <td>0.007986</td>\n",
       "    </tr>\n",
       "    <tr>\n",
       "      <th>2020-09-13</th>\n",
       "      <td>1.0</td>\n",
       "      <td>0.0</td>\n",
       "      <td>-0.009307</td>\n",
       "      <td>-0.009307</td>\n",
       "    </tr>\n",
       "  </tbody>\n",
       "</table>\n",
       "</div>"
      ],
      "text/plain": [
       "            Predicted  y_test  Actual Returns  Strategy Returns\n",
       "2020-09-09        1.0     NaN        0.009764          0.009764\n",
       "2020-09-10        1.0     1.0        0.011606          0.011606\n",
       "2020-09-11        1.0     1.0        0.001985          0.001985\n",
       "2020-09-12        1.0     1.0        0.007986          0.007986\n",
       "2020-09-13        1.0     0.0       -0.009307         -0.009307"
      ]
     },
     "metadata": {},
     "output_type": "display_data"
    },
    {
     "data": {
      "text/html": [
       "<div>\n",
       "<style scoped>\n",
       "    .dataframe tbody tr th:only-of-type {\n",
       "        vertical-align: middle;\n",
       "    }\n",
       "\n",
       "    .dataframe tbody tr th {\n",
       "        vertical-align: top;\n",
       "    }\n",
       "\n",
       "    .dataframe thead th {\n",
       "        text-align: right;\n",
       "    }\n",
       "</style>\n",
       "<table border=\"1\" class=\"dataframe\">\n",
       "  <thead>\n",
       "    <tr style=\"text-align: right;\">\n",
       "      <th></th>\n",
       "      <th>Predicted</th>\n",
       "      <th>y_test</th>\n",
       "      <th>Actual Returns</th>\n",
       "      <th>Strategy Returns</th>\n",
       "    </tr>\n",
       "  </thead>\n",
       "  <tbody>\n",
       "    <tr>\n",
       "      <th>2022-02-02</th>\n",
       "      <td>0.0</td>\n",
       "      <td>0.0</td>\n",
       "      <td>-0.036673</td>\n",
       "      <td>-0.0</td>\n",
       "    </tr>\n",
       "    <tr>\n",
       "      <th>2022-02-03</th>\n",
       "      <td>0.0</td>\n",
       "      <td>1.0</td>\n",
       "      <td>0.014773</td>\n",
       "      <td>0.0</td>\n",
       "    </tr>\n",
       "    <tr>\n",
       "      <th>2022-02-04</th>\n",
       "      <td>0.0</td>\n",
       "      <td>1.0</td>\n",
       "      <td>0.106232</td>\n",
       "      <td>0.0</td>\n",
       "    </tr>\n",
       "    <tr>\n",
       "      <th>2022-02-05</th>\n",
       "      <td>0.0</td>\n",
       "      <td>1.0</td>\n",
       "      <td>0.001278</td>\n",
       "      <td>0.0</td>\n",
       "    </tr>\n",
       "    <tr>\n",
       "      <th>2022-02-06</th>\n",
       "      <td>0.0</td>\n",
       "      <td>1.0</td>\n",
       "      <td>0.029448</td>\n",
       "      <td>0.0</td>\n",
       "    </tr>\n",
       "  </tbody>\n",
       "</table>\n",
       "</div>"
      ],
      "text/plain": [
       "            Predicted  y_test  Actual Returns  Strategy Returns\n",
       "2022-02-02        0.0     0.0       -0.036673              -0.0\n",
       "2022-02-03        0.0     1.0        0.014773               0.0\n",
       "2022-02-04        0.0     1.0        0.106232               0.0\n",
       "2022-02-05        0.0     1.0        0.001278               0.0\n",
       "2022-02-06        0.0     1.0        0.029448               0.0"
      ]
     },
     "metadata": {},
     "output_type": "display_data"
    }
   ],
   "source": [
    "# Create a predictions DataFrame\n",
    "btc4_predictions_df = pd.DataFrame(index=X4_test.index)\n",
    "\n",
    "# Add the SVM model predictions to the DataFrame\n",
    "btc4_predictions_df['Predicted'] = XGB_pred\n",
    "\n",
    "# Add the labeled test data to the bitcoin predictions df\n",
    "btc4_predictions_df['y_test'] = y_test\n",
    "\n",
    "# Add the actual returns to the DataFrame\n",
    "btc4_predictions_df['Actual Returns'] =  btc_signals_ema834[\"Actual Returns\"]\n",
    "\n",
    "# Shift the labeled test data back to its original date\n",
    "btc4_predictions_df['y_test'] = btc4_predictions_df['y_test'].shift(1).dropna()\n",
    "\n",
    "# Add the strategy returns to the DataFrame\n",
    "btc4_predictions_df['Strategy Returns'] = btc4_predictions_df['Predicted'] * btc4_predictions_df['Actual Returns']\n",
    "\n",
    "# Review the DataFrame\n",
    "display(btc4_predictions_df.head(5))\n",
    "display(btc4_predictions_df.tail(5))"
   ]
  },
  {
   "cell_type": "code",
   "execution_count": 89,
   "id": "d3bd9607-f2f4-40ff-9f99-ba877a0bafcc",
   "metadata": {},
   "outputs": [
    {
     "data": {
      "text/plain": [
       "<AxesSubplot:title={'center':'actual returns vs. ML Trading Strategy 4'}>"
      ]
     },
     "execution_count": 89,
     "metadata": {},
     "output_type": "execute_result"
    },
    {
     "data": {
      "image/png": "[encoded data removed]",
      "text/plain": [
       "<Figure size 432x288 with 1 Axes>"
      ]
     },
     "metadata": {
      "needs_background": "light"
     },
     "output_type": "display_data"
    }
   ],
   "source": [
    "# Plot the actual returns versus the strategy returns\n",
    "(1 + btc4_predictions_df[[\"Actual Returns\", \"Strategy Returns\"]]).cumprod().plot(\n",
    "    title = 'actual returns vs. ML Trading Strategy 4'\n",
    ")"
   ]
  },
  {
   "cell_type": "code",
   "execution_count": 90,
   "id": "4d948169-1180-4b06-b787-37baec59d51e",
   "metadata": {},
   "outputs": [
    {
     "data": {
      "text/plain": [
       "1.1078857942036389"
      ]
     },
     "execution_count": 90,
     "metadata": {},
     "output_type": "execute_result"
    }
   ],
   "source": [
    "# Calculate the cumulative returns of the ML Trading Strategy 4\n",
    "xgb_returns = (1 + btc4_predictions_df[\"Strategy Returns\"]).cumprod()\n",
    "\n",
    "# Review the Results\n",
    "xgb_returns[-1]"
   ]
  },
  {
   "cell_type": "code",
   "execution_count": 91,
   "id": "d070be9f-253b-445a-92ce-dab286d12b25",
   "metadata": {},
   "outputs": [
    {
     "data": {
      "text/plain": [
       "0.004423390905151805"
      ]
     },
     "execution_count": 91,
     "metadata": {},
     "output_type": "execute_result"
    }
   ],
   "source": [
    "# Use the describe function to calulate the daily standard deviation\n",
    "btc4_predictions_df[\"Strategy Returns\"].describe()['std']"
   ]
  },
  {
   "cell_type": "markdown",
   "id": "4239a135-35d7-4afc-a9ba-be6df5ce3c09",
   "metadata": {},
   "source": [
    "# Plot the Most Profitable Strategy and Display Entry Points"
   ]
  },
  {
   "cell_type": "code",
   "execution_count": 92,
   "id": "527b7363-f09c-4c70-9c9d-462d452331cb",
   "metadata": {},
   "outputs": [],
   "source": [
    "ema834_plot_df = btc_prices_ema834.copy()"
   ]
  },
  {
   "cell_type": "code",
   "execution_count": 93,
   "id": "1ffb2845-4b00-40ad-a071-2221b7f44343",
   "metadata": {},
   "outputs": [],
   "source": [
    "ema834_plot_df[\"Signal\"] = np.where(\n",
    "    btc_prices_ema834[\"ema8\"]> btc_prices_ema834[\"ema34\"], 1.0, 0.0\n",
    ")\n"
   ]
  },
  {
   "cell_type": "code",
   "execution_count": 94,
   "id": "cc4748aa-199c-463c-ae3c-d92677f25643",
   "metadata": {},
   "outputs": [],
   "source": [
    "ema834_plot_df[\"Entry/Exit\"] = ema834_plot_df[\"Signal\"].diff()\n",
    "ema834_plot_df= ema834_plot_df.dropna()\n"
   ]
  },
  {
   "cell_type": "code",
   "execution_count": 95,
   "id": "65fbdae9-1b79-4d4e-a22b-7b93d6060875",
   "metadata": {},
   "outputs": [
    {
     "data": {},
     "metadata": {},
     "output_type": "display_data"
    },
    {
     "data": {
      "application/vnd.holoviews_exec.v0+json": "",
      "text/html": [
       "<div id='1002'>\n",
       "\n",
       "\n",
       "\n",
       "\n",
       "\n",
       "  <div class=\"bk-root\" id=\"5f819f30-702d-4c44-9ff1-cb96d181ca1a\" data-root-id=\"1002\"></div>\n",
       "</div>\n",
       "<script type=\"application/javascript\">(function(root) {\n",
       "  function embed_document(root) {\n",
       "    var docs_json = {\"b82598d5-3591-41c4-a98e-1b64cffb1466\":{\"defs\":[{\"extends\":null,\"module\":null,\"name\":\"ReactiveHTML1\",\"overrides\":[],\"properties\":[]},{\"extends\":null,\"module\":null,\"name\":\"FlexBox1\",\"overrides\":[],\"properties\":[{\"default\":\"flex-start\",\"kind\":null,\"name\":\"align_content\"},{\"default\":\"flex-start\",\"kind\":null,\"name\":\"align_items\"},{\"default\":\"row\",\"kind\":null,\"name\":\"flex_direction\"},{\"default\":\"wrap\",\"kind\":null,\"name\":\"flex_wrap\"},{\"default\":\"flex-start\",\"kind\":null,\"name\":\"justify_content\"}]},{\"extends\":null,\"module\":null,\"name\":\"TemplateActions1\",\"overrides\":[],\"properties\":[{\"default\":0,\"kind\":null,\"name\":\"open_modal\"},{\"default\":0,\"kind\":null,\"name\":\"close_modal\"}]},{\"extends\":null,\"module\":null,\"name\":\"MaterialTemplateActions1\",\"overrides\":[],\"properties\":[{\"default\":0,\"kind\":null,\"name\":\"open_modal\"},{\"default\":0,\"kind\":null,\"name\":\"close_modal\"}]}],\"roots\":{\"references\":[{\"attributes\":{\"line_alpha\":0.1,\"line_color\":\"lightgray\",\"line_width\":2,\"x\":{\"field\":\"index\"},\"y\":{\"field\":\"close\"}},\"id\":\"1052\",\"type\":\"Line\"},{\"attributes\":{\"label\":{\"value\":\"ema8\"},\"renderers\":[{\"id\":\"1063\"}]},\"id\":\"1090\",\"type\":\"LegendItem\"},{\"attributes\":{},\"id\":\"1028\",\"type\":\"SaveTool\"},{\"attributes\":{},\"id\":\"1029\",\"type\":\"PanTool\"},{\"attributes\":{\"overlay\":{\"id\":\"1033\"}},\"id\":\"1031\",\"type\":\"BoxZoomTool\"},{\"attributes\":{\"angle\":{\"value\":3.141592653589793},\"fill_alpha\":{\"value\":0.2},\"fill_color\":{\"value\":\"red\"},\"hatch_alpha\":{\"value\":0.2},\"hatch_color\":{\"value\":\"red\"},\"line_alpha\":{\"value\":0.2},\"line_color\":{\"value\":\"red\"},\"marker\":{\"value\":\"triangle\"},\"size\":{\"value\":5.477225575051661},\"x\":{\"field\":\"index\"},\"y\":{\"field\":\"close\"}},\"id\":\"1324\",\"type\":\"Scatter\"},{\"attributes\":{},\"id\":\"1044\",\"type\":\"AllLabels\"},{\"attributes\":{},\"id\":\"1030\",\"type\":\"WheelZoomTool\"},{\"attributes\":{\"line_color\":\"salmon\",\"line_width\":2,\"x\":{\"field\":\"index\"},\"y\":{\"field\":\"value\"}},\"id\":\"1091\",\"type\":\"Line\"},{\"attributes\":{\"coordinates\":null,\"data_source\":{\"id\":\"1057\"},\"glyph\":{\"id\":\"1060\"},\"group\":null,\"hover_glyph\":null,\"muted_glyph\":{\"id\":\"1062\"},\"nonselection_glyph\":{\"id\":\"1061\"},\"selection_glyph\":{\"id\":\"1091\"},\"view\":{\"id\":\"1064\"}},\"id\":\"1063\",\"type\":\"GlyphRenderer\"},{\"attributes\":{},\"id\":\"1111\",\"type\":\"UnionRenderers\"},{\"attributes\":{\"margin\":[5,5,5,5],\"name\":\"HSpacer02082\",\"sizing_mode\":\"stretch_width\"},\"id\":\"1598\",\"type\":\"Spacer\"},{\"attributes\":{\"line_color\":\"blue\",\"line_width\":2,\"x\":{\"field\":\"index\"},\"y\":{\"field\":\"value\"}},\"id\":\"1095\",\"type\":\"Line\"},{\"attributes\":{\"data\":{\"close\":{\"__ndarray__\":\"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\",\"dtype\":\"float64\",\"order\":\"little\",\"shape\":[1871]},\"index\":{\"__ndarray__\":\"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\",\"dtype\":\"float64\",\"order\":\"little\",\"shape\":[1871]}},\"selected\":{\"id\":\"1049\"},\"selection_policy\":{\"id\":\"1072\"}},\"id\":\"1048\",\"type\":\"ColumnDataSource\"},{\"attributes\":{\"source\":{\"id\":\"1319\"}},\"id\":\"1326\",\"type\":\"CDSView\"},{\"attributes\":{\"tools\":[{\"id\":\"1006\"},{\"id\":\"1007\"},{\"id\":\"1028\"},{\"id\":\"1029\"},{\"id\":\"1030\"},{\"id\":\"1031\"},{\"id\":\"1032\"}]},\"id\":\"1034\",\"type\":\"Toolbar\"},{\"attributes\":{\"data\":{\"Variable\":[\"ema8\",\"ema8\",\"ema8\",\"ema8\",\"ema8\",\"ema8\",\"ema8\",\"ema8\",\"ema8\",\"ema8\",\"ema8\",\"ema8\",\"ema8\",\"ema8\",\"ema8\",\"ema8\",\"ema8\",\"ema8\",\"ema8\",\"ema8\",\"ema8\",\"ema8\",\"ema8\",\"ema8\",\"ema8\",\"ema8\",\"ema8\",\"ema8\",\"ema8\",\"ema8\",\"ema8\",\"ema8\",\"ema8\",\"ema8\",\"ema8\",\"ema8\",\"ema8\",\"ema8\",\"ema8\",\"ema8\",\"ema8\",\"ema8\",\"ema8\",\"ema8\",\"ema8\",\"ema8\",\"ema8\",\"ema8\",\"ema8\",\"ema8\",\"ema8\",\"ema8\",\"ema8\",\"ema8\",\"ema8\",\"ema8\",\"ema8\",\"ema8\",\"ema8\",\"ema8\",\"ema8\",\"ema8\",\"ema8\",\"ema8\",\"ema8\",\"ema8\",\"ema8\",\"ema8\",\"ema8\",\"ema8\",\"ema8\",\"ema8\",\"ema8\",\"ema8\",\"ema8\",\"ema8\",\"ema8\",\"ema8\",\"ema8\",\"ema8\",\"ema8\",\"ema8\",\"ema8\",\"ema8\",\"ema8\",\"ema8\",\"ema8\",\"ema8\",\"ema8\",\"ema8\",\"ema8\",\"ema8\",\"ema8\",\"ema8\",\"ema8\",\"ema8\",\"ema8\",\"ema8\",\"ema8\",\"ema8\",\"ema8\",\"ema8\",\"ema8\",\"ema8\",\"ema8\",\"ema8\",\"ema8\",\"ema8\",\"ema8\",\"ema8\",\"ema8\",\"ema8\",\"ema8\",\"ema8\",\"ema8\",\"ema8\",\"ema8\",\"ema8\",\"ema8\",\"ema8\",\"ema8\",\"ema8\",\"ema8\",\"ema8\",\"ema8\",\"ema8\",\"ema8\",\"ema8\",\"ema8\",\"ema8\",\"ema8\",\"ema8\",\"ema8\",\"ema8\",\"ema8\",\"ema8\",\"ema8\",\"ema8\",\"ema8\",\"ema8\",\"ema8\",\"ema8\",\"ema8\",\"ema8\",\"ema8\",\"ema8\",\"ema8\",\"ema8\",\"ema8\",\"ema8\",\"ema8\",\"ema8\",\"ema8\",\"ema8\",\"ema8\",\"ema8\",\"ema8\",\"ema8\",\"ema8\",\"ema8\",\"ema8\",\"ema8\",\"ema8\",\"ema8\",\"ema8\",\"ema8\",\"ema8\",\"ema8\",\"ema8\",\"ema8\",\"ema8\",\"ema8\",\"ema8\",\"ema8\",\"ema8\",\"ema8\",\"ema8\",\"ema8\",\"ema8\",\"ema8\",\"ema8\",\"ema8\",\"ema8\",\"ema8\",\"ema8\",\"ema8\",\"ema8\",\"ema8\",\"ema8\",\"ema8\",\"ema8\",\"ema8\",\"ema8\",\"ema8\",\"ema8\",\"ema8\",\"ema8\",\"ema8\",\"ema8\",\"ema8\",\"ema8\",\"ema8\",\"ema8\",\"ema8\",\"ema8\",\"ema8\",\"ema8\",\"ema8\",\"ema8\",\"ema8\",\"ema8\",\"ema8\",\"ema8\",\"ema8\",\"ema8\",\"ema8\",\"ema8\",\"ema8\",\"ema8\",\"ema8\",\"ema8\",\"ema8\",\"ema8\",\"ema8\",\"ema8\",\"ema8\",\"ema8\",\"ema8\",\"ema8\",\"ema8\",\"ema8\",\"ema8\",\"ema8\",\"ema8\",\"ema8\",\"ema8\",\"ema8\",\"ema8\",\"ema8\",\"ema8\",\"ema8\",\"ema8\",\"ema8\",\"ema8\",\"ema8\",\"ema8\",\"ema8\",\"ema8\",\"ema8\",\"ema8\",\"ema8\",\"ema8\",\"ema8\",\"ema8\",\"ema8\",\"ema8\",\"ema8\",\"ema8\",\"ema8\",\"ema8\",\"ema8\",\"ema8\",\"ema8\",\"ema8\",\"ema8\",\"ema8\",\"ema8\",\"ema8\",\"ema8\",\"ema8\",\"ema8\",\"ema8\",\"ema8\",\"ema8\",\"ema8\",\"ema8\",\"ema8\",\"ema8\",\"ema8\",\"ema8\",\"ema8\",\"ema8\",\"ema8\",\"ema8\",\"ema8\",\"ema8\",\"ema8\",\"ema8\",\"ema8\",\"ema8\",\"ema8\",\"ema8\",\"ema8\",\"ema8\",\"ema8\",\"ema8\",\"ema8\",\"ema8\",\"ema8\",\"ema8\",\"ema8\",\"ema8\",\"ema8\",\"ema8\",\"ema8\",\"ema8\",\"ema8\",\"ema8\",\"ema8\",\"ema8\",\"ema8\",\"ema8\",\"ema8\",\"ema8\",\"ema8\",\"ema8\",\"ema8\",\"ema8\",\"ema8\",\"ema8\",\"ema8\",\"ema8\",\"ema8\",\"ema8\",\"ema8\",\"ema8\",\"ema8\",\"ema8\",\"ema8\",\"ema8\",\"ema8\",\"ema8\",\"ema8\",\"ema8\",\"ema8\",\"ema8\",\"ema8\",\"ema8\",\"ema8\",\"ema8\",\"ema8\",\"ema8\",\"ema8\",\"ema8\",\"ema8\",\"ema8\",\"ema8\",\"ema8\",\"ema8\",\"ema8\",\"ema8\",\"ema8\",\"ema8\",\"ema8\",\"ema8\",\"ema8\",\"ema8\",\"ema8\",\"ema8\",\"ema8\",\"ema8\",\"ema8\",\"ema8\",\"ema8\",\"ema8\",\"ema8\",\"ema8\",\"ema8\",\"ema8\",\"ema8\",\"ema8\",\"ema8\",\"ema8\",\"ema8\",\"ema8\",\"ema8\",\"ema8\",\"ema8\",\"ema8\",\"ema8\",\"ema8\",\"ema8\",\"ema8\",\"ema8\",\"ema8\",\"ema8\",\"ema8\",\"ema8\",\"ema8\",\"ema8\",\"ema8\",\"ema8\",\"ema8\",\"ema8\",\"ema8\",\"ema8\",\"ema8\",\"ema8\",\"ema8\",\"ema8\",\"ema8\",\"ema8\",\"ema8\",\"ema8\",\"ema8\",\"ema8\",\"ema8\",\"ema8\",\"ema8\",\"ema8\",\"ema8\",\"ema8\",\"ema8\",\"ema8\",\"ema8\",\"ema8\",\"ema8\",\"ema8\",\"ema8\",\"ema8\",\"ema8\",\"ema8\",\"ema8\",\"ema8\",\"ema8\",\"ema8\",\"ema8\",\"ema8\",\"ema8\",\"ema8\",\"ema8\",\"ema8\",\"ema8\",\"ema8\",\"ema8\",\"ema8\",\"ema8\",\"ema8\",\"ema8\",\"ema8\",\"ema8\",\"ema8\",\"ema8\",\"ema8\",\"ema8\",\"ema8\",\"ema8\",\"ema8\",\"ema8\",\"ema8\",\"ema8\",\"ema8\",\"ema8\",\"ema8\",\"ema8\",\"ema8\",\"ema8\",\"ema8\",\"ema8\",\"ema8\",\"ema8\",\"ema8\",\"ema8\",\"ema8\",\"ema8\",\"ema8\",\"ema8\",\"ema8\",\"ema8\",\"ema8\",\"ema8\",\"ema8\",\"ema8\",\"ema8\",\"ema8\",\"ema8\",\"ema8\",\"ema8\",\"ema8\",\"ema8\",\"ema8\",\"ema8\",\"ema8\",\"ema8\",\"ema8\",\"ema8\",\"ema8\",\"ema8\",\"ema8\",\"ema8\",\"ema8\",\"ema8\",\"ema8\",\"ema8\",\"ema8\",\"ema8\",\"ema8\",\"ema8\",\"ema8\",\"ema8\",\"ema8\",\"ema8\",\"ema8\",\"ema8\",\"ema8\",\"ema8\",\"ema8\",\"ema8\",\"ema8\",\"ema8\",\"ema8\",\"ema8\",\"ema8\",\"ema8\",\"ema8\",\"ema8\",\"ema8\",\"ema8\",\"ema8\",\"ema8\",\"ema8\",\"ema8\",\"ema8\",\"ema8\",\"ema8\",\"ema8\",\"ema8\",\"ema8\",\"ema8\",\"ema8\",\"ema8\",\"ema8\",\"ema8\",\"ema8\",\"ema8\",\"ema8\",\"ema8\",\"ema8\",\"ema8\",\"ema8\",\"ema8\",\"ema8\",\"ema8\",\"ema8\",\"ema8\",\"ema8\",\"ema8\",\"ema8\",\"ema8\",\"ema8\",\"ema8\",\"ema8\",\"ema8\",\"ema8\",\"ema8\",\"ema8\",\"ema8\",\"ema8\",\"ema8\",\"ema8\",\"ema8\",\"ema8\",\"ema8\",\"ema8\",\"ema8\",\"ema8\",\"ema8\",\"ema8\",\"ema8\",\"ema8\",\"ema8\",\"ema8\",\"ema8\",\"ema8\",\"ema8\",\"ema8\",\"ema8\",\"ema8\",\"ema8\",\"ema8\",\"ema8\",\"ema8\",\"ema8\",\"ema8\",\"ema8\",\"ema8\",\"ema8\",\"ema8\",\"ema8\",\"ema8\",\"ema8\",\"ema8\",\"ema8\",\"ema8\",\"ema8\",\"ema8\",\"ema8\",\"ema8\",\"ema8\",\"ema8\",\"ema8\",\"ema8\",\"ema8\",\"ema8\",\"ema8\",\"ema8\",\"ema8\",\"ema8\",\"ema8\",\"ema8\",\"ema8\",\"ema8\",\"ema8\",\"ema8\",\"ema8\",\"ema8\",\"ema8\",\"ema8\",\"ema8\",\"ema8\",\"ema8\",\"ema8\",\"ema8\",\"ema8\",\"ema8\",\"ema8\",\"ema8\",\"ema8\",\"ema8\",\"ema8\",\"ema8\",\"ema8\",\"ema8\",\"ema8\",\"ema8\",\"ema8\",\"ema8\",\"ema8\",\"ema8\",\"ema8\",\"ema8\",\"ema8\",\"ema8\",\"ema8\",\"ema8\",\"ema8\",\"ema8\",\"ema8\",\"ema8\",\"ema8\",\"ema8\",\"ema8\",\"ema8\",\"ema8\",\"ema8\",\"ema8\",\"ema8\",\"ema8\",\"ema8\",\"ema8\",\"ema8\",\"ema8\",\"ema8\",\"ema8\",\"ema8\",\"ema8\",\"ema8\",\"ema8\",\"ema8\",\"ema8\",\"ema8\",\"ema8\",\"ema8\",\"ema8\",\"ema8\",\"ema8\",\"ema8\",\"ema8\",\"ema8\",\"ema8\",\"ema8\",\"ema8\",\"ema8\",\"ema8\",\"ema8\",\"ema8\",\"ema8\",\"ema8\",\"ema8\",\"ema8\",\"ema8\",\"ema8\",\"ema8\",\"ema8\",\"ema8\",\"ema8\",\"ema8\",\"ema8\",\"ema8\",\"ema8\",\"ema8\",\"ema8\",\"ema8\",\"ema8\",\"ema8\",\"ema8\",\"ema8\",\"ema8\",\"ema8\",\"ema8\",\"ema8\",\"ema8\",\"ema8\",\"ema8\",\"ema8\",\"ema8\",\"ema8\",\"ema8\",\"ema8\",\"ema8\",\"ema8\",\"ema8\",\"ema8\",\"ema8\",\"ema8\",\"ema8\",\"ema8\",\"ema8\",\"ema8\",\"ema8\",\"ema8\",\"ema8\",\"ema8\",\"ema8\",\"ema8\",\"ema8\",\"ema8\",\"ema8\",\"ema8\",\"ema8\",\"ema8\",\"ema8\",\"ema8\",\"ema8\",\"ema8\",\"ema8\",\"ema8\",\"ema8\",\"ema8\",\"ema8\",\"ema8\",\"ema8\",\"ema8\",\"ema8\",\"ema8\",\"ema8\",\"ema8\",\"ema8\",\"ema8\",\"ema8\",\"ema8\",\"ema8\",\"ema8\",\"ema8\",\"ema8\",\"ema8\",\"ema8\",\"ema8\",\"ema8\",\"ema8\",\"ema8\",\"ema8\",\"ema8\",\"ema8\",\"ema8\",\"ema8\",\"ema8\",\"ema8\",\"ema8\",\"ema8\",\"ema8\",\"ema8\",\"ema8\",\"ema8\",\"ema8\",\"ema8\",\"ema8\",\"ema8\",\"ema8\",\"ema8\",\"ema8\",\"ema8\",\"ema8\",\"ema8\",\"ema8\",\"ema8\",\"ema8\",\"ema8\",\"ema8\",\"ema8\",\"ema8\",\"ema8\",\"ema8\",\"ema8\",\"ema8\",\"ema8\",\"ema8\",\"ema8\",\"ema8\",\"ema8\",\"ema8\",\"ema8\",\"ema8\",\"ema8\",\"ema8\",\"ema8\",\"ema8\",\"ema8\",\"ema8\",\"ema8\",\"ema8\",\"ema8\",\"ema8\",\"ema8\",\"ema8\",\"ema8\",\"ema8\",\"ema8\",\"ema8\",\"ema8\",\"ema8\",\"ema8\",\"ema8\",\"ema8\",\"ema8\",\"ema8\",\"ema8\",\"ema8\",\"ema8\",\"ema8\",\"ema8\",\"ema8\",\"ema8\",\"ema8\",\"ema8\",\"ema8\",\"ema8\",\"ema8\",\"ema8\",\"ema8\",\"ema8\",\"ema8\",\"ema8\",\"ema8\",\"ema8\",\"ema8\",\"ema8\",\"ema8\",\"ema8\",\"ema8\",\"ema8\",\"ema8\",\"ema8\",\"ema8\",\"ema8\",\"ema8\",\"ema8\",\"ema8\",\"ema8\",\"ema8\",\"ema8\",\"ema8\",\"ema8\",\"ema8\",\"ema8\",\"ema8\",\"ema8\",\"ema8\",\"ema8\",\"ema8\",\"ema8\",\"ema8\",\"ema8\",\"ema8\",\"ema8\",\"ema8\",\"ema8\",\"ema8\",\"ema8\",\"ema8\",\"ema8\",\"ema8\",\"ema8\",\"ema8\",\"ema8\",\"ema8\",\"ema8\",\"ema8\",\"ema8\",\"ema8\",\"ema8\",\"ema8\",\"ema8\",\"ema8\",\"ema8\",\"ema8\",\"ema8\",\"ema8\",\"ema8\",\"ema8\",\"ema8\",\"ema8\",\"ema8\",\"ema8\",\"ema8\",\"ema8\",\"ema8\",\"ema8\",\"ema8\",\"ema8\",\"ema8\",\"ema8\",\"ema8\",\"ema8\",\"ema8\",\"ema8\",\"ema8\",\"ema8\",\"ema8\",\"ema8\",\"ema8\",\"ema8\",\"ema8\",\"ema8\",\"ema8\",\"ema8\",\"ema8\",\"ema8\",\"ema8\",\"ema8\",\"ema8\",\"ema8\",\"ema8\",\"ema8\",\"ema8\",\"ema8\",\"ema8\",\"ema8\",\"ema8\",\"ema8\",\"ema8\",\"ema8\",\"ema8\",\"ema8\",\"ema8\",\"ema8\",\"ema8\",\"ema8\",\"ema8\",\"ema8\",\"ema8\",\"ema8\",\"ema8\",\"ema8\",\"ema8\",\"ema8\",\"ema8\",\"ema8\",\"ema8\",\"ema8\",\"ema8\",\"ema8\",\"ema8\",\"ema8\",\"ema8\",\"ema8\",\"ema8\",\"ema8\",\"ema8\",\"ema8\",\"ema8\",\"ema8\",\"ema8\",\"ema8\",\"ema8\",\"ema8\",\"ema8\",\"ema8\",\"ema8\",\"ema8\",\"ema8\",\"ema8\",\"ema8\",\"ema8\",\"ema8\",\"ema8\",\"ema8\",\"ema8\",\"ema8\",\"ema8\",\"ema8\",\"ema8\",\"ema8\",\"ema8\",\"ema8\",\"ema8\",\"ema8\",\"ema8\",\"ema8\",\"ema8\",\"ema8\",\"ema8\",\"ema8\",\"ema8\",\"ema8\",\"ema8\",\"ema8\",\"ema8\",\"ema8\",\"ema8\",\"ema8\",\"ema8\",\"ema8\",\"ema8\",\"ema8\",\"ema8\",\"ema8\",\"ema8\",\"ema8\",\"ema8\",\"ema8\",\"ema8\",\"ema8\",\"ema8\",\"ema8\",\"ema8\",\"ema8\",\"ema8\",\"ema8\",\"ema8\",\"ema8\",\"ema8\",\"ema8\",\"ema8\",\"ema8\",\"ema8\",\"ema8\",\"ema8\",\"ema8\",\"ema8\",\"ema8\",\"ema8\",\"ema8\",\"ema8\",\"ema8\",\"ema8\",\"ema8\",\"ema8\",\"ema8\",\"ema8\",\"ema8\",\"ema8\",\"ema8\",\"ema8\",\"ema8\",\"ema8\",\"ema8\",\"ema8\",\"ema8\",\"ema8\",\"ema8\",\"ema8\",\"ema8\",\"ema8\",\"ema8\",\"ema8\",\"ema8\",\"ema8\",\"ema8\",\"ema8\",\"ema8\",\"ema8\",\"ema8\",\"ema8\",\"ema8\",\"ema8\",\"ema8\",\"ema8\",\"ema8\",\"ema8\",\"ema8\",\"ema8\",\"ema8\",\"ema8\",\"ema8\",\"ema8\",\"ema8\",\"ema8\",\"ema8\",\"ema8\",\"ema8\",\"ema8\",\"ema8\",\"ema8\",\"ema8\",\"ema8\",\"ema8\",\"ema8\",\"ema8\",\"ema8\",\"ema8\",\"ema8\",\"ema8\",\"ema8\",\"ema8\",\"ema8\",\"ema8\",\"ema8\",\"ema8\",\"ema8\",\"ema8\",\"ema8\",\"ema8\",\"ema8\",\"ema8\",\"ema8\",\"ema8\",\"ema8\",\"ema8\",\"ema8\",\"ema8\",\"ema8\",\"ema8\",\"ema8\",\"ema8\",\"ema8\",\"ema8\",\"ema8\",\"ema8\",\"ema8\",\"ema8\",\"ema8\",\"ema8\",\"ema8\",\"ema8\",\"ema8\",\"ema8\",\"ema8\",\"ema8\",\"ema8\",\"ema8\",\"ema8\",\"ema8\",\"ema8\",\"ema8\",\"ema8\",\"ema8\",\"ema8\",\"ema8\",\"ema8\",\"ema8\",\"ema8\",\"ema8\",\"ema8\",\"ema8\",\"ema8\",\"ema8\",\"ema8\",\"ema8\",\"ema8\",\"ema8\",\"ema8\",\"ema8\",\"ema8\",\"ema8\",\"ema8\",\"ema8\",\"ema8\",\"ema8\",\"ema8\",\"ema8\",\"ema8\",\"ema8\",\"ema8\",\"ema8\",\"ema8\",\"ema8\",\"ema8\",\"ema8\",\"ema8\",\"ema8\",\"ema8\",\"ema8\",\"ema8\",\"ema8\",\"ema8\",\"ema8\",\"ema8\",\"ema8\",\"ema8\",\"ema8\",\"ema8\",\"ema8\",\"ema8\",\"ema8\",\"ema8\",\"ema8\",\"ema8\",\"ema8\",\"ema8\",\"ema8\",\"ema8\",\"ema8\",\"ema8\",\"ema8\",\"ema8\",\"ema8\",\"ema8\",\"ema8\",\"ema8\",\"ema8\",\"ema8\",\"ema8\",\"ema8\",\"ema8\",\"ema8\",\"ema8\",\"ema8\",\"ema8\",\"ema8\",\"ema8\",\"ema8\",\"ema8\",\"ema8\",\"ema8\",\"ema8\",\"ema8\",\"ema8\",\"ema8\",\"ema8\",\"ema8\",\"ema8\",\"ema8\",\"ema8\",\"ema8\",\"ema8\",\"ema8\",\"ema8\",\"ema8\",\"ema8\",\"ema8\",\"ema8\",\"ema8\",\"ema8\",\"ema8\",\"ema8\",\"ema8\",\"ema8\",\"ema8\",\"ema8\",\"ema8\",\"ema8\",\"ema8\",\"ema8\",\"ema8\",\"ema8\",\"ema8\",\"ema8\",\"ema8\",\"ema8\",\"ema8\",\"ema8\",\"ema8\",\"ema8\",\"ema8\",\"ema8\",\"ema8\",\"ema8\",\"ema8\",\"ema8\",\"ema8\",\"ema8\",\"ema8\",\"ema8\",\"ema8\",\"ema8\",\"ema8\",\"ema8\",\"ema8\",\"ema8\",\"ema8\",\"ema8\",\"ema8\",\"ema8\",\"ema8\",\"ema8\",\"ema8\",\"ema8\",\"ema8\",\"ema8\",\"ema8\",\"ema8\",\"ema8\",\"ema8\",\"ema8\",\"ema8\",\"ema8\",\"ema8\",\"ema8\",\"ema8\",\"ema8\",\"ema8\",\"ema8\",\"ema8\",\"ema8\",\"ema8\",\"ema8\",\"ema8\",\"ema8\",\"ema8\",\"ema8\",\"ema8\",\"ema8\",\"ema8\",\"ema8\",\"ema8\",\"ema8\",\"ema8\",\"ema8\",\"ema8\",\"ema8\",\"ema8\",\"ema8\",\"ema8\",\"ema8\",\"ema8\",\"ema8\",\"ema8\",\"ema8\",\"ema8\",\"ema8\",\"ema8\",\"ema8\",\"ema8\",\"ema8\",\"ema8\",\"ema8\",\"ema8\",\"ema8\",\"ema8\",\"ema8\",\"ema8\",\"ema8\",\"ema8\",\"ema8\",\"ema8\",\"ema8\",\"ema8\",\"ema8\",\"ema8\",\"ema8\",\"ema8\",\"ema8\",\"ema8\",\"ema8\",\"ema8\",\"ema8\",\"ema8\",\"ema8\",\"ema8\",\"ema8\",\"ema8\",\"ema8\",\"ema8\",\"ema8\",\"ema8\",\"ema8\",\"ema8\",\"ema8\",\"ema8\",\"ema8\",\"ema8\",\"ema8\",\"ema8\",\"ema8\",\"ema8\",\"ema8\",\"ema8\",\"ema8\",\"ema8\",\"ema8\",\"ema8\",\"ema8\",\"ema8\",\"ema8\",\"ema8\",\"ema8\",\"ema8\",\"ema8\",\"ema8\",\"ema8\",\"ema8\",\"ema8\",\"ema8\",\"ema8\",\"ema8\",\"ema8\",\"ema8\",\"ema8\",\"ema8\",\"ema8\",\"ema8\",\"ema8\",\"ema8\",\"ema8\",\"ema8\",\"ema8\",\"ema8\",\"ema8\",\"ema8\",\"ema8\",\"ema8\",\"ema8\",\"ema8\",\"ema8\",\"ema8\",\"ema8\",\"ema8\",\"ema8\",\"ema8\",\"ema8\",\"ema8\",\"ema8\",\"ema8\",\"ema8\",\"ema8\",\"ema8\",\"ema8\",\"ema8\",\"ema8\",\"ema8\",\"ema8\",\"ema8\",\"ema8\",\"ema8\",\"ema8\",\"ema8\",\"ema8\",\"ema8\",\"ema8\",\"ema8\",\"ema8\",\"ema8\",\"ema8\",\"ema8\",\"ema8\",\"ema8\",\"ema8\",\"ema8\",\"ema8\",\"ema8\",\"ema8\",\"ema8\",\"ema8\",\"ema8\",\"ema8\",\"ema8\",\"ema8\",\"ema8\",\"ema8\",\"ema8\",\"ema8\",\"ema8\",\"ema8\",\"ema8\",\"ema8\",\"ema8\",\"ema8\",\"ema8\",\"ema8\",\"ema8\",\"ema8\",\"ema8\",\"ema8\",\"ema8\",\"ema8\",\"ema8\",\"ema8\",\"ema8\",\"ema8\",\"ema8\",\"ema8\",\"ema8\",\"ema8\",\"ema8\",\"ema8\",\"ema8\",\"ema8\",\"ema8\",\"ema8\",\"ema8\",\"ema8\",\"ema8\",\"ema8\",\"ema8\",\"ema8\",\"ema8\",\"ema8\",\"ema8\",\"ema8\",\"ema8\",\"ema8\",\"ema8\",\"ema8\",\"ema8\",\"ema8\",\"ema8\",\"ema8\",\"ema8\",\"ema8\",\"ema8\",\"ema8\",\"ema8\",\"ema8\",\"ema8\",\"ema8\",\"ema8\",\"ema8\",\"ema8\",\"ema8\",\"ema8\",\"ema8\",\"ema8\",\"ema8\",\"ema8\",\"ema8\",\"ema8\",\"ema8\",\"ema8\",\"ema8\",\"ema8\",\"ema8\",\"ema8\",\"ema8\",\"ema8\",\"ema8\",\"ema8\",\"ema8\",\"ema8\",\"ema8\",\"ema8\",\"ema8\",\"ema8\",\"ema8\",\"ema8\",\"ema8\",\"ema8\",\"ema8\",\"ema8\",\"ema8\",\"ema8\",\"ema8\",\"ema8\",\"ema8\",\"ema8\",\"ema8\",\"ema8\",\"ema8\",\"ema8\",\"ema8\",\"ema8\",\"ema8\",\"ema8\",\"ema8\",\"ema8\",\"ema8\",\"ema8\",\"ema8\",\"ema8\",\"ema8\",\"ema8\",\"ema8\",\"ema8\",\"ema8\",\"ema8\",\"ema8\",\"ema8\",\"ema8\",\"ema8\",\"ema8\",\"ema8\",\"ema8\",\"ema8\",\"ema8\",\"ema8\",\"ema8\",\"ema8\",\"ema8\",\"ema8\",\"ema8\",\"ema8\",\"ema8\",\"ema8\",\"ema8\",\"ema8\",\"ema8\",\"ema8\",\"ema8\",\"ema8\",\"ema8\",\"ema8\",\"ema8\",\"ema8\",\"ema8\",\"ema8\",\"ema8\",\"ema8\",\"ema8\",\"ema8\",\"ema8\",\"ema8\",\"ema8\",\"ema8\",\"ema8\",\"ema8\",\"ema8\",\"ema8\",\"ema8\",\"ema8\",\"ema8\",\"ema8\",\"ema8\",\"ema8\",\"ema8\",\"ema8\",\"ema8\",\"ema8\",\"ema8\",\"ema8\",\"ema8\",\"ema8\",\"ema8\",\"ema8\",\"ema8\",\"ema8\",\"ema8\",\"ema8\",\"ema8\",\"ema8\",\"ema8\",\"ema8\",\"ema8\",\"ema8\",\"ema8\",\"ema8\",\"ema8\",\"ema8\",\"ema8\",\"ema8\",\"ema8\",\"ema8\",\"ema8\",\"ema8\",\"ema8\",\"ema8\",\"ema8\",\"ema8\",\"ema8\",\"ema8\",\"ema8\",\"ema8\",\"ema8\",\"ema8\",\"ema8\",\"ema8\",\"ema8\",\"ema8\",\"ema8\",\"ema8\",\"ema8\",\"ema8\",\"ema8\",\"ema8\",\"ema8\",\"ema8\",\"ema8\",\"ema8\",\"ema8\",\"ema8\",\"ema8\",\"ema8\",\"ema8\",\"ema8\",\"ema8\",\"ema8\",\"ema8\",\"ema8\",\"ema8\",\"ema8\",\"ema8\",\"ema8\",\"ema8\",\"ema8\",\"ema8\",\"ema8\",\"ema8\",\"ema8\",\"ema8\",\"ema8\",\"ema8\",\"ema8\",\"ema8\",\"ema8\",\"ema8\",\"ema8\",\"ema8\",\"ema8\",\"ema8\",\"ema8\",\"ema8\",\"ema8\",\"ema8\",\"ema8\",\"ema8\",\"ema8\",\"ema8\",\"ema8\",\"ema8\",\"ema8\",\"ema8\",\"ema8\",\"ema8\",\"ema8\",\"ema8\",\"ema8\",\"ema8\",\"ema8\",\"ema8\",\"ema8\",\"ema8\",\"ema8\",\"ema8\",\"ema8\",\"ema8\",\"ema8\",\"ema8\",\"ema8\",\"ema8\",\"ema8\",\"ema8\",\"ema8\",\"ema8\",\"ema8\",\"ema8\",\"ema8\",\"ema8\",\"ema8\",\"ema8\",\"ema8\",\"ema8\",\"ema8\",\"ema8\",\"ema8\",\"ema8\",\"ema8\",\"ema8\",\"ema8\",\"ema8\",\"ema8\",\"ema8\",\"ema8\",\"ema8\",\"ema8\",\"ema8\",\"ema8\",\"ema8\",\"ema8\",\"ema8\",\"ema8\",\"ema8\",\"ema8\",\"ema8\",\"ema8\",\"ema8\",\"ema8\",\"ema8\",\"ema8\",\"ema8\",\"ema8\",\"ema8\",\"ema8\",\"ema8\",\"ema8\",\"ema8\",\"ema8\",\"ema8\",\"ema8\",\"ema8\",\"ema8\",\"ema8\",\"ema8\",\"ema8\",\"ema8\",\"ema8\",\"ema8\",\"ema8\",\"ema8\",\"ema8\",\"ema8\",\"ema8\",\"ema8\",\"ema8\",\"ema8\",\"ema8\",\"ema8\",\"ema8\",\"ema8\",\"ema8\",\"ema8\",\"ema8\",\"ema8\",\"ema8\",\"ema8\",\"ema8\",\"ema8\",\"ema8\",\"ema8\",\"ema8\",\"ema8\",\"ema8\",\"ema8\",\"ema8\",\"ema8\",\"ema8\",\"ema8\",\"ema8\",\"ema8\",\"ema8\",\"ema8\",\"ema8\",\"ema8\",\"ema8\",\"ema8\",\"ema8\",\"ema8\",\"ema8\",\"ema8\",\"ema8\",\"ema8\",\"ema8\",\"ema8\",\"ema8\",\"ema8\",\"ema8\",\"ema8\",\"ema8\",\"ema8\",\"ema8\",\"ema8\",\"ema8\",\"ema8\",\"ema8\",\"ema8\",\"ema8\",\"ema8\",\"ema8\",\"ema8\",\"ema8\",\"ema8\",\"ema8\",\"ema8\"],\"index\":{\"__ndarray__\":\"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\",\"dtype\":\"float64\",\"order\":\"little\",\"shape\":[1871]},\"value\":{\"__ndarray__\":\"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\",\"dtype\":\"float64\",\"order\":\"little\",\"shape\":[1871]}},\"selected\":{\"id\":\"1058\"},\"selection_policy\":{\"id\":\"1074\"}},\"id\":\"1057\",\"type\":\"ColumnDataSource\"},{\"attributes\":{\"source\":{\"id\":\"1092\"}},\"id\":\"1099\",\"type\":\"CDSView\"},{\"attributes\":{},\"id\":\"1032\",\"type\":\"ResetTool\"},{\"attributes\":{},\"id\":\"1016\",\"type\":\"LinearScale\"},{\"attributes\":{},\"id\":\"1311\",\"type\":\"Selection\"},{\"attributes\":{\"coordinates\":null,\"group\":null,\"text\":\"Bitcoin - EMA8, EMA34, Entry and Exit Points\",\"text_color\":\"black\",\"text_font_size\":\"12pt\"},\"id\":\"1012\",\"type\":\"Title\"},{\"attributes\":{\"callback\":null,\"formatters\":{\"@{index}\":\"datetime\"},\"renderers\":[{\"id\":\"1063\"},{\"id\":\"1098\"}],\"tags\":[\"hv_created\"],\"tooltips\":[[\"Variable\",\"@{Variable}\"],[\"index\",\"@{index}{%F %T}\"],[\"value\",\"@{value}\"]]},\"id\":\"1007\",\"type\":\"HoverTool\"},{\"attributes\":{},\"id\":\"1072\",\"type\":\"UnionRenderers\"},{\"attributes\":{\"bottom_units\":\"screen\",\"coordinates\":null,\"fill_alpha\":0.5,\"fill_color\":\"lightgrey\",\"group\":null,\"left_units\":\"screen\",\"level\":\"overlay\",\"line_alpha\":1.0,\"line_color\":\"black\",\"line_dash\":[4,4],\"line_width\":2,\"right_units\":\"screen\",\"syncable\":false,\"top_units\":\"screen\"},\"id\":\"1033\",\"type\":\"BoxAnnotation\"},{\"attributes\":{\"fill_alpha\":{\"value\":0.2},\"fill_color\":{\"value\":\"green\"},\"hatch_alpha\":{\"value\":0.2},\"hatch_color\":{\"value\":\"green\"},\"line_alpha\":{\"value\":0.2},\"line_color\":{\"value\":\"green\"},\"marker\":{\"value\":\"triangle\"},\"size\":{\"value\":5.477225575051661},\"x\":{\"field\":\"index\"},\"y\":{\"field\":\"close\"}},\"id\":\"1315\",\"type\":\"Scatter\"},{\"attributes\":{\"line_alpha\":0.1,\"line_color\":\"salmon\",\"line_width\":2,\"x\":{\"field\":\"index\"},\"y\":{\"field\":\"value\"}},\"id\":\"1061\",\"type\":\"Line\"},{\"attributes\":{\"source\":{\"id\":\"1310\"}},\"id\":\"1317\",\"type\":\"CDSView\"},{\"attributes\":{},\"id\":\"1093\",\"type\":\"Selection\"},{\"attributes\":{\"coordinates\":null,\"data_source\":{\"id\":\"1092\"},\"glyph\":{\"id\":\"1095\"},\"group\":null,\"hover_glyph\":null,\"muted_glyph\":{\"id\":\"1097\"},\"nonselection_glyph\":{\"id\":\"1096\"},\"selection_glyph\":{\"id\":\"1127\"},\"view\":{\"id\":\"1099\"}},\"id\":\"1098\",\"type\":\"GlyphRenderer\"},{\"attributes\":{\"mantissas\":[1,2,5],\"max_interval\":500.0,\"num_minor_ticks\":0},\"id\":\"1077\",\"type\":\"AdaptiveTicker\"},{\"attributes\":{\"line_color\":\"lightgray\",\"line_width\":2,\"x\":{\"field\":\"index\"},\"y\":{\"field\":\"close\"}},\"id\":\"1056\",\"type\":\"Line\"},{\"attributes\":{\"base\":60,\"mantissas\":[1,2,5,10,15,20,30],\"max_interval\":1800000.0,\"min_interval\":1000.0,\"num_minor_ticks\":0},\"id\":\"1078\",\"type\":\"AdaptiveTicker\"},{\"attributes\":{\"line_color\":\"blue\",\"line_width\":2,\"x\":{\"field\":\"index\"},\"y\":{\"field\":\"value\"}},\"id\":\"1127\",\"type\":\"Line\"},{\"attributes\":{\"end\":1644192000000.0,\"reset_end\":1644192000000.0,\"reset_start\":1482624000000.0,\"start\":1482624000000.0,\"tags\":[[[\"index\",\"index\",null]]]},\"id\":\"1004\",\"type\":\"Range1d\"},{\"attributes\":{},\"id\":\"1049\",\"type\":\"Selection\"},{\"attributes\":{\"coordinates\":null,\"data_source\":{\"id\":\"1048\"},\"glyph\":{\"id\":\"1051\"},\"group\":null,\"hover_glyph\":null,\"muted_glyph\":{\"id\":\"1053\"},\"nonselection_glyph\":{\"id\":\"1052\"},\"selection_glyph\":{\"id\":\"1056\"},\"view\":{\"id\":\"1055\"}},\"id\":\"1054\",\"type\":\"GlyphRenderer\"},{\"attributes\":{\"line_color\":\"lightgray\",\"line_width\":2,\"x\":{\"field\":\"index\"},\"y\":{\"field\":\"close\"}},\"id\":\"1051\",\"type\":\"Line\"},{\"attributes\":{\"source\":{\"id\":\"1048\"}},\"id\":\"1055\",\"type\":\"CDSView\"},{\"attributes\":{\"line_alpha\":0.2,\"line_color\":\"blue\",\"line_width\":2,\"x\":{\"field\":\"index\"},\"y\":{\"field\":\"value\"}},\"id\":\"1097\",\"type\":\"Line\"},{\"attributes\":{\"line_alpha\":0.2,\"line_color\":\"salmon\",\"line_width\":2,\"x\":{\"field\":\"index\"},\"y\":{\"field\":\"value\"}},\"id\":\"1062\",\"type\":\"Line\"},{\"attributes\":{\"line_alpha\":0.1,\"line_color\":\"blue\",\"line_width\":2,\"x\":{\"field\":\"index\"},\"y\":{\"field\":\"value\"}},\"id\":\"1096\",\"type\":\"Line\"},{\"attributes\":{\"angle\":{\"value\":3.141592653589793},\"fill_alpha\":{\"value\":0.1},\"fill_color\":{\"value\":\"red\"},\"hatch_alpha\":{\"value\":0.1},\"hatch_color\":{\"value\":\"red\"},\"line_alpha\":{\"value\":0.1},\"line_color\":{\"value\":\"red\"},\"marker\":{\"value\":\"triangle\"},\"size\":{\"value\":5.477225575051661},\"x\":{\"field\":\"index\"},\"y\":{\"field\":\"close\"}},\"id\":\"1323\",\"type\":\"Scatter\"},{\"attributes\":{},\"id\":\"1074\",\"type\":\"UnionRenderers\"},{\"attributes\":{\"fill_alpha\":{\"value\":0.1},\"fill_color\":{\"value\":\"green\"},\"hatch_alpha\":{\"value\":0.1},\"hatch_color\":{\"value\":\"green\"},\"line_alpha\":{\"value\":0.1},\"line_color\":{\"value\":\"green\"},\"marker\":{\"value\":\"triangle\"},\"size\":{\"value\":5.477225575051661},\"x\":{\"field\":\"index\"},\"y\":{\"field\":\"close\"}},\"id\":\"1314\",\"type\":\"Scatter\"},{\"attributes\":{\"coordinates\":null,\"data_source\":{\"id\":\"1319\"},\"glyph\":{\"id\":\"1322\"},\"group\":null,\"hover_glyph\":null,\"muted_glyph\":{\"id\":\"1324\"},\"nonselection_glyph\":{\"id\":\"1323\"},\"selection_glyph\":{\"id\":\"1327\"},\"view\":{\"id\":\"1326\"}},\"id\":\"1325\",\"type\":\"GlyphRenderer\"},{\"attributes\":{\"angle\":{\"value\":3.141592653589793},\"fill_alpha\":{\"value\":1.0},\"fill_color\":{\"value\":\"red\"},\"hatch_alpha\":{\"value\":1.0},\"hatch_color\":{\"value\":\"red\"},\"hatch_scale\":{\"value\":12.0},\"hatch_weight\":{\"value\":1.0},\"line_alpha\":{\"value\":1.0},\"line_cap\":{\"value\":\"butt\"},\"line_color\":{\"value\":\"red\"},\"line_dash\":{\"value\":[]},\"line_dash_offset\":{\"value\":0},\"line_join\":{\"value\":\"bevel\"},\"line_width\":{\"value\":1},\"marker\":{\"value\":\"triangle\"},\"size\":{\"value\":5.477225575051661},\"x\":{\"field\":\"index\"},\"y\":{\"field\":\"close\"}},\"id\":\"1327\",\"type\":\"Scatter\"},{\"attributes\":{\"angle\":{\"value\":0},\"fill_alpha\":{\"value\":1.0},\"fill_color\":{\"value\":\"green\"},\"hatch_alpha\":{\"value\":1.0},\"hatch_color\":{\"value\":\"green\"},\"hatch_scale\":{\"value\":12.0},\"hatch_weight\":{\"value\":1.0},\"line_alpha\":{\"value\":1.0},\"line_cap\":{\"value\":\"butt\"},\"line_color\":{\"value\":\"green\"},\"line_dash\":{\"value\":[]},\"line_dash_offset\":{\"value\":0},\"line_join\":{\"value\":\"bevel\"},\"line_width\":{\"value\":1},\"marker\":{\"value\":\"triangle\"},\"size\":{\"value\":5.477225575051661},\"x\":{\"field\":\"index\"},\"y\":{\"field\":\"close\"}},\"id\":\"1318\",\"type\":\"Scatter\"},{\"attributes\":{},\"id\":\"1320\",\"type\":\"Selection\"},{\"attributes\":{\"num_minor_ticks\":5,\"tickers\":[{\"id\":\"1077\"},{\"id\":\"1078\"},{\"id\":\"1079\"},{\"id\":\"1080\"},{\"id\":\"1081\"},{\"id\":\"1082\"},{\"id\":\"1083\"},{\"id\":\"1084\"},{\"id\":\"1085\"},{\"id\":\"1086\"},{\"id\":\"1087\"},{\"id\":\"1088\"}]},\"id\":\"1021\",\"type\":\"DatetimeTicker\"},{\"attributes\":{},\"id\":\"1043\",\"type\":\"DatetimeTickFormatter\"},{\"attributes\":{\"days\":[1,2,3,4,5,6,7,8,9,10,11,12,13,14,15,16,17,18,19,20,21,22,23,24,25,26,27,28,29,30,31]},\"id\":\"1080\",\"type\":\"DaysTicker\"},{\"attributes\":{\"data\":{\"close\":{\"__ndarray__\":\"AAAAAABojEAAAAAAAFCOQMP1KFyPLaJAmpmZmZnqqUAAAAAAAP7KQAAAAAAAM8NAw/UoXE/swkAzMzMz85nAQFyPwvWIXMBACtejcP1huUBcj8L1qBa5QOF6FK7HQqxA4XoUrifwwkBxPQrXYzjEQB+F61FYnMNAH4XrURixwEDsUbgeRSnBQAAAAAAAr7pAKVyPwrXhwUD2KFyPQt7DQOxRuB7tgOpASOF6FL6l6kCPwvUotKXoQBSuR+HatuRAAAAAACCN7EA=\",\"dtype\":\"float64\",\"order\":\"little\",\"shape\":[25]},\"index\":{\"__ndarray__\":\"AADAmGOXdUIAAEBr6611QgAAwLqc0nVCAABA9trndUIAAECoeg52QgAAAPSsG3ZCAACAv1EcdkIAAICELiB2QgAAAMBsNXZCAACA7hpRdkIAAMBAFVt2QgAAgO9Qg3ZCAACAqNO/dkIAAACVe8l2QgAAwISH0XZCAACAWnPmdkIAAEAWPwh3QgAAQJNoFndCAABAyN4ud0IAAAA1FEV3QgAAgJ8bj3dCAABAykqTd0IAAED43ZV3QgAAgAkIwHdCAACA4lfTd0I=\",\"dtype\":\"float64\",\"order\":\"little\",\"shape\":[25]}},\"selected\":{\"id\":\"1320\"},\"selection_policy\":{\"id\":\"1343\"}},\"id\":\"1319\",\"type\":\"ColumnDataSource\"},{\"attributes\":{\"label\":{\"value\":\"ema34\"},\"renderers\":[{\"id\":\"1098\"}]},\"id\":\"1126\",\"type\":\"LegendItem\"},{\"attributes\":{\"base\":24,\"mantissas\":[1,2,4,6,8,12],\"max_interval\":43200000.0,\"min_interval\":3600000.0,\"num_minor_ticks\":0},\"id\":\"1079\",\"type\":\"AdaptiveTicker\"},{\"attributes\":{\"days\":[1,4,7,10,13,16,19,22,25,28]},\"id\":\"1081\",\"type\":\"DaysTicker\"},{\"attributes\":{\"below\":[{\"id\":\"1020\"}],\"center\":[{\"id\":\"1023\"},{\"id\":\"1027\"}],\"height\":400,\"left\":[{\"id\":\"1024\"}],\"margin\":[5,5,5,5],\"min_border_bottom\":10,\"min_border_left\":10,\"min_border_right\":10,\"min_border_top\":10,\"renderers\":[{\"id\":\"1054\"},{\"id\":\"1063\"},{\"id\":\"1098\"},{\"id\":\"1316\"},{\"id\":\"1325\"}],\"right\":[{\"id\":\"1089\"}],\"sizing_mode\":\"fixed\",\"title\":{\"id\":\"1012\"},\"toolbar\":{\"id\":\"1034\"},\"width\":1000,\"x_range\":{\"id\":\"1004\"},\"x_scale\":{\"id\":\"1016\"},\"y_range\":{\"id\":\"1005\"},\"y_scale\":{\"id\":\"1018\"}},\"id\":\"1011\",\"subtype\":\"Figure\",\"type\":\"Plot\"},{\"attributes\":{\"angle\":{\"value\":3.141592653589793},\"fill_color\":{\"value\":\"red\"},\"hatch_color\":{\"value\":\"red\"},\"line_color\":{\"value\":\"red\"},\"marker\":{\"value\":\"triangle\"},\"size\":{\"value\":5.477225575051661},\"x\":{\"field\":\"index\"},\"y\":{\"field\":\"close\"}},\"id\":\"1322\",\"type\":\"Scatter\"},{\"attributes\":{\"line_alpha\":0.2,\"line_color\":\"lightgray\",\"line_width\":2,\"x\":{\"field\":\"index\"},\"y\":{\"field\":\"close\"}},\"id\":\"1053\",\"type\":\"Line\"},{\"attributes\":{\"line_color\":\"salmon\",\"line_width\":2,\"x\":{\"field\":\"index\"},\"y\":{\"field\":\"value\"}},\"id\":\"1060\",\"type\":\"Line\"},{\"attributes\":{\"axis_label\":\"\",\"coordinates\":null,\"formatter\":{\"id\":\"1043\"},\"group\":null,\"major_label_policy\":{\"id\":\"1044\"},\"ticker\":{\"id\":\"1021\"}},\"id\":\"1020\",\"type\":\"DatetimeAxis\"},{\"attributes\":{},\"id\":\"1025\",\"type\":\"BasicTicker\"},{\"attributes\":{\"months\":[0,1,2,3,4,5,6,7,8,9,10,11]},\"id\":\"1084\",\"type\":\"MonthsTicker\"},{\"attributes\":{\"coordinates\":null,\"data_source\":{\"id\":\"1310\"},\"glyph\":{\"id\":\"1313\"},\"group\":null,\"hover_glyph\":null,\"muted_glyph\":{\"id\":\"1315\"},\"nonselection_glyph\":{\"id\":\"1314\"},\"selection_glyph\":{\"id\":\"1318\"},\"view\":{\"id\":\"1317\"}},\"id\":\"1316\",\"type\":\"GlyphRenderer\"},{\"attributes\":{\"days\":[1,8,15,22]},\"id\":\"1082\",\"type\":\"DaysTicker\"},{\"attributes\":{\"days\":[1,15]},\"id\":\"1083\",\"type\":\"DaysTicker\"},{\"attributes\":{\"months\":[0,2,4,6,8,10]},\"id\":\"1085\",\"type\":\"MonthsTicker\"},{\"attributes\":{},\"id\":\"1341\",\"type\":\"UnionRenderers\"},{\"attributes\":{},\"id\":\"1018\",\"type\":\"LinearScale\"},{\"attributes\":{\"months\":[0,4,8]},\"id\":\"1086\",\"type\":\"MonthsTicker\"},{\"attributes\":{\"axis_label\":\"Price in $\",\"coordinates\":null,\"formatter\":{\"id\":\"1046\"},\"group\":null,\"major_label_policy\":{\"id\":\"1047\"},\"ticker\":{\"id\":\"1025\"}},\"id\":\"1024\",\"type\":\"LinearAxis\"},{\"attributes\":{\"axis\":{\"id\":\"1020\"},\"coordinates\":null,\"grid_line_color\":null,\"group\":null,\"ticker\":null},\"id\":\"1023\",\"type\":\"Grid\"},{\"attributes\":{\"children\":[{\"id\":\"1003\"},{\"id\":\"1011\"},{\"id\":\"1598\"}],\"margin\":[0,0,0,0],\"name\":\"Row02077\",\"tags\":[\"embedded\"]},\"id\":\"1002\",\"type\":\"Row\"},{\"attributes\":{\"months\":[0,6]},\"id\":\"1087\",\"type\":\"MonthsTicker\"},{\"attributes\":{\"margin\":[5,5,5,5],\"name\":\"HSpacer02081\",\"sizing_mode\":\"stretch_width\"},\"id\":\"1003\",\"type\":\"Spacer\"},{\"attributes\":{\"callback\":null,\"formatters\":{\"@{index}\":\"datetime\"},\"renderers\":[{\"id\":\"1054\"},{\"id\":\"1316\"},{\"id\":\"1325\"}],\"tags\":[\"hv_created\"],\"tooltips\":[[\"index\",\"@{index}{%F %T}\"],[\"close\",\"@{close}\"]]},\"id\":\"1006\",\"type\":\"HoverTool\"},{\"attributes\":{},\"id\":\"1046\",\"type\":\"BasicTickFormatter\"},{\"attributes\":{},\"id\":\"1058\",\"type\":\"Selection\"},{\"attributes\":{\"end\":74893.448,\"reset_end\":74893.448,\"reset_start\":-5943.928,\"start\":-5943.928,\"tags\":[[[\"close\",\"close\",null]]]},\"id\":\"1005\",\"type\":\"Range1d\"},{\"attributes\":{\"data\":{\"Variable\":[\"ema34\",\"ema34\",\"ema34\",\"ema34\",\"ema34\",\"ema34\",\"ema34\",\"ema34\",\"ema34\",\"ema34\",\"ema34\",\"ema34\",\"ema34\",\"ema34\",\"ema34\",\"ema34\",\"ema34\",\"ema34\",\"ema34\",\"ema34\",\"ema34\",\"ema34\",\"ema34\",\"ema34\",\"ema34\",\"ema34\",\"ema34\",\"ema34\",\"ema34\",\"ema34\",\"ema34\",\"ema34\",\"ema34\",\"ema34\",\"ema34\",\"ema34\",\"ema34\",\"ema34\",\"ema34\",\"ema34\",\"ema34\",\"ema34\",\"ema34\",\"ema34\",\"ema34\",\"ema34\",\"ema34\",\"ema34\",\"ema34\",\"ema34\",\"ema34\",\"ema34\",\"ema34\",\"ema34\",\"ema34\",\"ema34\",\"ema34\",\"ema34\",\"ema34\",\"ema34\",\"ema34\",\"ema34\",\"ema34\",\"ema34\",\"ema34\",\"ema34\",\"ema34\",\"ema34\",\"ema34\",\"ema34\",\"ema34\",\"ema34\",\"ema34\",\"ema34\",\"ema34\",\"ema34\",\"ema34\",\"ema34\",\"ema34\",\"ema34\",\"ema34\",\"ema34\",\"ema34\",\"ema34\",\"ema34\",\"ema34\",\"ema34\",\"ema34\",\"ema34\",\"ema34\",\"ema34\",\"ema34\",\"ema34\",\"ema34\",\"ema34\",\"ema34\",\"ema34\",\"ema34\",\"ema34\",\"ema34\",\"ema34\",\"ema34\",\"ema34\",\"ema34\",\"ema34\",\"ema34\",\"ema34\",\"ema34\",\"ema34\",\"ema34\",\"ema34\",\"ema34\",\"ema34\",\"ema34\",\"ema34\",\"ema34\",\"ema34\",\"ema34\",\"ema34\",\"ema34\",\"ema34\",\"ema34\",\"ema34\",\"ema34\",\"ema34\",\"ema34\",\"ema34\",\"ema34\",\"ema34\",\"ema34\",\"ema34\",\"ema34\",\"ema34\",\"ema34\",\"ema34\",\"ema34\",\"ema34\",\"ema34\",\"ema34\",\"ema34\",\"ema34\",\"ema34\",\"ema34\",\"ema34\",\"ema34\",\"ema34\",\"ema34\",\"ema34\",\"ema34\",\"ema34\",\"ema34\",\"ema34\",\"ema34\",\"ema34\",\"ema34\",\"ema34\",\"ema34\",\"ema34\",\"ema34\",\"ema34\",\"ema34\",\"ema34\",\"ema34\",\"ema34\",\"ema34\",\"ema34\",\"ema34\",\"ema34\",\"ema34\",\"ema34\",\"ema34\",\"ema34\",\"ema34\",\"ema34\",\"ema34\",\"ema34\",\"ema34\",\"ema34\",\"ema34\",\"ema34\",\"ema34\",\"ema34\",\"ema34\",\"ema34\",\"ema34\",\"ema34\",\"ema34\",\"ema34\",\"ema34\",\"ema34\",\"ema34\",\"ema34\",\"ema34\",\"ema34\",\"ema34\",\"ema34\",\"ema34\",\"ema34\",\"ema34\",\"ema34\",\"ema34\",\"ema34\",\"ema34\",\"ema34\",\"ema34\",\"ema34\",\"ema34\",\"ema34\",\"ema34\",\"ema34\",\"ema34\",\"ema34\",\"ema34\",\"ema34\",\"ema34\",\"ema34\",\"ema34\",\"ema34\",\"ema34\",\"ema34\",\"ema34\",\"ema34\",\"ema34\",\"ema34\",\"ema34\",\"ema34\",\"ema34\",\"ema34\",\"ema34\",\"ema34\",\"ema34\",\"ema34\",\"ema34\",\"ema34\",\"ema34\",\"ema34\",\"ema34\",\"ema34\",\"ema34\",\"ema34\",\"ema34\",\"ema34\",\"ema34\",\"ema34\",\"ema34\",\"ema34\",\"ema34\",\"ema34\",\"ema34\",\"ema34\",\"ema34\",\"ema34\",\"ema34\",\"ema34\",\"ema34\",\"ema34\",\"ema34\",\"ema34\",\"ema34\",\"ema34\",\"ema34\",\"ema34\",\"ema34\",\"ema34\",\"ema34\",\"ema34\",\"ema34\",\"ema34\",\"ema34\",\"ema34\",\"ema34\",\"ema34\",\"ema34\",\"ema34\",\"ema34\",\"ema34\",\"ema34\",\"ema34\",\"ema34\",\"ema34\",\"ema34\",\"ema34\",\"ema34\",\"ema34\",\"ema34\",\"ema34\",\"ema34\",\"ema34\",\"ema34\",\"ema34\",\"ema34\",\"ema34\",\"ema34\",\"ema34\",\"ema34\",\"ema34\",\"ema34\",\"ema34\",\"ema34\",\"ema34\",\"ema34\",\"ema34\",\"ema34\",\"ema34\",\"ema34\",\"ema34\",\"ema34\",\"ema34\",\"ema34\",\"ema34\",\"ema34\",\"ema34\",\"ema34\",\"ema34\",\"ema34\",\"ema34\",\"ema34\",\"ema34\",\"ema34\",\"ema34\",\"ema34\",\"ema34\",\"ema34\",\"ema34\",\"ema34\",\"ema34\",\"ema34\",\"ema34\",\"ema34\",\"ema34\",\"ema34\",\"ema34\",\"ema34\",\"ema34\",\"ema34\",\"ema34\",\"ema34\",\"ema34\",\"ema34\",\"ema34\",\"ema34\",\"ema34\",\"ema34\",\"ema34\",\"ema34\",\"ema34\",\"ema34\",\"ema34\",\"ema34\",\"ema34\",\"ema34\",\"ema34\",\"ema34\",\"ema34\",\"ema34\",\"ema34\",\"ema34\",\"ema34\",\"ema34\",\"ema34\",\"ema34\",\"ema34\",\"ema34\",\"ema34\",\"ema34\",\"ema34\",\"ema34\",\"ema34\",\"ema34\",\"ema34\",\"ema34\",\"ema34\",\"ema34\",\"ema34\",\"ema34\",\"ema34\",\"ema34\",\"ema34\",\"ema34\",\"ema34\",\"ema34\",\"ema34\",\"ema34\",\"ema34\",\"ema34\",\"ema34\",\"ema34\",\"ema34\",\"ema34\",\"ema34\",\"ema34\",\"ema34\",\"ema34\",\"ema34\",\"ema34\",\"ema34\",\"ema34\",\"ema34\",\"ema34\",\"ema34\",\"ema34\",\"ema34\",\"ema34\",\"ema34\",\"ema34\",\"ema34\",\"ema34\",\"ema34\",\"ema34\",\"ema34\",\"ema34\",\"ema34\",\"ema34\",\"ema34\",\"ema34\",\"ema34\",\"ema34\",\"ema34\",\"ema34\",\"ema34\",\"ema34\",\"ema34\",\"ema34\",\"ema34\",\"ema34\",\"ema34\",\"ema34\",\"ema34\",\"ema34\",\"ema34\",\"ema34\",\"ema34\",\"ema34\",\"ema34\",\"ema34\",\"ema34\",\"ema34\",\"ema34\",\"ema34\",\"ema34\",\"ema34\",\"ema34\",\"ema34\",\"ema34\",\"ema34\",\"ema34\",\"ema34\",\"ema34\",\"ema34\",\"ema34\",\"ema34\",\"ema34\",\"ema34\",\"ema34\",\"ema34\",\"ema34\",\"ema34\",\"ema34\",\"ema34\",\"ema34\",\"ema34\",\"ema34\",\"ema34\",\"ema34\",\"ema34\",\"ema34\",\"ema34\",\"ema34\",\"ema34\",\"ema34\",\"ema34\",\"ema34\",\"ema34\",\"ema34\",\"ema34\",\"ema34\",\"ema34\",\"ema34\",\"ema34\",\"ema34\",\"ema34\",\"ema34\",\"ema34\",\"ema34\",\"ema34\",\"ema34\",\"ema34\",\"ema34\",\"ema34\",\"ema34\",\"ema34\",\"ema34\",\"ema34\",\"ema34\",\"ema34\",\"ema34\",\"ema34\",\"ema34\",\"ema34\",\"ema34\",\"ema34\",\"ema34\",\"ema34\",\"ema34\",\"ema34\",\"ema34\",\"ema34\",\"ema34\",\"ema34\",\"ema34\",\"ema34\",\"ema34\",\"ema34\",\"ema34\",\"ema34\",\"ema34\",\"ema34\",\"ema34\",\"ema34\",\"ema34\",\"ema34\",\"ema34\",\"ema34\",\"ema34\",\"ema34\",\"ema34\",\"ema34\",\"ema34\",\"ema34\",\"ema34\",\"ema34\",\"ema34\",\"ema34\",\"ema34\",\"ema34\",\"ema34\",\"ema34\",\"ema34\",\"ema34\",\"ema34\",\"ema34\",\"ema34\",\"ema34\",\"ema34\",\"ema34\",\"ema34\",\"ema34\",\"ema34\",\"ema34\",\"ema34\",\"ema34\",\"ema34\",\"ema34\",\"ema34\",\"ema34\",\"ema34\",\"ema34\",\"ema34\",\"ema34\",\"ema34\",\"ema34\",\"ema34\",\"ema34\",\"ema34\",\"ema34\",\"ema34\",\"ema34\",\"ema34\",\"ema34\",\"ema34\",\"ema34\",\"ema34\",\"ema34\",\"ema34\",\"ema34\",\"ema34\",\"ema34\",\"ema34\",\"ema34\",\"ema34\",\"ema34\",\"ema34\",\"ema34\",\"ema34\",\"ema34\",\"ema34\",\"ema34\",\"ema34\",\"ema34\",\"ema34\",\"ema34\",\"ema34\",\"ema34\",\"ema34\",\"ema34\",\"ema34\",\"ema34\",\"ema34\",\"ema34\",\"ema34\",\"ema34\",\"ema34\",\"ema34\",\"ema34\",\"ema34\",\"ema34\",\"ema34\",\"ema34\",\"ema34\",\"ema34\",\"ema34\",\"ema34\",\"ema34\",\"ema34\",\"ema34\",\"ema34\",\"ema34\",\"ema34\",\"ema34\",\"ema34\",\"ema34\",\"ema34\",\"ema34\",\"ema34\",\"ema34\",\"ema34\",\"ema34\",\"ema34\",\"ema34\",\"ema34\",\"ema34\",\"ema34\",\"ema34\",\"ema34\",\"ema34\",\"ema34\",\"ema34\",\"ema34\",\"ema34\",\"ema34\",\"ema34\",\"ema34\",\"ema34\",\"ema34\",\"ema34\",\"ema34\",\"ema34\",\"ema34\",\"ema34\",\"ema34\",\"ema34\",\"ema34\",\"ema34\",\"ema34\",\"ema34\",\"ema34\",\"ema34\",\"ema34\",\"ema34\",\"ema34\",\"ema34\",\"ema34\",\"ema34\",\"ema34\",\"ema34\",\"ema34\",\"ema34\",\"ema34\",\"ema34\",\"ema34\",\"ema34\",\"ema34\",\"ema34\",\"ema34\",\"ema34\",\"ema34\",\"ema34\",\"ema34\",\"ema34\",\"ema34\",\"ema34\",\"ema34\",\"ema34\",\"ema34\",\"ema34\",\"ema34\",\"ema34\",\"ema34\",\"ema34\",\"ema34\",\"ema34\",\"ema34\",\"ema34\",\"ema34\",\"ema34\",\"ema34\",\"ema34\",\"ema34\",\"ema34\",\"ema34\",\"ema34\",\"ema34\",\"ema34\",\"ema34\",\"ema34\",\"ema34\",\"ema34\",\"ema34\",\"ema34\",\"ema34\",\"ema34\",\"ema34\",\"ema34\",\"ema34\",\"ema34\",\"ema34\",\"ema34\",\"ema34\",\"ema34\",\"ema34\",\"ema34\",\"ema34\",\"ema34\",\"ema34\",\"ema34\",\"ema34\",\"ema34\",\"ema34\",\"ema34\",\"ema34\",\"ema34\",\"ema34\",\"ema34\",\"ema34\",\"ema34\",\"ema34\",\"ema34\",\"ema34\",\"ema34\",\"ema34\",\"ema34\",\"ema34\",\"ema34\",\"ema34\",\"ema34\",\"ema34\",\"ema34\",\"ema34\",\"ema34\",\"ema34\",\"ema34\",\"ema34\",\"ema34\",\"ema34\",\"ema34\",\"ema34\",\"ema34\",\"ema34\",\"ema34\",\"ema34\",\"ema34\",\"ema34\",\"ema34\",\"ema34\",\"ema34\",\"ema34\",\"ema34\",\"ema34\",\"ema34\",\"ema34\",\"ema34\",\"ema34\",\"ema34\",\"ema34\",\"ema34\",\"ema34\",\"ema34\",\"ema34\",\"ema34\",\"ema34\",\"ema34\",\"ema34\",\"ema34\",\"ema34\",\"ema34\",\"ema34\",\"ema34\",\"ema34\",\"ema34\",\"ema34\",\"ema34\",\"ema34\",\"ema34\",\"ema34\",\"ema34\",\"ema34\",\"ema34\",\"ema34\",\"ema34\",\"ema34\",\"ema34\",\"ema34\",\"ema34\",\"ema34\",\"ema34\",\"ema34\",\"ema34\",\"ema34\",\"ema34\",\"ema34\",\"ema34\",\"ema34\",\"ema34\",\"ema34\",\"ema34\",\"ema34\",\"ema34\",\"ema34\",\"ema34\",\"ema34\",\"ema34\",\"ema34\",\"ema34\",\"ema34\",\"ema34\",\"ema34\",\"ema34\",\"ema34\",\"ema34\",\"ema34\",\"ema34\",\"ema34\",\"ema34\",\"ema34\",\"ema34\",\"ema34\",\"ema34\",\"ema34\",\"ema34\",\"ema34\",\"ema34\",\"ema34\",\"ema34\",\"ema34\",\"ema34\",\"ema34\",\"ema34\",\"ema34\",\"ema34\",\"ema34\",\"ema34\",\"ema34\",\"ema34\",\"ema34\",\"ema34\",\"ema34\",\"ema34\",\"ema34\",\"ema34\",\"ema34\",\"ema34\",\"ema34\",\"ema34\",\"ema34\",\"ema34\",\"ema34\",\"ema34\",\"ema34\",\"ema34\",\"ema34\",\"ema34\",\"ema34\",\"ema34\",\"ema34\",\"ema34\",\"ema34\",\"ema34\",\"ema34\",\"ema34\",\"ema34\",\"ema34\",\"ema34\",\"ema34\",\"ema34\",\"ema34\",\"ema34\",\"ema34\",\"ema34\",\"ema34\",\"ema34\",\"ema34\",\"ema34\",\"ema34\",\"ema34\",\"ema34\",\"ema34\",\"ema34\",\"ema34\",\"ema34\",\"ema34\",\"ema34\",\"ema34\",\"ema34\",\"ema34\",\"ema34\",\"ema34\",\"ema34\",\"ema34\",\"ema34\",\"ema34\",\"ema34\",\"ema34\",\"ema34\",\"ema34\",\"ema34\",\"ema34\",\"ema34\",\"ema34\",\"ema34\",\"ema34\",\"ema34\",\"ema34\",\"ema34\",\"ema34\",\"ema34\",\"ema34\",\"ema34\",\"ema34\",\"ema34\",\"ema34\",\"ema34\",\"ema34\",\"ema34\",\"ema34\",\"ema34\",\"ema34\",\"ema34\",\"ema34\",\"ema34\",\"ema34\",\"ema34\",\"ema34\",\"ema34\",\"ema34\",\"ema34\",\"ema34\",\"ema34\",\"ema34\",\"ema34\",\"ema34\",\"ema34\",\"ema34\",\"ema34\",\"ema34\",\"ema34\",\"ema34\",\"ema34\",\"ema34\",\"ema34\",\"ema34\",\"ema34\",\"ema34\",\"ema34\",\"ema34\",\"ema34\",\"ema34\",\"ema34\",\"ema34\",\"ema34\",\"ema34\",\"ema34\",\"ema34\",\"ema34\",\"ema34\",\"ema34\",\"ema34\",\"ema34\",\"ema34\",\"ema34\",\"ema34\",\"ema34\",\"ema34\",\"ema34\",\"ema34\",\"ema34\",\"ema34\",\"ema34\",\"ema34\",\"ema34\",\"ema34\",\"ema34\",\"ema34\",\"ema34\",\"ema34\",\"ema34\",\"ema34\",\"ema34\",\"ema34\",\"ema34\",\"ema34\",\"ema34\",\"ema34\",\"ema34\",\"ema34\",\"ema34\",\"ema34\",\"ema34\",\"ema34\",\"ema34\",\"ema34\",\"ema34\",\"ema34\",\"ema34\",\"ema34\",\"ema34\",\"ema34\",\"ema34\",\"ema34\",\"ema34\",\"ema34\",\"ema34\",\"ema34\",\"ema34\",\"ema34\",\"ema34\",\"ema34\",\"ema34\",\"ema34\",\"ema34\",\"ema34\",\"ema34\",\"ema34\",\"ema34\",\"ema34\",\"ema34\",\"ema34\",\"ema34\",\"ema34\",\"ema34\",\"ema34\",\"ema34\",\"ema34\",\"ema34\",\"ema34\",\"ema34\",\"ema34\",\"ema34\",\"ema34\",\"ema34\",\"ema34\",\"ema34\",\"ema34\",\"ema34\",\"ema34\",\"ema34\",\"ema34\",\"ema34\",\"ema34\",\"ema34\",\"ema34\",\"ema34\",\"ema34\",\"ema34\",\"ema34\",\"ema34\",\"ema34\",\"ema34\",\"ema34\",\"ema34\",\"ema34\",\"ema34\",\"ema34\",\"ema34\",\"ema34\",\"ema34\",\"ema34\",\"ema34\",\"ema34\",\"ema34\",\"ema34\",\"ema34\",\"ema34\",\"ema34\",\"ema34\",\"ema34\",\"ema34\",\"ema34\",\"ema34\",\"ema34\",\"ema34\",\"ema34\",\"ema34\",\"ema34\",\"ema34\",\"ema34\",\"ema34\",\"ema34\",\"ema34\",\"ema34\",\"ema34\",\"ema34\",\"ema34\",\"ema34\",\"ema34\",\"ema34\",\"ema34\",\"ema34\",\"ema34\",\"ema34\",\"ema34\",\"ema34\",\"ema34\",\"ema34\",\"ema34\",\"ema34\",\"ema34\",\"ema34\",\"ema34\",\"ema34\",\"ema34\",\"ema34\",\"ema34\",\"ema34\",\"ema34\",\"ema34\",\"ema34\",\"ema34\",\"ema34\",\"ema34\",\"ema34\",\"ema34\",\"ema34\",\"ema34\",\"ema34\",\"ema34\",\"ema34\",\"ema34\",\"ema34\",\"ema34\",\"ema34\",\"ema34\",\"ema34\",\"ema34\",\"ema34\",\"ema34\",\"ema34\",\"ema34\",\"ema34\",\"ema34\",\"ema34\",\"ema34\",\"ema34\",\"ema34\",\"ema34\",\"ema34\",\"ema34\",\"ema34\",\"ema34\",\"ema34\",\"ema34\",\"ema34\",\"ema34\",\"ema34\",\"ema34\",\"ema34\",\"ema34\",\"ema34\",\"ema34\",\"ema34\",\"ema34\",\"ema34\",\"ema34\",\"ema34\",\"ema34\",\"ema34\",\"ema34\",\"ema34\",\"ema34\",\"ema34\",\"ema34\",\"ema34\",\"ema34\",\"ema34\",\"ema34\",\"ema34\",\"ema34\",\"ema34\",\"ema34\",\"ema34\",\"ema34\",\"ema34\",\"ema34\",\"ema34\",\"ema34\",\"ema34\",\"ema34\",\"ema34\",\"ema34\",\"ema34\",\"ema34\",\"ema34\",\"ema34\",\"ema34\",\"ema34\",\"ema34\",\"ema34\",\"ema34\",\"ema34\",\"ema34\",\"ema34\",\"ema34\",\"ema34\",\"ema34\",\"ema34\",\"ema34\",\"ema34\",\"ema34\",\"ema34\",\"ema34\",\"ema34\",\"ema34\",\"ema34\",\"ema34\",\"ema34\",\"ema34\",\"ema34\",\"ema34\",\"ema34\",\"ema34\",\"ema34\",\"ema34\",\"ema34\",\"ema34\",\"ema34\",\"ema34\",\"ema34\",\"ema34\",\"ema34\",\"ema34\",\"ema34\",\"ema34\",\"ema34\",\"ema34\",\"ema34\",\"ema34\",\"ema34\",\"ema34\",\"ema34\",\"ema34\",\"ema34\",\"ema34\",\"ema34\",\"ema34\",\"ema34\",\"ema34\",\"ema34\",\"ema34\",\"ema34\",\"ema34\",\"ema34\",\"ema34\",\"ema34\",\"ema34\",\"ema34\",\"ema34\",\"ema34\",\"ema34\",\"ema34\",\"ema34\",\"ema34\",\"ema34\",\"ema34\",\"ema34\",\"ema34\",\"ema34\",\"ema34\",\"ema34\",\"ema34\",\"ema34\",\"ema34\",\"ema34\",\"ema34\",\"ema34\",\"ema34\",\"ema34\",\"ema34\",\"ema34\",\"ema34\",\"ema34\",\"ema34\",\"ema34\",\"ema34\",\"ema34\",\"ema34\",\"ema34\",\"ema34\",\"ema34\",\"ema34\",\"ema34\",\"ema34\",\"ema34\",\"ema34\",\"ema34\",\"ema34\",\"ema34\",\"ema34\",\"ema34\",\"ema34\",\"ema34\",\"ema34\",\"ema34\",\"ema34\",\"ema34\",\"ema34\",\"ema34\",\"ema34\",\"ema34\",\"ema34\",\"ema34\",\"ema34\",\"ema34\",\"ema34\",\"ema34\",\"ema34\",\"ema34\",\"ema34\",\"ema34\",\"ema34\",\"ema34\",\"ema34\",\"ema34\",\"ema34\",\"ema34\",\"ema34\",\"ema34\",\"ema34\",\"ema34\",\"ema34\",\"ema34\",\"ema34\",\"ema34\",\"ema34\",\"ema34\",\"ema34\",\"ema34\",\"ema34\",\"ema34\",\"ema34\",\"ema34\",\"ema34\",\"ema34\",\"ema34\",\"ema34\",\"ema34\",\"ema34\",\"ema34\",\"ema34\",\"ema34\",\"ema34\",\"ema34\",\"ema34\",\"ema34\",\"ema34\",\"ema34\",\"ema34\",\"ema34\",\"ema34\",\"ema34\",\"ema34\",\"ema34\",\"ema34\",\"ema34\",\"ema34\",\"ema34\",\"ema34\",\"ema34\",\"ema34\",\"ema34\",\"ema34\",\"ema34\",\"ema34\",\"ema34\",\"ema34\",\"ema34\",\"ema34\",\"ema34\",\"ema34\",\"ema34\",\"ema34\",\"ema34\",\"ema34\",\"ema34\",\"ema34\",\"ema34\",\"ema34\",\"ema34\",\"ema34\",\"ema34\",\"ema34\",\"ema34\",\"ema34\",\"ema34\",\"ema34\",\"ema34\",\"ema34\",\"ema34\",\"ema34\",\"ema34\",\"ema34\",\"ema34\",\"ema34\",\"ema34\",\"ema34\",\"ema34\",\"ema34\",\"ema34\",\"ema34\",\"ema34\",\"ema34\",\"ema34\",\"ema34\",\"ema34\",\"ema34\",\"ema34\",\"ema34\",\"ema34\",\"ema34\",\"ema34\",\"ema34\",\"ema34\",\"ema34\",\"ema34\",\"ema34\",\"ema34\",\"ema34\",\"ema34\",\"ema34\",\"ema34\",\"ema34\",\"ema34\",\"ema34\",\"ema34\",\"ema34\",\"ema34\",\"ema34\",\"ema34\",\"ema34\",\"ema34\",\"ema34\",\"ema34\",\"ema34\",\"ema34\",\"ema34\",\"ema34\",\"ema34\",\"ema34\",\"ema34\",\"ema34\",\"ema34\",\"ema34\",\"ema34\",\"ema34\",\"ema34\",\"ema34\",\"ema34\",\"ema34\",\"ema34\",\"ema34\",\"ema34\",\"ema34\",\"ema34\",\"ema34\",\"ema34\",\"ema34\",\"ema34\",\"ema34\",\"ema34\",\"ema34\",\"ema34\",\"ema34\",\"ema34\",\"ema34\",\"ema34\",\"ema34\",\"ema34\",\"ema34\",\"ema34\",\"ema34\",\"ema34\",\"ema34\",\"ema34\",\"ema34\",\"ema34\",\"ema34\",\"ema34\",\"ema34\",\"ema34\",\"ema34\",\"ema34\",\"ema34\",\"ema34\",\"ema34\",\"ema34\",\"ema34\",\"ema34\",\"ema34\",\"ema34\",\"ema34\",\"ema34\",\"ema34\",\"ema34\",\"ema34\",\"ema34\",\"ema34\",\"ema34\",\"ema34\",\"ema34\",\"ema34\",\"ema34\",\"ema34\",\"ema34\",\"ema34\",\"ema34\",\"ema34\",\"ema34\",\"ema34\",\"ema34\",\"ema34\",\"ema34\",\"ema34\",\"ema34\",\"ema34\",\"ema34\",\"ema34\",\"ema34\",\"ema34\",\"ema34\",\"ema34\",\"ema34\",\"ema34\",\"ema34\",\"ema34\",\"ema34\",\"ema34\",\"ema34\",\"ema34\",\"ema34\",\"ema34\",\"ema34\",\"ema34\",\"ema34\",\"ema34\",\"ema34\",\"ema34\",\"ema34\",\"ema34\",\"ema34\",\"ema34\",\"ema34\",\"ema34\",\"ema34\",\"ema34\",\"ema34\",\"ema34\",\"ema34\",\"ema34\",\"ema34\",\"ema34\",\"ema34\",\"ema34\",\"ema34\",\"ema34\",\"ema34\",\"ema34\",\"ema34\",\"ema34\",\"ema34\",\"ema34\",\"ema34\",\"ema34\",\"ema34\",\"ema34\",\"ema34\",\"ema34\",\"ema34\",\"ema34\",\"ema34\",\"ema34\",\"ema34\",\"ema34\",\"ema34\",\"ema34\",\"ema34\",\"ema34\",\"ema34\",\"ema34\",\"ema34\",\"ema34\",\"ema34\",\"ema34\",\"ema34\",\"ema34\",\"ema34\",\"ema34\",\"ema34\",\"ema34\",\"ema34\",\"ema34\",\"ema34\",\"ema34\",\"ema34\",\"ema34\",\"ema34\",\"ema34\",\"ema34\",\"ema34\",\"ema34\",\"ema34\",\"ema34\",\"ema34\",\"ema34\",\"ema34\",\"ema34\",\"ema34\",\"ema34\",\"ema34\",\"ema34\",\"ema34\",\"ema34\",\"ema34\",\"ema34\",\"ema34\",\"ema34\",\"ema34\",\"ema34\",\"ema34\",\"ema34\",\"ema34\",\"ema34\",\"ema34\",\"ema34\",\"ema34\",\"ema34\",\"ema34\",\"ema34\",\"ema34\",\"ema34\",\"ema34\",\"ema34\",\"ema34\",\"ema34\",\"ema34\",\"ema34\",\"ema34\",\"ema34\",\"ema34\",\"ema34\",\"ema34\",\"ema34\",\"ema34\",\"ema34\",\"ema34\",\"ema34\",\"ema34\",\"ema34\",\"ema34\",\"ema34\",\"ema34\",\"ema34\",\"ema34\",\"ema34\",\"ema34\",\"ema34\",\"ema34\",\"ema34\",\"ema34\",\"ema34\",\"ema34\",\"ema34\",\"ema34\",\"ema34\",\"ema34\",\"ema34\",\"ema34\",\"ema34\",\"ema34\",\"ema34\",\"ema34\",\"ema34\",\"ema34\",\"ema34\",\"ema34\",\"ema34\",\"ema34\",\"ema34\",\"ema34\",\"ema34\",\"ema34\",\"ema34\",\"ema34\",\"ema34\",\"ema34\",\"ema34\",\"ema34\",\"ema34\",\"ema34\",\"ema34\",\"ema34\",\"ema34\",\"ema34\",\"ema34\",\"ema34\",\"ema34\",\"ema34\",\"ema34\",\"ema34\",\"ema34\",\"ema34\",\"ema34\",\"ema34\",\"ema34\",\"ema34\",\"ema34\",\"ema34\",\"ema34\",\"ema34\",\"ema34\",\"ema34\",\"ema34\",\"ema34\",\"ema34\",\"ema34\",\"ema34\",\"ema34\",\"ema34\",\"ema34\",\"ema34\",\"ema34\",\"ema34\",\"ema34\",\"ema34\",\"ema34\",\"ema34\",\"ema34\",\"ema34\",\"ema34\",\"ema34\",\"ema34\",\"ema34\",\"ema34\",\"ema34\",\"ema34\",\"ema34\",\"ema34\",\"ema34\",\"ema34\",\"ema34\",\"ema34\",\"ema34\",\"ema34\",\"ema34\",\"ema34\",\"ema34\",\"ema34\",\"ema34\",\"ema34\",\"ema34\",\"ema34\",\"ema34\",\"ema34\",\"ema34\",\"ema34\",\"ema34\",\"ema34\",\"ema34\",\"ema34\",\"ema34\",\"ema34\",\"ema34\",\"ema34\",\"ema34\",\"ema34\",\"ema34\",\"ema34\",\"ema34\",\"ema34\",\"ema34\",\"ema34\",\"ema34\",\"ema34\",\"ema34\",\"ema34\",\"ema34\",\"ema34\",\"ema34\",\"ema34\",\"ema34\",\"ema34\",\"ema34\",\"ema34\",\"ema34\",\"ema34\",\"ema34\",\"ema34\",\"ema34\",\"ema34\",\"ema34\",\"ema34\",\"ema34\",\"ema34\",\"ema34\",\"ema34\",\"ema34\",\"ema34\",\"ema34\",\"ema34\",\"ema34\",\"ema34\",\"ema34\",\"ema34\",\"ema34\",\"ema34\",\"ema34\",\"ema34\",\"ema34\",\"ema34\",\"ema34\",\"ema34\",\"ema34\",\"ema34\",\"ema34\",\"ema34\",\"ema34\",\"ema34\",\"ema34\",\"ema34\",\"ema34\",\"ema34\",\"ema34\",\"ema34\",\"ema34\",\"ema34\",\"ema34\",\"ema34\",\"ema34\",\"ema34\",\"ema34\",\"ema34\",\"ema34\",\"ema34\",\"ema34\",\"ema34\",\"ema34\",\"ema34\",\"ema34\",\"ema34\",\"ema34\",\"ema34\",\"ema34\",\"ema34\",\"ema34\",\"ema34\",\"ema34\",\"ema34\",\"ema34\",\"ema34\",\"ema34\",\"ema34\",\"ema34\",\"ema34\",\"ema34\"],\"index\":{\"__ndarray__\":\"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\",\"dtype\":\"float64\",\"order\":\"little\",\"shape\":[1871]},\"value\":{\"__ndarray__\":\"O9VuCKK0i0AoKDm5lNeLQIUvOiF1SIxAriAh/0zSjEC3JLPSpP2MQN22CIJ4Ko1AGRCapz9bjUBZd0mFq6KNQIZWahmK441AGMHl8CchjkBWIXIOq9SOQNDxMiIg5o5AoVQ/UelljkCcgLuhNjSOQI5V0uAdA45AXAjR0V/ZjUCN6Akva8GNQKXjMa0vV41ARnqAYXP2jEBGAXKj+riMQOTCEEmZf4xABHnt2R9PjEC1qGo9aTaMQPfItKBdN4xAqRlAcGQwjEAv873Tgy2MQOP4aYELNYxASbZBiJJBjECAUWyc10yMQPX8ermFU4xAy/FCtJ1QjECshsHlPEuMQGTttJ8tUIxAXEzmSuFYjECQeRcXKWKMQFl17wd2aIxAbKYmu51wjEBUAni2FY+MQNTG6O0FtIxATXCYE/DmjECaAAHvcBWNQN+ddTCvRo1AeSUnZ/htjUD+M4W9/52NQCPjooIG0o1ArlN4HpcMjkDtESQxdxyOQCORGg8FNo5AKKh71BBPjkBJUHuLkGaOQMuC/SRodo5AuxAXmK6IjkC3QtHd95+OQOQW2/C1vY5A/GiTIejmjkBuuIRZnwmPQJhz4nr2Jo9A9jp4G5dTj0CPmLz61oiPQKAsY8Kvwo9Atgz32wUPkEDe5UQQUTSQQKHtuaTiT5BAlkYwuidxkEChHbD2bpOQQLxzcvTIs5BAs5wrjhXYkEAfE/jQigSRQG/iV5vpM5FA/uioZxpakUAjHY1U+ICRQIK41FzfpZFAtPH0xtq+kUBxn+VOecSRQPnhZ7Qn1JFAVapsJ8HMkUBQH9enjtaRQNRwiQPQ7pFATmR+FF4FkkAmYY1DDhuSQKWA5j7+LpJA1nQlHPsmkkAGKgHHwhGSQBY1lHbb5pFAWaDRrw/OkUDCWK6OUbiRQAVd2KMvrpFA569Jy+aXkUDlzVI3P3uRQGU8Npx8SZFAk9l9mywqkUDs4GiZRA2RQPTykWX+AJFAQJTDGlrykECMHKC1OemQQK1xb0gx45BAgU9QPMXkkEB4kT/Ba+WQQJkQDdN88ZBA8hvupR8BkUBO9TWEfAyRQMeTLSUUFpFAKpUczDkskUDiRdk7WkKRQGavsC/0VJFAYNFfhmFtkUC66XDTDYORQBafI2q2mpFACfkJyz6vkUA58s3DmbmRQAJEhuERxJFA+BsEX7zPkUD9h+2K9NeRQAJdZXFP5ZFAeU7DeSrzkUASl+fmIgKSQIctxQiHF5JAdmmctDoskkCUDOPEbj+SQNzDlahAU5JAnXtsyFxpkkDpI9S1RoKSQM2+BE9SnJJAhyRO19HBkkCvy7cyyeSSQOUrl6fsA5NAAyICFj8qk0B2ZN4NAF6TQGFxFR1zk5NAH5aMAZbck0DoXeSraR+UQBeXITunW5RAMrriMy2glEBsfeyDs+aUQMEouMiLOZVAHKUJMFOMlUB/gG5dqPGVQPr5x7cyQpZAqMT00iuAlkCecwWgHtCWQO/gWtPXHZdA2UhhkUtVl0A+D2gnV56XQHbnvk0O5JdArgaJo7U+mEA4VdcHVaKYQHvN+8oXE5lA2VZHbyqLmUA40xQrSQqaQGV+GjbcnZpAaLEafBZgm0Co71+o7embQKKK8rtuSJxA7FEM0rKKnECu+XX3mtycQMcMgUSFR51ApgXy8ySQnUANk1dDJ+6dQGPPqS38Y55AWxh9iEDZnkBLuAl3n1ifQH5u3FVkzp9AMdpSSkpEoEAg/q7SIJ6gQAZFBhj43aBACT2BLQYqoUC/5T4JPnChQJZb8agyvaFA3F9vAIwPokC6HEII2zaiQBprIueYaKJAt2k9zMxvokByaU4MhnWiQLE/TvD3hKJAenoEdw+jokA4ko2ZM7eiQPVFBqykzaJAw1w9QATyokDTEDp3+AqjQAyZ99poK6NAhCjsMS1Io0DujVatKlSjQJdcNBPFV6NA1V18i7tSo0CgloamxV2jQLEM8VEAZ6NARI72+BVso0BbnsLSYmmjQDSO3kRoYqNAilMJm25ko0D18y3SLXSjQINWbi+jfaNAoF7CupiLo0DwMnR3X5ejQHmtfRp2maNAfQu0/sygo0BMSlA3aaCjQMJCsSY4i6NAKsTjclJ1o0DoGBLcEGmjQAOWWcikVqNALMTbdi4vo0CI7flg/vqiQCevaezRxqJAoDv4RZ+tokC6uo9T5qWiQI9MiZFGl6JA8OvF0+rMokBJKxEmmumiQNECKU4mFqNAmDePULc5o0DP0kUxIlyjQCvIT8PIX6NAxTemhH1po0CUlbz7Fn6jQLPtIpJZn6NA2Y1P6ci1o0C0e6N3xMyjQGXfs4XW9KNA6LrjckUKpEDkavhGrBmkQG48AiZrMKRA3RvUP8NQpECGPHz1Z5WkQGbtshpM2KRA0WyryVMzpUCh675K2nylQMYlEHqNwKVA/hzpzQ8MpkAQL8C0ZnSmQCMuBt/y+6ZA2UBXDp15p0A5j+e6mxWoQEm+w2K1kKhA2HAj1iEVqUBFD8C8Wo+pQB+xBHA37qlAlgYfxQVOqkBuoiSL3p6qQOlFvA0MvKpAKrfVqZ0Iq0Aq1cQxq1arQDjjTVyMs6tAiyS/S5oQrEAez6E7dGSsQGJkeG8drKxAydZPZlX+rEAoqvhoDmatQNHTe5ymw61AvMty2TArrkDZj/sLJ5yuQO4hR8LM765AQjuRzHg2r0APRNOO9W+vQH+gorSZoK9AQVgXQIDhr0Dmq2AjkA2wQPm+ZmNNG7BAODycqeYisEA5uD3OyCmwQOjxU7hBMrBAhC08rHoqsEAHs+NGphewQA3aaBia069AaL3InXStr0C9ZJzm8YevQEe4AJLUY69Ak1PcWUVXr0DGJooBq0uvQL7/ic1LO69AWmT9fU4dr0Dzza9Tv/OuQKDSaAuH1K5ALZGi66rCrkDuQmn74r+uQIlp9z4vwK5AMlO5bljerkBiqTOaSuyuQBa19zcEA69AlT/l1+Uor0BagdyAN1qvQCX9U4Pah69ANEXWQPymr0CJxTsn9bOvQBdirlDo0a9AA96iTanzr0DSiEiz+wywQFaV3e3oJ7BAQnZFYsVNsEBG+3LKsm6wQNmwWvrFkrBAJNU67NfnsEDXSH+L9DGxQB2nmsnvgrFANbfnADrDsUAeYJxZcQOyQHEKOa3uN7JAS5t6GvZrskB8H3xW3KOyQO/2cM9q6bJABELZy3ogs0B+pxoCHGCzQKING/OMhrNACCljcaiks0AUVijJcs6zQGJvEzVf/bNAWpiIgjwjtEB2fRHbvEe0QI4YieTzfbRA6TKdzyKwtEAGVhMfj+20QHJr2OKcSLVAYtCGUIyjtUCB86CktwC2QIBBoAt+aLZA4kedVe3CtkC2rSi39Q23QJDnmI5cY7dAOvDqmPe3t0CiWy+JBfq3QH5WbjskE7hAV5M+wU0BuEBRgLehgfK3QA5AwoWrCbhAgmEBf7AxuEAsbLMfV2y4QM0NF9D6xrhASpddRF0VuUBJHkcNLGO5QCf12GIvurlA+sELn0IPukAr08yg52S6QGDlXno5urpAsXDV5yn+ukBlkmq67Uq7QNYQwTo/wLtAOqZyrCVVvEBPu6zD5OS8QD9HB/P0f71ASMZ1zS8IvkDbp1Vbv4a+QCLn8v5SNb9AgB3lWgPlv0Cw9RGDOFDAQB+92sNDrsBAncuwiK0ZwUC1uc4h3rrBQEhbzsDYhsJAQUa40HRLw0Dt9KMxoebDQJZSropdeMRAp5IvufErxUBP/nPYzvDFQDdKb4uxjMZAXW24gQ01x0CxXzh22d7HQE2m6PvTr8hADYH+1phpyUBMDAMC0hXKQEm3TtZEdMpAPfKASkjTykCj6j6JqePKQEpuco9T8MpA3rMUhv0Uy0DfVrMcKR/LQBE98olySctAAZrTNP6Py0Ck+wFlXYnLQD32asJmk8tAwv8uPjyQy0Ckj43DGG7LQGci+GnsaMtAJxzvre1Qy0CRIQumunDLQDoVyQGxjstAZ8+RLTmpy0DRvbTWsu7LQBPqXjuhPsxAxoTnOq1mzECc7H8dmnPMQC3fCsThacxArd8Q5zFDzEDEkDVK/CHMQM/rgvVMEcxAc0rj/hQMzEBAmVLwXPbLQEOffHAG1ctAgT9Nq2V8y0AhStZNUSrLQOYS73Lx38pAcEZ4m1ifykBzecYg13PKQLK7s+spOMpAiYkYRjvsyUBFPwdkTabJQFU/MwRLd8lA8V5TREVFyUBhcejCXRDJQG14S5cs68hASBFd/D/IyECIQPsHS5bIQIQ5XxmiSMhA39y6D4oEyECGzJDG0pjHQP1ohpe0OsdASECj5vjvxkBUUpvTpIrGQEoHNS5w98VAIk8jUBmLxUCm+hsmszPFQM4rULqL3sRAGeKJ/2aqxECrwi+g3mPEQCp4LpGGKMRAAoCxgNb3w0DlPa9v1c/DQKgUXFMow8NAut1YXKvAw0Cl3ofeTM3DQLh5fSUr18NALgq0voDdw0AXd3LhrAHEQMFYot1HEsRA1pBGrVsXxEAlj7cfTwrEQBQ3s/aWD8RAAfgu9fH+w0BrQ1z7bO3DQFHgxThc8MNAIyxUAkEFxEAbi/Uu4AbEQPywmdi5G8RAcdgBQ5I4xECk4VZYxFDEQJwBsblScMRAz+pqeiKIxED46kSFf4zEQIBD0zt4e8RAhr3YdbJCxED8Jpk0viLEQNkXLqzB+MNAkx6j2XTlw0DUhDKWcM7DQN192tp4sMNAm3UeJqVyw0CHBjCcJkLDQFgxzkLbFMNAI2jCloXWwkCY7MWcAa3CQKybxnl2jcJAU+2gofKAwkDwYl4XUXDCQDgMhs/tUsJAlKUVt1BGwkD3VdRNvC7CQDYqKNjcFcJAlXBKkUzrwUCtARqg18PBQM2w1sIbmcFAmaPNNT1XwUAmtwPFIyLBQOaShpfA7cBABQ8xO9q4wEDF2sfCzZbAQHasxu1EeMBAKvWx7w1JwED3+XhFtBzAQK8eMwUC6b9AnqeAnm+kv0BWGzqSRm2/QHkey1XYI79AV1IxOXvivkDjKLKNZay+QBXWXt0zqr5AVPaCtaisvkDrRZdKFru+QIj4TcWcyr5AtryDwh3UvkBHqOSn/tW+QE6mft2i5r5AVWICj5n6vkAfcJATETC/QEQV03FJZb9AMf5RawOUv0D9NYz0A9e/QClaa5dODMBAhpRuPdwewEB/7dOv+znAQDTS/nE8UcBADsU2qRttwEDLREINpYXAQGSTyGcPnMBAPmVb90iswEDyBZ+S0MDAQGkaYC6e4cBA3X3VTmIDwUD7S71VgSLBQFb9+PTYMcFA5Thy0C9DwUDSsHc1YEnBQIGvY275VcFA4E5ZKgxYwUBZYj34bErBQGvuqWt0PMFANpFTy6gvwUAx5Il7cyzBQJwbhj9wI8FAx16BN30WwUBMb8qExgLBQGtx1zBR9cBAENi+DlzpwEAwtZF5JOXAQL+OO7HK2sBAYlP2XdzFwECjwyII7abAQNuYev9ijMBACCXIckNtwEDZASv8vU3AQAI+j3e7MMBAAOo9q1EPwECmH2YID/O/QGK1EIijy79ANt7jGTumv0ALVtMXr4K/QGLcHaakar9Ae7Cg09hWv0BYsPr4jTK/QIUGZJ6+G79Ai0GrNX8Nv0B4F0L5YP6+QF/RFui+7r5A3BU6QdHKvkCfrV3cPou+QEzDGyGpUr5AMwS+u54PvkAeHehK4cm9QP9Ezi91kb1A9+EojFhQvUAiQO/6hhi9QBcUgwfv3LxAI8yWFga2vEA94WLuUIu8QAEOaMsLbLxAZRUk1f5IvEA3Fjevsgm8QNrB0F3CwbtA10X2JKaKu0B51t5sq1y7QKyg9EJnJrtAQcTxpPn1ukBzBxj3KLq6QFZRjrLmn7pAfCVssQWFukDvWmqOVmm6QChJj+HKYLpA88/0ZpNQukC7wRSM+Em6QJa5vmm2PrpAYZvzVd83ukBwOtgRPTq6QC4cXJVwObpA4eocmVI1ukAl1j+8hCC6QMIGZic0DLpA580k7u/zuUBXbx0wttu5QPi39RWCxrlA8XI/xE64uUBqekVJlL+5QE2rWoHy77lASXP4pC0aukAzyx+ojkW6QGd0uAhaaLpAyJ8neZiMukAU+KYiOL66QFY/992T97pA3IRPRkJMu0A9CDXjpJK7QK4u2LlvxLtAcQf/BmIDvECnQIaDtT28QD/PJsW5c7xAT7+MqyajvEBfA9vEeq68QJI+6OTCvrxA1HDQuNS+vEClskv/HcW8QDUAVv+JsLxAOnVCK2yhvEC/cbU3y4u8QA2y0fGEXbxAIsWv3LcpvEC1XRYy0QO8QCwst+jtxrtAy+xsBpeWu0DBEhWHMm27QN4lOHnlM7tA51abeawPu0B5h2QqCeq6QAMeNu8I0rpAC3mb9gDCukA30TpW3Ka6QPpp5nAwkrpAFTqPB4Z1ukA+S/OXdXK6QKA/nAstXbpArTS/1xtPukDL4cfUaU+6QJpOzqWIT7pAQJOsGJ5NukCtcWbyA1e6QNV0/wnCabpANli2mzp4ukDui0ybJ4W6QHm537fNk7pAoqTehYSqukDESsMtJcC6QGB+BAEn17pAeH4hv6/yukCL5aCn5te6QK/1tCFdwrpAuRunb+ypukDLnYeGeIW6QAlvsJAxaLpAUf2ckCdPukCM7ndQSjW6QP8IYwD0IrpAAL1moFMaukDvrFg0pw66QC+KB8gEArpABQNGU2T3uUBUTrzLSOG5QIUvIpe80LlAKv8JgR7EuUByFUqUucC5QCK1/Em2yblAvGUYVL/PuUCreQBD09S5QK+D0pfky7lAcdcelFnCuUAwtSvGW7u5QKH9aLTLwblAczn/evy7uUCqXcAtpLm5QPdhncXcurlAYQGEfw+6uUDfJXUgybC5QImolU4XsLlAf8rINuOtuUAd04misK25QPPOsgEirLlAo8ZC/02ruUAnWnr0SK25QHWlBSHBqrlAsr+pNQSXuUAaDRqFXoC5QBKxhXg9bblAhstgVCtfuUCeFXKyA0+5QGbkkR3PTLlA100ddTJLuUDkZAVLEUq5QLEJA664RblA/KDsnedAuUCjWlePBj+5QMpvT+ORPLlAAcANFGM5uUC1jjhdZzm5QNcYjdvHNblAFJupUugxuUDD/gp9VS+5QLNa63w/LblATZWr2N8quUDcZci8FCK5QLrSAN1jGLlAAySEXIURuUBSmWTq8g25QC8l2WiNCblA3DIROwcFuUAsJ3XePwW5QMvb1DDHBLlA9p7LcqwKuUBjViTi6wy5QJvwrGhSDLlASIfPsOUHuUC3VXJSlwS5QJhZzOjnAblAQRpZnkD8uEAQLG2IRPa4QIZlaImSybhAogzMSMyduEDjENEtrnC4QJ5quce1R7hAr4mWZtYauEDPB9UJrcC3QOmqOnW8XbdAop1iq6QLt0Dxm2vjqau2QG62jnpRVLZAB6fNZSjftUB/eWDeKIC1QFfp3sHaGrVAr+zf3sPJtEAPmE5ZGIu0QOEYmQlFUrRA233Z1SMKtECEs8PnrNGzQGfyk8QFkrNAEo0yfMpOs0DE9Ox/PxCzQB+me9Sn07JAi/rmR7KCskD/ycGjDjWyQC2an04j7bFAvvCjkI6wsUDL2vWI1HCxQI3fdt4fMbFArdpBJCj2sECdI0A34LewQP4UAZ7ierBAq1czBq5CsEAY3zEzKQywQBjUkU900q9ADicNwMysr0B4tG5QTIKvQHH5DU/jd69AKDOOGk1ir0C2UE2kG16vQKp8PcGAdK9AeDVQR7FZr0CBedcT4USvQFRcQbY+Ja9AOKf1c+f3rkC4RHcRO++uQO9Gvv3o1K5AdOGQIfXBrkD/r+c8u6WuQD+5x9Swl65AqWucIyyQrkDKwIwm8YGuQP9dCB3GfK5Al+9M2xJxrkB6+sgklYGuQBz2snjVia5AtpYoyn2WrkAK5ygTHaOuQOvKEQZagK5Adks/5aphrkDR6VFT4EKuQF6Jr0EkHK5AcNNdymwGrkAPWQpPHuutQEa2Pib+0a1ABnYSQ2y7rUB3j7xmz6StQESHlM7gmK1AUb/Obr17rUAa3+Se0V+tQF5rbBfrSq1A1AoD1gkyrUBaU1N5PB6tQNMhPJBiC61AMBSMmUL4rEDhZ57lsNesQDHONJXCuaxA7xun1LScrEAkHua0xYOsQNGCiDWHaKxASgsV9w1QrEAFMymiRT6sQBswo3uDJ6xAS09FjA4SrEBEI6z9Pf+rQIKByS3+5qtAmD/bI7XOq0AbeVay3dWrQDXzh7g33KtAGgERXMXeq0DKUV+HZeGrQHgrTmVF5atAKR5JPfblq0AdszoohuarQA3h/joq6KtAazmdkinrq0AAnjbG/ParQKmNHWPYF6xAQIpvBzo5rEAK9U3E6V+sQKHb5PNIfqxAoma7dGGerEArxw9uC9esQL6tVaTs26xAoBU5vzDqrEATDd7YWfasQKcygf7yAK1AS3HLJf8KrUCcksFl7xStQPi7rZHnHq1Aa/yMhXQerUCcY0/8bButQFk5PGrqJq1A8oWhnEs2rUC3ZccRDUatQIliUhb2Uq1AXq1NMqZlrUBcdNInMHStQDJq6pxIfa1AS3EHQmCHrUC9Qkg5k4+tQNr+aFlGmK1AgrCGxfmxrUAVKj26k8etQDu/bSjb2q1AoK8/UFnqrUA0ocIM+P2tQHL0YqevE65AMGAX2rshrkBed3f3PDCuQKUlPc00PK5AhaSUyp9HrkC9tQtTiEuuQE61M9CkVq5AlwOFkN9jrkAGPYiBunGuQAyAxafqh65Akdk20A2crkBZHwjvubOuQEG7RxRKCq9A83Evayd2r0C1ZCpRmeKvQLzGeAR0ILBAh3JT5AJTsEBTbhnu7ImwQODbT33dx7BAcjCiBGsAsUDho/pCtzKxQN67qAsNZ7FAJ7jwFAmIsUBUggwzwqmxQMcUW+TeyLFApQlvys7rsUDzRXUtrQayQEWAqH0+KrJAM5YMmzNLskBRH68/H2uyQJYHRuT4jbJAYbsKwzevskAwZbSvUcuyQEb+Hy2v87JAJVbcMZoas0AfWeNyJjmzQFW2ca68R7NASZ3RIFpTs0ByjhcZ2l+zQCk9i0PcbLNAECYiZfR1s0CzzDMudIazQKJJmcvTmLNAtV267Caus0DHuZcaQtSzQPUBjbPm+7NA0sPqPS8etECqp/z+RUi0QB+BPT66a7RAiwO7f3qbtEDV84ezoM20QP0BzrP0G7VAZbafM3WCtUC+iZSmbty1QJV12j7AZrZAqJaGxqzntkCMO9AAG2C3QALjGF5Mp7dApkvTRBDyt0BqIIAFUVy4QO6VuIlMw7hA9D4MfisiuUCkEDoNdHi5QC7JUKSnt7lAQhmGuon/uUBLLLBAN026QPef1CN/l7pAS0n3QUsFu0DmKRQzS2+7QIJeKLb7z7tAusI931kpvECsfdFmg2a8QJ/jPNvbr7xA5YDDgd72vECi6++xkD+9QMbx3DEpWr1AHBX98B5jvUCK09ItznS9QM8fvfIcg71AIaoip22cvUCGdHjJza69QO7FYaWrsb1AD3LzKFTJvUCCfOONOd69QLv9a7N//L1AbpxKqN4cvkCQZQVSXFW+QCnG/dCuob5Afz56oHHuvkCkqNlGND+/QCFnMIrgfL9ApPL9VlzEv0DJ3qiBLRDAQAvqwn1rVcBAk17jwD+XwEBGiD4VhNjAQIT1OkdfIsFAWk9WskGLwUAQEriJo/nBQL6KCF+GMcJArupvTImIwkBxWLcmGdHCQETaVtQo+sJAjYxPtMQSw0CgLUDrzz3DQNTfAkiFesNAEYs48LCcw0CTFoGHNbjDQHNltYkB2sNAe6FEXaL/w0Agpegld0bEQEeQLW1MksRA3b0n8AW/xEBG0KEVy9PEQJNx3I+n78RA8d5Q2/P8xEA1gxqHMOzEQPwljQbn7cRAZH+ECPXIxEAMIPOc8K3EQFskkojFqsRAye4VfIepxED6hLhEXKvEQPhxHbYBq8RAYivwEJ6jxECkneOkE4nEQI1sPHlQfMRAOiQ6B/pmxEAD2au9613EQLwCj4JoQ8RAlAJFOVsrxEAWyaLplxPEQMvw6eqHAsRAASuCrRn7w0B4N/0VHwDEQH9zt76mEcRA8bE5iCEcxECQz7uAyEDEQOf23D7wZcRAwzCTnSCDxECvZADqNK3EQFJjE8sw0sRAYd5Jn1r0xECCxMrgIQTFQOcWrwXOFsVA++LrQS0mxUADGcvxXR3FQE8qmYQx/sRA8lQl9mHxxEAdjnvIz+bEQLt0WuP82MRAuDTqKnLQxEC8Yw0dG9XEQOyJra3txsRAjrx3EWu4xECnOJdSE6zEQGBe+b8fp8RAkgq368SXxEA1FNRkCZLEQHfbVd4qjcRAYh8PrUWAxEAyaAgL72bEQGogO0yCS8RALKA4+2c0xEAIPM2UFCDEQFGmCm+IEcRAXEDifIkVxEAa7aU6YR7EQK+DpSFpJsRAxbp1lLYxxECg0oVy1zDEQNEriuuBN8RAuLqb9MQ2xEBkLA/CozXEQPlrn0bhLMRAMhuyZaMlxEDAPP6C+SbEQEYCXqxeJsRAX3MB4v8mxEAv/tiTMifEQNgDOhAVJMRAHMmVoashxEC54F9cYBPEQCM0G/xEE8RAZYr2u+oNxECTnrLRAQPEQK5fjiZL+8NAVHGt0HLsw0AUVmR4tbzDQJs/gA8UjcNAzX2dDlxVw0DQZkEupyTDQBbhCY1m98JAaPR5rI3BwkBj8C2odpzCQFzWTVb3ecJA+xk98GBawkCte0bMhDTCQBsiEEhAE8JAiM609hfywUCTF1dptsvBQPj4CNHtscFAsx/6rXyXwUC/1OvPkovBQH/7LwFUhMFA41wstPBxwUCBWsY3ImHBQE7gceujT8FAhvm1/GZAwUC9yAkPUy3BQIBZgmv0FMFA2/prkq4BwUC0T4FsKezAQIA1yTcA18BA7MAO/+TLwEAizPbBKcHAQG0sQOvKr8BApWL63uKPwECUxNgQNXLAQAzF0MMylcBAncRBQS6rwED1xWqgxMrAQGhtZk5X4sBA6iX/wNjzwEBbblhYiP/AQBsPWJjUCsFAQqfnlOYZwUArk3l9+yjBQGMfII3/NMFAaINMFQ9GwUCFlvPpNFTBQG5O3EOaYcFAhW49XTJqwUBn3kN50GXBQAqFE9t+ZMFAGXuJhCFowUDjR0h4O2PBQIUmRCiXYMFAKf+oBl5awUCkSHLQsVDBQEpUhPRPRcFAH3ETNCs7wUBl07+JLDHBQKBU7UD+HcFAvk1kMhkLwUC+epFcZfnAQNEJ2QHj2MBADZ8zzIWywEAJn7Q7qYvAQM5Mqim5VMBAgOoQJHQxwEBEcAwwrA7AQPdedR179b9AhfcTwQrNv0DsmGqnRLe/QJB1HxFPib9Afv70+xNjv0B2sMdq7je/QBeOZv3cBr9A6RXfL1vcvkDSpxBnt7++QLKTHAnErL5ASL3zVJ2UvkBb3s+9+oK+QAZ0xTB1aL5A8JatUXlGvkAP69i5NyS+QPt4UMtdB75ANNOMPwHvvUArPNXc+cu9QNo3UAs2q71A3O3Fs0yCvUC1zosxEk+9QA8T5OCjQr1Ag34z7R8vvUAkLj95Dx+9QHdUMTywDL1As3BoQm0TvUDdLpml7wy9QMHW3lOKAr1AmGdAh+7zvEACfDIWMue8QOek+pBu3rxAKCZxX+HZvEAIDlxLodi8QEAULA9I0LxA6HhQ9g3GvED2joduT7e8QO3nCXPWrrxAzBDZv1uuvEAJhnd+t668QKxytSlYubxApna7+0bXvEB6NMqkqg29QF3jToZmML1ArTirYYs/vUBCj6DUxWG9QBOH4C4+fr1AKyieH6ucvUCEigKUPdC9QPTazMDdE75AQzQxBDxTvkAp49t5m4m+QEGQltlsx75AWVPOnzUOv0DfFwsO4Da/QHon69ojXL9AgElFecqDv0Ck+Ogc2p2/QKwAFWmArr9AWMm9VNO5v0AqXhT2icW/QNjIH5H+4b9AWFawt/cFwEBRhAbj1SbAQJma0EUORMBA8JLk0J9gwEBmhMur93zAQD8CAtR8lcBAaJT6JkatwEBimXTteMLAQIBCXXp51cBAo9rggnTywEAS0QJ36RDBQDvobmd9L8FAKQ4u5flUwUAcA2N99XnBQB2pOa3zkMFAdBkxhQa4wUDnH+oRktzBQHPM0oHA+8FA1Qy74wgZwkDFaxTguCzCQKCEngwdOsJA/wAC7GVHwkDtZ7YptV3CQIeXLbNNYsJAc2RCYU5qwkDdTI2k73HCQLMzBPf3fsJAKXND8p2HwkAfopzsi4nCQMpMQDvpgMJAMmTj+wltwkDWW7y0iVrCQHUsRB7gRsJA6mx91+MwwkBDzhkRFR7CQJAh5WfDE8JASv4ML4sFwkCJcgiMRP3BQM0gm99B+cFAdSndtVT2wUAYlXe3IenBQL0fmd/Ew8FAx1oD25iiwUBIedOxLoLBQIgYCtCcW8FAVqy01UDowEDoG6Cw/5HAQKWuL/NDNcBAjq694wG7v0ABtwLvsgq/QMHHf2FFdb5AmgTxN4jnvUCpsBRDhZS9QMaKOXtwRr1Akdik+6MCvUA1WWf/56u8QKI/34tYebxApogjG3pbvECeRjY0rTu8QOIqxSPZILxAsXx3ioHxu0AfvlXC3bu7QAhCUJxzf7tA8IVR+EZbu0CLj+qXzTW7QHvQYNjBIbtAFby3lCIZu0B0/xzj+w27QHC6YoWlBbtAsSV+hPIHu0COvMkbCiC7QB60a5eqLrtAD4mJbC1Gu0B0KUd8rk+7QBtx9mXWSLtARnm8+QtAu0D3z9QrBjC7QH4SealgKrtAwBiIgkwnu0CVj0ccEBW7QG86AhFTH7tA2gF4IrQku0Cwnamzlza7QILK+yP1QrtAqgh26ek6u0Ai4lfTvTS7QPM9LD2HPrtAibMKvepbu0CzTRnjGXm7QEOAv2qAlrtAoVlWlFe9u0ABOYxBV9+7QCq7LOxhCLxAj0YitTV6vEDlxbM/cca8QLhef4UKGr1AJUxc9C95vUBw730tDbu9QA6TJgWyDb5AOq8rDNtYvkDkO7FRua++QGhaH8uGKr9Afs3kHrGUv0AYxDRR5a+/QMUbR0A1079ANd7TM4Hrv0BEL0b5lAvAQGGSLhwlK8BAoUIWEk5MwEBx68iR8mfAQKgGOHMKhMBAyzTLC0+swEDji73uZ8jAQBkxkFzc6MBAPywFcSwAwUA146kfZArBQJYi1RYUF8FAI/ROVc4jwUBvldaquyTBQOf6CjheKMFA30L6zHIqwUAwUUQ7hDXBQKks80APScFALuSdnHNZwUDgmgnIuGzBQCuYxNWmfsFAGWcKCRifwUARDFcrY63BQIqeOD4Gv8FAvab3IvXSwUBUZbpZ4eDBQIf9ajTV78FA9NJu1qv/wUDxkVnL7QzCQPSq3ZpJHMJAjtUGNyguwkCmAAyEAi3CQKddykWHMcJAIZqLJBk2wkDgX9TQ9zHCQH8PnHUqNcJA+8h9ggU5wkDR77tPEzvCQOECWoPxOcJAL/gJQRY5wkB9bIpA0TnCQBQUOXHCO8JAj94roehFwkDm/itwUE7CQDMVgFihRsJADa/KgHpDwkBYHwlK5D3CQO9wrF4NM8JAw4Irz/YswkADV+1osSjCQN5c4PJ3JMJAXk/01g0jwkCJmZWujx3CQC2QTYWGF8JAk/jsh5kTwkD3j4Mb+w7CQDIbWiX0D8JA03zlrW4QwkCt3BcFVxTCQIjRzrXGE8JAd7V/WcoUwkDALtAvJRTCQL3yOxtuFMJACWxAuGASwkCiAE53DhLCQK9fi1p7EMJAA62I6IQMwkDWHPlnCgrCQGDscttRCMJAF9aAt8sGwkCCWQBXSwXCQIJrU4niCMJA+5fqROMQwkAZGYrARRvCQIbC1p1KI8JAHYDpYXguwkAcPUdCc0jCQElizNeteMJATeULG+CiwkBjLxybr8/CQM6ZFby4+MJAWTHc04Ynw0DXu4tpyE7DQCIyLwaVcMNA8/woppuXw0BlcIWWiLrDQGdFzrnW6cNArj+st1sYxEBTVCuCAj7EQO7zY3guZMRAtVO9Gb6QxEDfWJl17bXEQDBA/BcKysRAbfXs5hbkxECqtSLxggPFQAeOYlinIMVA5DstcZs/xUDlmSiQSVrFQPMo5FUEgMVAEmsOkZuVxUDhngiO06nFQJRbbcwewMVAaHd8KVnLxUDGQbReOdjFQHv824lh5sVAnfMQJM7zxUAwk34ePvbFQLjjGj7U+cVAycc3shH8xUDFIuReCQTGQM5qFYz8DMZANnRoJKkXxkCE/bQ+wCLGQML1N4InMsZAGfjVIR0wxkCECUTmLQ7GQC9b4e069cVAenHxporWxUDJhl53tLnFQEH6G/BgocVAOHc2MEOGxUBQowhGhW/FQNfKowZ4XcVAvMcKAwlNxUDkZpq65z/FQJSR7Fm/MMVAKNSkyHEtxUCTd4U5wSvFQDQvtwfILcVA5TAQcpEvxUDQIa6JJjLFQEZbmXJ+NcVArIgsKGI4xUBQpuS+lSvFQHOHZ6fIIsVAjGYP2EMTxUBd67e//A/FQCRPtURRDcVAMW9wxJUNxUBtoBaD8hDFQBQoprRdDsVAQCcTPnUNxUACaIJqOw7FQCqdeGaUCcVASIw54usDxUBEQUK7hP7EQPxuW8BK/MRAR+ULuv78xEDuX6pe5vjEQPbXxzjv9cRAGeygAq/7xEDN5oyFpQTFQKRO1R4GFMVAhX6uWwAlxUDqkenFyTfFQDFCv8AER8VAtxpDiXRVxUAfinvZNWbFQCfUoaLacMVA0D6KiQB8xUA5+JzyuojFQAlwV1PRnMVAm/SM2cq/xUAaxGYoR+7FQAITBxGFIMZAr8SEznZOxkCBo80hxITGQMrrKlc1ssZA+R64XHvdxkA6W2zRBhjHQOjvekaYQMdAmjwgHFFsx0A522J2bZnHQL9K/1SgysdAxnFZawn2x0BS57uTphXIQFvM9qe8P8hA87nXe3Z2yEADnKOBjs7IQJi6TMbOIMlAHz6TwgxZyUBmAjFvqaDJQH2qfuwd4MlASRnXDysbykCrFmkvrF/KQKc578jir8pAP6U0Rcf3ykB911hFwzjLQGE1yC1Kd8tAlk9sSMLAy0By3BF4wyLMQKlBzZxCg8xAW6bA/VjfzEAq24GSf07NQEHKWB8cs81AsNZSPiQQzkB2G8jHpmTOQA4zFpjWy85AL3VucpsJz0CMWJvZJC7PQAm062AiUM9AbEDxHeyAz0BEa55jyMXPQCbF5lDwENBAnX0M5z0y0EB/l3H5u1PQQAHfBSFid9BAdFQhbgyR0EC7BEv7fLDQQAZ4eOsj0dBAoTsNfhnt0EBXesmYl/nQQDUq8bu7B9FAOUYDIzsO0UAilHkiehbRQKijnb3zKdFAmd3trK1A0UBiOSHLtFXRQLA2xfT6bNFAcMZ195Os0UDtuXONH/DRQA8r3TIjMtJAL+ZHH6x80kDvkcZ43MPSQJfYGGlu9dJA7nz1vmw000BxSHjeUWfTQONEohWEnNNAm0oT4o/e00DJ/Vgg4zvUQM7aGmkEi9RAG49mS7/X1EDeZTWV9DbVQK1ukbi6ntVAd8J/SC8E1kCf86sIKWrWQMKMiVTUBNdA8L6uziaK10BRfasV8uTXQINUEoVDfdhAdLNHadAu2UAqxkRXS93ZQJDZ8Ybdp9pAyOLdgYRl20CSrMbXj8bbQPHEI+/XKtxA3DTzARF13ECBZvWGJu3cQCUCcMr/Yd1ANLRtxDzB3UAjiV/9WRDeQLC8FEZWUd5Aokq/oV2c3kAQJ1YRydfeQBXULUZbAt9A5HtbE4n13kCMslBq3AffQKZBTUJwF99AOqd3tiIt30AtJzwugC/fQPN6Ih4KKt9AZDLWA4oU30CgzOcPECbfQDp+uVjcR99AQI3v8X1o30AthWV25H/fQJSc+aggmd9AIa/5ZazU30CXRxqlUg7gQJ0XIOyNK+BAWT6FhPtV4EA6/kO7en/gQM3nkpiUouBAK9bzUAH74EBgPuhY2k7hQO0OOroEkuFAvMhELtri4UAvUjam1S/iQLZEbFkpd+JAQipLxzi34kBYyWGZmgTjQPSRTYmpUeNA93MNJ7Kr40AgoZwJvfvjQF7J+exeZeRATnV74XXK5ECjDsH5minlQF8ydHb+WOVAbtdCiP595UCuB2pf3ablQB6Op8BSr+VAj/nslgG95UA57gZeCr/lQI324QACxOVAHApzrSzo5UAOpowFOALmQEgKYE76J+ZAywExxDg15kCftQZBpkrmQEN7bn8sZeZA8Qxdh4iI5kB0r1XCrMLmQLOeDBEc9eZAyjSld34050CPIhN2VHnnQLjEnm8pt+dAiaOrRDoR6EA0Mxml+VvoQGkXMukIhehAhX53Pmar6ECM1yKIaufoQNnxqlCXGOlA4qbBYwpI6UBLLWgFy2zpQMz3AbJclOlAOPaqIC6j6UA1FcHZna7pQAku4IMQrOlAwRX+CyCj6UBjIabKdrXpQNFwoAdbzOlAg/aDsyLe6UC6E4auQP/pQOeAV4mHJupAoQNWn9tM6kDIGNcXmW/qQIZ/MUEtlepAVMunUSCo6kA6dNO5hLvqQPGClohI2OpA9GuRtFXr6kDQ2mtoOvHqQBiICen6BetA2orXHQku60AwAoVvbEvrQKHvk75YaetA1Dg3ygGJ60A5IJjshMHrQMLAR8NJ7etAawlUWY8N7ECjx3iJ8ynsQN5vd8q2FuxAsx0GssYN7EDuVbDRxf7rQCJo4yjP+OtAEZpkh1Tj60BNaHA5XKrrQFPJsP1Gg+tA6JZf2MxT60BZo10kCzrrQFcDKDvaLetAJzqEoFwo60AIXhrQHhrrQLeFkOWkEOtA+oUf6ZEh60AATHn49THrQBbguJVaQetAqXWoA6BB60AZDtmstzjrQDHSEOq0QetAw9Jv9iRC60BXZzeTlVLrQKNRnyewYutANG9W2yZ560BeVETQ03LrQAenK4V5e+tAkjM3hwBS60BFD1MvRiXrQAeX+NPO+OpAYqYyDfTF6kCmKy91SnXqQCgpJfKIKepA+qHIBDzD6UAf//7Ju1DpQNMIcpOSAOlADFKym4ud6EDgvtoCbT/oQCxhL/P91OdAjBt2YBGO50AwKbbKMU/nQAV+FL3gEudAwlXvryjM5kA1+LFOhn3mQBLspmPdK+ZAZjgKhvTd5UDUB7++mKTlQGrqPSbkbeVAQirobKFD5UAJ7ZKGBBnlQJCl2CGm6+RAz5uLIne35EBkZDZOeYvkQCofXS22SeRAyEz515IM5EDfaIZlPe7jQFhks5vI0ONA0f8cprKq40BnGKPyZIbjQL6LNLRegeNAbaxbjImF40CdNhyZnofjQJ9dBFcmf+NAIon3Hehw40D3IzpkhlTjQHrY7i10OeNAu2CHqLgU40CiebUQuujiQGweh+GHvOJA7CbEChOb4kAhAKPPSIPiQDWWXuMkVuJAwLeawXEw4kAMAE7jwBviQOnVSR7vC+JAPSqmLED84UAVAiVvbOrhQPvR4jW+0+FADoxIEGzA4UD3JCfcMLXhQEUiU5qCpuFA5ld3uuKb4UCXwBhCS5LhQF17HRc7f+FAiWt5XRpq4UBgzPOxtVvhQEZT83HfTOFAZ7Gbr9pE4UBrUi+h2zThQCfC+39PHeFAYAHwOj4M4UBsvQe/ffbgQHP7QvGM3uBA4EvL3vTM4EAX38d29LngQFR8nzslmeBAl3JQtip74EBXVKPRm2/gQC3T2/i8aOBALZkg53hp4EDqw1BMRG7gQPTOjO16j+BAUF2YBmOn4EAr5lZIS8/gQL6oIUdb9+BAU83xQ6Ab4UCAsaCzD0/hQPpTdxtkfuFA10xVINqZ4UCnb/XEA7DhQIFIN3pcvOFAfTcBiO/R4UBmJUTpUPHhQC0HjBo/IOJAQvdicRtU4kDNBVG5hX/iQB2tZBqIu+JAgUE2Py/v4kA3V83oBSDjQE7V756kS+NA0GZV7QuH40Ah45D7XLfjQEJ/6/Ov6eNAnBgLxMER5ECMDbwPMS7kQNBpWoA/QuRASk/wyk1q5EBobDeJGqDkQJkzxP9uz+RAEH/INpEG5UCotChDnDTlQMPIgKJrVeVA5oGh23Bz5UBXXMAuTIjlQKcIZPzcq+VAGaRNPwPH5UBzXpkfkd7lQAGaWanE7uVAkCB2Csb+5UBZ/ScK3xnmQK9g/3bDOeZAMNBlo/RZ5kB7UoZYHHfmQO+dTInsn+ZAU9dbOj3M5kDo9kdUs83mQMlDycQeyeZA6T+DRDrH5kCCqGvRYbrmQDuJlxrDseZAEJ73LIWu5kB/zTqj4KTmQGca8qeQqOZAjwr5uB+25kCScxgVacHmQK4d9aLIzeZA19JUkhPW5kB86i6ZJc7mQAFyBAuPr+ZAALKZXPqO5kA61w20t3/mQB/Tm4TqcuZAwt4WJK5b5kAAGtFJYkLmQEHEOs5NN+ZAuAAgCvEi5kD0qg4N5wzmQD6Le8ofAeZA8j3wudj25UBEa5tslAnmQNDvO5x0HeZAzNq0+TIv5kCEV34Y+UnmQBlfaVWkcuZAobmL6buz5kDZ/PtSmOjmQJgt4ns0IOdApiiOgg9d50ArysrVs5rnQDJRULhy2OdAZ155FDoM6ED9lGyYqUroQL9CGGkPkehAUFul7q7i6EANVEyqyynpQMLYwiITd+lAxiY4UmbA6UClxmoeRRHqQK85PwqUZOpA5vafaeSk6kD/D+RL79PqQJ5QrA8y/+pAmoMqE5kv60BdlNU+CGDrQNrrr69+hOtAiyKr7yOW60CUxV3aD7rrQF8lluWS2+tACydLoOb660BqvnKeFxLsQJr/miqULuxA7SqNAdhS7ECTY5Htc3TsQKudDQFvh+xAhT8YtpSb7EBwWZlYoLXsQFHyH4tW5exAYoWE/3cl7UDy4HMy/lTtQNa2ve0Mdu1AJ1NS7S2V7UBTXe2p16rtQIYrV1yFyO1AhICc+lrq7UCiQxnkYujtQMHp5NWi3O1Ad18NoxLT7UBEro9h5rHtQOHIjoAroe1AKb/IWqGV7UCjGv+7YX/tQLA9XoXNY+1AD5GPJk1K7UDzca8H9TXtQNj8kur8J+1AFeeRQ0sB7UC1XkoJt93sQNm5kIZz0exA+ZFcRBm+7ED6BTqYf6/sQF4A9DPAouxAH9JV2GyV7EBYYka0l0bsQJE3f8yrCuxAVBMot7zM60DgGxXo86HrQEu/qyMndutAKAfpiOpN60B+INtePRfrQLRq/WpL5OpAgh3YuPy46kCLtKp7C5LqQDwYp2r/WupAMg3wgFIx6kCsqI5axAzqQPKCelmS5OlAOmXigsm26UA6DQFYzpLpQOVtxPRfaOlA4mw2+fhP6UBSZKoOmzvpQJ6QTS4sJOlAEfaKV+Ig6UCuO9VS8xzpQM+ws2H4EelApULTnqwO6UAhP26atP/oQBYpd8I36OhAFK9Hd/7J6EB1L2P5HrHoQDIPUJ34mOhA49BlkYaB6EC9qQ7dZWvoQELmCn3eT+hAyz9SXfY26EAQFCEnNwjoQDVWGQl60+dApgs9Bsai50BTh8QxYHPnQGD2qs6KSOdAkKpHMM0g50ABcg17pP/mQJS+m+5D5+ZAk1nlrLfK5kBOnQwMebDmQASs0Ripl+ZAFqrKlfN95kCKXlHs0mHmQC+SUmjlROZAdG2pjWsq5kDas5H/NvzlQKUs3AT3ueVAOs4hIn555UATSxN3vzrlQA66U53HBeVAxo1KDBDf5EB2M3l6367kQKWpuSJBiuRA4ztVj+1q5EByqywzvFDkQMHE/GEGMORAU2JSiosb5EBlz67K5AfkQG/jM3RM6+NAYewwfD7U40CIpVw3A9vjQNQjBQjG4eNAhJYqlebw40A2CCn+Bg7kQA==\",\"dtype\":\"float64\",\"order\":\"little\",\"shape\":[1871]}},\"selected\":{\"id\":\"1093\"},\"selection_policy\":{\"id\":\"1111\"}},\"id\":\"1092\",\"type\":\"ColumnDataSource\"},{\"attributes\":{},\"id\":\"1343\",\"type\":\"UnionRenderers\"},{\"attributes\":{\"axis\":{\"id\":\"1024\"},\"coordinates\":null,\"dimension\":1,\"grid_line_color\":null,\"group\":null,\"ticker\":null},\"id\":\"1027\",\"type\":\"Grid\"},{\"attributes\":{\"source\":{\"id\":\"1057\"}},\"id\":\"1064\",\"type\":\"CDSView\"},{\"attributes\":{},\"id\":\"1088\",\"type\":\"YearsTicker\"},{\"attributes\":{\"data\":{\"close\":{\"__ndarray__\":\"KVyPwvUAjEDXo3A9CtWMQBSuR+F6x5FAZmZmZubCpEAK16Nw/TywQOxRuB5FJMVAH4XrUbhmxEAAAAAAAF7FQAAAAAAAIsBA7FG4HgUOvUAAAAAAAGe7QHsUrkdhc69AmpmZmRm6rEBSuB6Fi53GQIXrUbh+pcRAKVyPwvXTwkBSuB6FK8W+QI/C9SgcyrxA9ihcj8JdvEDD9Shc75TCQFyPwvWImMVAhetRuFY/7EDD9ShcB9brQD0K16PYMeJAAAAAAPhT50ApXI/Cne7lQA==\",\"dtype\":\"float64\",\"order\":\"little\",\"shape\":[26]},\"index\":{\"__ndarray__\":\"AAAAbjSTdUIAAMCL0511QgAAAC1ks3VCAAAAGifWdUIAAIDsrux1QgAAgCgIG3ZCAADAWf8bdkIAAMDwSB12QgAAADazLXZCAADAlVhKdkIAAACtL1h2QgAAwIn+gnZCAAAACoyPdkIAAADQnsV2QgAAgFOQ0HZCAAAAM6jgdkIAAEBrgvd2QgAAAGJxFXdCAACAW6kYd0IAAMAdPTd3QgAAAISqUHdCAADA/qWSd0IAAAAwnZN3QgAAgMcBrndCAABANDfEd0IAAICuF+13Qg==\",\"dtype\":\"float64\",\"order\":\"little\",\"shape\":[26]}},\"selected\":{\"id\":\"1311\"},\"selection_policy\":{\"id\":\"1341\"}},\"id\":\"1310\",\"type\":\"ColumnDataSource\"},{\"attributes\":{\"click_policy\":\"mute\",\"coordinates\":null,\"group\":null,\"items\":[{\"id\":\"1090\"},{\"id\":\"1126\"}],\"location\":[0,0]},\"id\":\"1089\",\"type\":\"Legend\"},{\"attributes\":{},\"id\":\"1047\",\"type\":\"AllLabels\"},{\"attributes\":{\"fill_color\":{\"value\":\"green\"},\"hatch_color\":{\"value\":\"green\"},\"line_color\":{\"value\":\"green\"},\"marker\":{\"value\":\"triangle\"},\"size\":{\"value\":5.477225575051661},\"x\":{\"field\":\"index\"},\"y\":{\"field\":\"close\"}},\"id\":\"1313\",\"type\":\"Scatter\"}],\"root_ids\":[\"1002\"]},\"title\":\"Bokeh Application\",\"version\":\"2.4.1\"}};\n",
       "    var render_items = [{\"docid\":\"b82598d5-3591-41c4-a98e-1b64cffb1466\",\"root_ids\":[\"1002\"],\"roots\":{\"1002\":\"5f819f30-702d-4c44-9ff1-cb96d181ca1a\"}}];\n",
       "    root.Bokeh.embed.embed_items_notebook(docs_json, render_items);\n",
       "  }\n",
       "  if (root.Bokeh !== undefined && root.Bokeh.Panel !== undefined) {\n",
       "    embed_document(root);\n",
       "  } else {\n",
       "    var attempts = 0;\n",
       "    var timer = setInterval(function(root) {\n",
       "      if (root.Bokeh !== undefined && root.Bokeh.Panel !== undefined) {\n",
       "        clearInterval(timer);\n",
       "        embed_document(root);\n",
       "      } else if (document.readyState == \"complete\") {\n",
       "        attempts++;\n",
       "        if (attempts > 200) {\n",
       "          clearInterval(timer);\n",
       "          console.log(\"Bokeh: ERROR: Unable to run BokehJS code because BokehJS library is missing\");\n",
       "        }\n",
       "      }\n",
       "    }, 25, root)\n",
       "  }\n",
       "})(window);</script>"
      ],
      "text/plain": [
       ":Overlay\n",
       "   .Curve.I          :Curve   [index]   (close)\n",
       "   .NdOverlay.I      :NdOverlay   [Variable]\n",
       "      :Curve   [index]   (value)\n",
       "   .Scatter.Close.I  :Scatter   [index]   (close)\n",
       "   .Scatter.Close.II :Scatter   [index]   (close)"
      ]
     },
     "execution_count": 95,
     "metadata": {
      "application/vnd.holoviews_exec.v0+json": {
       "id": "1002"
      }
     },
     "output_type": "execute_result"
    }
   ],
   "source": [
    "exit =ema834_plot_df[ema834_plot_df['Entry/Exit'] == -1.0]['close'].hvplot.scatter(\n",
    "    color='red',\n",
    "    legend=False,\n",
    "    ylabel='Price in $',\n",
    "    width=1000,\n",
    "    marker = \"v\",\n",
    "    height=400)\n",
    "\n",
    "# Visualize entry position relative to close price\n",
    "entry = ema834_plot_df[ema834_plot_df['Entry/Exit'] == 1.0]['close'].hvplot.scatter(\n",
    "    color='green',\n",
    "    legend=False,\n",
    "    ylabel='Price in $',\n",
    "    marker = \"^\",\n",
    "    width=1000,\n",
    "    height=400)\n",
    "\n",
    "# Visualize close price for the investment\n",
    "security_close = ema834_plot_df[['close']].hvplot(\n",
    "    line_color='lightgray',\n",
    "    ylabel='Price in $',\n",
    "    width=1000,\n",
    "    height=400)\n",
    "\n",
    "# Visualize moving averages\n",
    "moving_avgs = ema834_plot_df[['ema8', 'ema34']].hvplot(\n",
    "    ylabel='Price in $',\n",
    "    color= ['blue', 'salmon'],\n",
    "    width=1000,\n",
    "    height=400)\n",
    "\n",
    "# Create the overlay plot\n",
    "entry_exit_plot = security_close * moving_avgs * entry * exit\n",
    "\n",
    "# Show the plot\n",
    "entry_exit_plot.opts(\n",
    "    title=\"Bitcoin - EMA8, EMA34, Entry and Exit Points\"\n",
    ")"
   ]
  }
 ],
 "metadata": {
  "kernelspec": {
   "display_name": "Python 3",
   "language": "python",
   "name": "python3"
  },
  "language_info": {
   "codemirror_mode": {
    "name": "ipython",
    "version": 3
   },
   "file_extension": ".py",
   "mimetype": "text/x-python",
   "name": "python",
   "nbconvert_exporter": "python",
   "pygments_lexer": "ipython3",
   "version": "3.7.10"
  }
 },
 "nbformat": 4,
 "nbformat_minor": 5
}
